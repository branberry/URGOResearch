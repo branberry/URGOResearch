{
 "cells": [
  {
   "cell_type": "markdown",
   "metadata": {},
   "source": [
    "# Both ends fixed scenario from class project, Sauer first edition, and Sauer second edition"
   ]
  },
  {
   "cell_type": "markdown",
   "metadata": {},
   "source": [
    "## Constants definitions"
   ]
  },
  {
   "cell_type": "code",
   "execution_count": 1,
   "metadata": {},
   "outputs": [],
   "source": [
    "L = 10; % length = 10 m\n",
    "b = 0.1; % width = 10 cm\n",
    "d = 0.05; % height = 5 cm\n",
    "E = 2*10^11; % Young�s modulus for steel = 200 GPa = 2x10^11 Pa\n",
    "I = b*d^3/12; % second moment of inertia\n",
    "rho = 7850; % mass density of steel = 7850 kg/m^3\n",
    "g = 9.81; % acceleration due to gravity = 9.81 m/s^2\n",
    "w = rho*b*d*g; % weight of the beam per unit length (will be our f)"
   ]
  },
  {
   "cell_type": "markdown",
   "metadata": {},
   "source": [
    "## Class Project Version"
   ]
  },
  {
   "cell_type": "code",
   "execution_count": 2,
   "metadata": {},
   "outputs": [
    {
     "name": "stdout",
     "output_type": "stream",
     "text": [
      "ErrMax =  0.00000038484\n"
     ]
    }
   ],
   "source": [
    "n = 1000; % number of subintervals on [0, L]\n",
    "h = L/n; % discretization spacing\n",
    "N = n + 1; % number of unknowns to be solved for\n",
    "A = sparse(N,N); % generating a sparse matrix\n",
    "\n",
    "% Define the RHS of the system\n",
    "f = -h^4/(E*I) * w * ones(N, 1);\n",
    "f(1) = f(N) = 0;\n",
    "\n",
    "% Creating diagonals of the matrix\n",
    "for i=3:N - 2\n",
    "    A(i,i) = 6;\n",
    "    A(i,i-1) = A(i,i+1) = -4;\n",
    "    A(i,i-2) = A(i,i+2) = 1; \n",
    "endfor\n",
    "\n",
    "% Left end\n",
    "A(1,1) = 1;\n",
    "A(2,2) = 7;\n",
    "A(1,2) = 0;\n",
    "A(1,3) = 0;\n",
    "A(2,1) = 0;\n",
    "A(3,1) = 0;\n",
    "A(2,3) = -4;\n",
    "A(2,4) = 1;\n",
    "% Right end\n",
    "A(N,N) = 1;\n",
    "A(N-1,N-1) =  7;\n",
    "A(N-1,N) = 0;\n",
    "A(N-2,N) = 0;\n",
    "A(N, N-1) = 0;\n",
    "A(N, N-2) = 0;\n",
    "A(N-1,N-2) = -4;\n",
    "A(N-1,N-3) = 1;\n",
    "\n",
    "% Solve for y\n",
    "y = A\\f;\n",
    "\n",
    "x = (0:h:L)';\n",
    "y_exact = -b*d*rho*g/(24*E*I)*x.^2.*(L - x).^2;\n",
    "ErrMax = max(abs(y-y_exact))"
   ]
  },
  {
   "cell_type": "code",
   "execution_count": 19,
   "metadata": {},
   "outputs": [
    {
     "data": {
      "image/png": "[encoded data removed]",
      "text/plain": [
       "<IPython.core.display.Image object>"
      ]
     },
     "metadata": {},
     "output_type": "display_data"
    }
   ],
   "source": [
    "subplot(2,1,1);\n",
    "plot(x, y, \"b*\", x, y_exact, \"r\")\n",
    "title('Deflection of the beam');\n",
    "xlabel('x'); ylabel('y (deflection)');\n",
    "grid on;\n",
    "subplot(2,1,2);\n",
    "plot(x, abs(y - y_exact), \"r\")\n",
    "title('Error: |computed - exact|');\n",
    "xlabel('x'); ylabel('Error');\n",
    "grid on;"
   ]
  },
  {
   "cell_type": "markdown",
   "metadata": {},
   "source": [
    "## Sauer first edition (with -12 on bottom right end)"
   ]
  },
  {
   "cell_type": "code",
   "execution_count": 35,
   "metadata": {},
   "outputs": [
    {
     "name": "stdout",
     "output_type": "stream",
     "text": [
      "ErrMax =  0.012913\n"
     ]
    }
   ],
   "source": [
    "% Since in Sauer's second edition does not use a pentadiagonal matrix, we must use a more standard approach\n",
    "% Filling and solving our matrix.\n",
    "format short\n",
    "\n",
    "n = 10; % number of subintervals on [h, L]\n",
    "h = L/(n+1); % discretization spacing\n",
    "N = n; % number of unknowns to be solved for\n",
    "A = sparse(N,N);\n",
    "\n",
    "% Define the RHS of the system\n",
    "f = -h^4/(E*I) * w * ones(N, 1);\n",
    "\n",
    "% Creating diagonals of the matrix\n",
    "for i=3:N - 2\n",
    "    A(i,i) = 6;\n",
    "    A(i,i-1) = A(i,i+1) = -4;\n",
    "    A(i,i-2) = A(i,i+2) = 1; \n",
    "endfor\n",
    "\n",
    "% Leftside\n",
    "A(1,1) = 12;\n",
    "A(1,2) = -6;\n",
    "A(1,3) = (4/3);\n",
    "A(2,1) = A(2,3) = -4;\n",
    "A(2,2) = 6;\n",
    "A(2,4) = 1;\n",
    "\n",
    "% Rightside\n",
    "A(N,N-2) = (4/3);\n",
    "A(N,N-1) = -6;\n",
    "A(N,N) = -12;\n",
    "A(N-1,N) = A(N-1,N-2) = -4;\n",
    "A(N-1,N-1) = 6;\n",
    "A(N-1,N-3) = 1;\n",
    "\n",
    "% Finding y\n",
    "y = A\\f;\n",
    "\n",
    "% Plots\n",
    "x = (h:h:L - h)';\n",
    "y_exact = -b*d*rho*g/(24*E*I)*x.^2.*(L - x).^2;\n",
    "ErrMax = max(abs(y-y_exact))"
   ]
  },
  {
   "cell_type": "code",
   "execution_count": 27,
   "metadata": {},
   "outputs": [
    {
     "data": {
      "image/png": "[encoded data removed]",
      "text/plain": [
       "<IPython.core.display.Image object>"
      ]
     },
     "metadata": {},
     "output_type": "display_data"
    }
   ],
   "source": [
    "subplot(2,1,1);\n",
    "plot(x, y, \"b*\", x, y_exact, \"r\")\n",
    "title('Deflection of the beam');\n",
    "xlabel('x'); ylabel('y (deflection)');\n",
    "grid on;\n",
    "subplot(2,1,2);\n",
    "plot(x, abs(y - y_exact), \"r\")\n",
    "title('Error: |computed - exact|');\n",
    "xlabel('x'); ylabel('Error');\n",
    "grid on;"
   ]
  },
  {
   "cell_type": "markdown",
   "metadata": {},
   "source": [
    "## Sauer first edition (with +12 on bottom right end)"
   ]
  },
  {
   "cell_type": "code",
   "execution_count": 36,
   "metadata": {},
   "outputs": [
    {
     "name": "stdout",
     "output_type": "stream",
     "text": [
      "ErrMax =  0.00000000054156\n"
     ]
    }
   ],
   "source": [
    "% Since in Sauer's second edition does not use a pentadiagonal matrix, we must use a more standard approach\n",
    "% Filling and solving our matrix.\n",
    "format short\n",
    "\n",
    "n = 1000; % number of subintervals on [h, L]\n",
    "h = L/(n+1); % discretization spacing\n",
    "N = n; % number of unknowns to be solved for\n",
    "A = sparse(N,N);\n",
    "\n",
    "% Define the RHS of the system\n",
    "f = -h^4/(E*I) * w * ones(N, 1);\n",
    "\n",
    "\n",
    "% Creating diagonals of the matrix\n",
    "for i=3:N - 2\n",
    "    A(i,i) = 6;\n",
    "    A(i,i-1) = A(i,i+1) = -4;\n",
    "    A(i,i-2) = A(i,i+2) = 1; \n",
    "endfor\n",
    "\n",
    "% Leftside\n",
    "A(1,1) = 12;\n",
    "A(1,2) = -6;\n",
    "A(1,3) = (4/3);\n",
    "A(2,1) = A(2,3) = -4;\n",
    "A(2,2) = 6;\n",
    "A(2,4) = 1;\n",
    "\n",
    "% Rightside\n",
    "A(N,N-2) = (4/3);\n",
    "A(N,N-1) = -6;\n",
    "A(N,N) = 12;\n",
    "A(N-1,N) = A(N-1,N-2) = -4;\n",
    "A(N-1,N-1) = 6;\n",
    "A(N-1,N-3) = 1;\n",
    "\n",
    "% Finding y\n",
    "y = A\\f;\n",
    "\n",
    "% Plots\n",
    "x = (h:h:L - h)';\n",
    "y_exact = -b*d*rho*g/(24*E*I)*x.^2.*(L - x).^2;\n",
    "ErrMax = max(abs(y-y_exact))"
   ]
  },
  {
   "cell_type": "code",
   "execution_count": 29,
   "metadata": {},
   "outputs": [
    {
     "data": {
      "image/png": "[encoded data removed]",
      "text/plain": [
       "<IPython.core.display.Image object>"
      ]
     },
     "metadata": {},
     "output_type": "display_data"
    }
   ],
   "source": [
    "subplot(2,1,1);\n",
    "plot(x, y, \"b*\", x, y_exact, \"r\")\n",
    "title('Deflection of the beam');\n",
    "xlabel('x'); ylabel('y (deflection)');\n",
    "grid on;\n",
    "subplot(2,1,2);\n",
    "plot(x, abs(y - y_exact), \"r\")\n",
    "title('Error: |computed - exact|');\n",
    "xlabel('x'); ylabel('Error');\n",
    "grid on;"
   ]
  },
  {
   "cell_type": "markdown",
   "metadata": {},
   "source": [
    "## Sauer Second Edition"
   ]
  },
  {
   "cell_type": "code",
   "execution_count": 21,
   "metadata": {},
   "outputs": [
    {
     "name": "stdout",
     "output_type": "stream",
     "text": [
      "ErrMax =  0.00026333\n"
     ]
    }
   ],
   "source": [
    "% Since in Sauer's second edition does not use a pentadiagonal matrix, we must use a more standard approach\n",
    "% Filling and solving our matrix.\n",
    "\n",
    "n = 100; % number of subintervals on [h, L]\n",
    "h = L/n; % discretization spacing\n",
    "N = n; % number of unknowns to be solved for\n",
    "A = sparse(N,N);\n",
    "\n",
    "% Define the RHS of the system\n",
    "f = -h^4/(E*I) * w * ones(N, 1);\n",
    "\n",
    "% Creating diagonals of the matrix\n",
    "for i=3:N - 2\n",
    "    A(i,i) = 6;\n",
    "    A(i,i-1) = A(i,i+1) = -4;\n",
    "    A(i,i-2) = A(i,i+2) = 1; \n",
    "endfor\n",
    "\n",
    "% Leftside\n",
    "A(1,1) = 16;\n",
    "A(1,2) = -9;\n",
    "A(1,3) = (8/3);\n",
    "A(1,4) = -(1/4);\n",
    "A(2,1) = A(2,3) = -4;\n",
    "A(2,2) = 6;\n",
    "A(2,4) = 1;\n",
    "\n",
    "% Rightside\n",
    "A(N,N-3) = -(1/4);\n",
    "A(N,N-2) = (8/3);\n",
    "A(N,N-1) = 9;\n",
    "A(N,N) = 16;\n",
    "A(N-1,N) = A(N-1,N-2) = -4;\n",
    "A(N-1,N-1) = 6;\n",
    "A(N-1,N-3) = 1;\n",
    "\n",
    "\n",
    "% Compressing the matrix into a sparse matrix\n",
    "\n",
    "% Finding y\n",
    "y = A\\f;\n",
    "\n",
    "% Plots\n",
    "x = (h:h:L)';\n",
    "y_exact = -b*d*rho*g/(24*E*I)*x.^2.*(L - x).^2;\n",
    "ErrMax = max(abs(y-y_exact))"
   ]
  },
  {
   "cell_type": "code",
   "execution_count": 42,
   "metadata": {},
   "outputs": [
    {
     "data": {
      "image/png": "[encoded data removed]",
      "text/plain": [
       "<IPython.core.display.Image object>"
      ]
     },
     "metadata": {},
     "output_type": "display_data"
    }
   ],
   "source": [
    "subplot(2,1,1);\n",
    "plot(x, y, \"b*\", x, y_exact, \"r\")\n",
    "title('Deflection of the beam');\n",
    "xlabel('x'); ylabel('y (deflection)');\n",
    "grid on;\n",
    "subplot(2,1,2);\n",
    "plot(x, abs(y - y_exact), \"r\")\n",
    "title('Error: |computed - exact|');\n",
    "xlabel('x'); ylabel('Error');\n",
    "grid on;"
   ]
  },
  {
   "cell_type": "markdown",
   "metadata": {},
   "source": [
    "# trial runs (n = 10,20,40,80,160,320,640,1280)"
   ]
  },
  {
   "cell_type": "markdown",
   "metadata": {},
   "source": [
    "## Class Project Version (trials)"
   ]
  },
  {
   "cell_type": "code",
   "execution_count": 3,
   "metadata": {
    "scrolled": true
   },
   "outputs": [
    {
     "name": "stdout",
     "output_type": "stream",
     "text": [
      "n =  10\n",
      "ErrMax =  0.0038504\n",
      "n =  20\n",
      "ErrMax =  0.00096261\n",
      "n =  40\n",
      "ErrMax =  0.00024065\n",
      "n =  80\n",
      "ErrMax =  0.000060163\n",
      "n =  160\n",
      "ErrMax =  0.000015041\n",
      "n =  320\n",
      "ErrMax =  0.0000037602\n",
      "n =  640\n",
      "ErrMax =  0.00000094006\n",
      "n =  1280\n",
      "ErrMax =  0.00000022886\n",
      "n =  2560\n",
      "ErrMax =  0.000000088341\n",
      "n =  5120\n",
      "ErrMax =  0.00000053402\n",
      "n =  10240\n",
      "ErrMax =  0.0000066902\n"
     ]
    }
   ],
   "source": [
    "n = 10;\n",
    "\n",
    "for j=1:11\n",
    "    n\n",
    "    h = L/n; % discretization spacing\n",
    "    N = n + 1; % number of unknowns to be solved for\n",
    "    A = sparse(N,N); % generating a sparse matrix\n",
    "\n",
    "    % Define the RHS of the system\n",
    "    f = -h^4/(E*I) * w * ones(N, 1);\n",
    "    f(1) = f(N) = 0;\n",
    "\n",
    "    % Creating diagonals of the matrix\n",
    "    for i=3:N - 2\n",
    "        A(i,i) = 6;\n",
    "        A(i,i-1) = A(i,i+1) = -4;\n",
    "        A(i,i-2) = A(i,i+2) = 1; \n",
    "    endfor\n",
    "\n",
    "    % Left end\n",
    "    A(1,1) = 1;\n",
    "    A(2,2) = 7;\n",
    "    A(1,2) = 0;\n",
    "    A(1,3) = 0;\n",
    "    A(2,1) = 0;\n",
    "    A(3,1) = 0;\n",
    "    A(2,3) = -4;\n",
    "    A(2,4) = 1;\n",
    "    % Right end\n",
    "    A(N,N) = 1;\n",
    "    A(N-1,N-1) =  7;\n",
    "    A(N-1,N) = 0;\n",
    "    A(N-2,N) = 0;\n",
    "    A(N, N-1) = 0;\n",
    "    A(N, N-2) = 0;\n",
    "    A(N-1,N-2) = -4;\n",
    "    A(N-1,N-3) = 1;\n",
    "\n",
    "    % Solve for y\n",
    "    y = A\\f;\n",
    "    x = (0:h:L)';\n",
    "    y_exact = -b*d*rho*g/(24*E*I)*x.^2.*(L - x).^2;\n",
    "    ErrMax = max(abs(y-y_exact))\n",
    "    n = n * 2;\n",
    "endfor\n"
   ]
  },
  {
   "cell_type": "markdown",
   "metadata": {},
   "source": [
    "## Sauer 1st Ed. -12 Penta (trials)"
   ]
  },
  {
   "cell_type": "code",
   "execution_count": 4,
   "metadata": {},
   "outputs": [
    {
     "name": "stdout",
     "output_type": "stream",
     "text": [
      "n =  10\n",
      "ErrMax =  0.012913\n",
      "n =  20\n",
      "ErrMax =  0.0066557\n",
      "n =  40\n",
      "ErrMax =  0.0033718\n",
      "n =  80\n",
      "ErrMax =  0.0016987\n",
      "n =  160\n",
      "ErrMax =    8.5245e-04\n",
      "n =  320\n",
      "ErrMax =    4.2703e-04\n",
      "n =  640\n",
      "ErrMax =    2.1371e-04\n",
      "n =  1280\n",
      "ErrMax =    1.0691e-04\n",
      "n =  2560\n",
      "ErrMax =    5.3431e-05\n",
      "n =  5120\n",
      "ErrMax =    2.6446e-05\n",
      "n =  10240\n",
      "ErrMax =    1.2546e-05\n"
     ]
    }
   ],
   "source": [
    "n = 10; % number of subintervals on [0, L]\n",
    "\n",
    "for i = 1:11\n",
    "    n\n",
    "    h = L/(n + 1); % discretization spacing\n",
    "\n",
    "    % Define the RHS of the system\n",
    "    f = -h^4/(E*I) * w * ones(n, 1);\n",
    "\n",
    "    % Define the matrix of the system. Notation: d0 is the main diagonal;\n",
    "    % dpn is \"main diagonal + n\" (superdiagonal n); dmn is \"main diagonal - n\" (subdiagonal n)\n",
    "    d0 = 6*ones(1, n);\n",
    "    dp1 = dm1 = -4*ones(1, n-1);\n",
    "    dp2 = dm2 = ones(1, n-2);\n",
    "    % Fixed left end\n",
    "    d0(1) = 12.0; %d0(2) = 6.0;\n",
    "    dp1(1) = -6.0;\n",
    "    dp2(1) = (4/3);\n",
    "    %dm1(1) = -4.0;\n",
    "    %dm2(1) = 1.0;\n",
    "\n",
    "    d0(n) = -12.0; %d0(n-1) = 6.0;\n",
    "    %dp1(n-1) = -4.0;\n",
    "    %dp2(n-2) = 1.0;\n",
    "    dm1(n-1) = -6.0;\n",
    "    dm2(n-2) = (4/3);\n",
    "    % Solve for y\n",
    "    y = GaussElimPenta(dm2, dm1, d0, dp1, dp2, f);\n",
    "    % Plots\n",
    "    x = (h:h:L-h)';\n",
    "    y_exact = -b*d*rho*g/(24*E*I)*x.^2.*(L - x).^2;\n",
    "    ErrMax = max(abs(y-y_exact))\n",
    "    n = 2*n;\n",
    "\n",
    "endfor"
   ]
  },
  {
   "cell_type": "markdown",
   "metadata": {},
   "source": [
    "## Sauer 1st Ed. +12 Penta (trials)"
   ]
  },
  {
   "cell_type": "code",
   "execution_count": 5,
   "metadata": {},
   "outputs": [
    {
     "name": "stdout",
     "output_type": "stream",
     "text": [
      "n =  10\n",
      "ErrMax =    4.5103e-17\n",
      "n =  20\n",
      "ErrMax =    1.9568e-15\n",
      "n =  40\n",
      "ErrMax =    3.1017e-15\n",
      "n =  80\n",
      "ErrMax =    2.5144e-13\n",
      "n =  160\n",
      "ErrMax =    2.6079e-12\n",
      "n =  320\n",
      "ErrMax =    3.5255e-11\n",
      "n =  640\n",
      "ErrMax =    2.9305e-10\n",
      "n =  1280\n",
      "ErrMax =    2.1994e-10\n",
      "n =  2560\n",
      "ErrMax =    4.1388e-08\n",
      "n =  5120\n",
      "ErrMax =    4.0065e-07\n",
      "n =  10240\n",
      "ErrMax =    1.4277e-06\n"
     ]
    }
   ],
   "source": [
    "n = 10; % number of subintervals on [0, L]\n",
    "\n",
    "for i = 1:11\n",
    "    n\n",
    "    h = L/(n + 1); % discretization spacing\n",
    "\n",
    "    % Define the RHS of the system\n",
    "    f = -h^4/(E*I) * w * ones(n, 1);\n",
    "\n",
    "    % Define the matrix of the system. Notation: d0 is the main diagonal;\n",
    "    % dpn is \"main diagonal + n\" (superdiagonal n); dmn is \"main diagonal - n\" (subdiagonal n)\n",
    "    d0 = 6*ones(1, n);\n",
    "    dp1 = dm1 = -4*ones(1, n-1);\n",
    "    dp2 = dm2 = ones(1, n-2);\n",
    "    % Fixed left end\n",
    "    d0(1) = 12.0; %d0(2) = 6.0;\n",
    "    dp1(1) = -6.0;\n",
    "    dp2(1) = (4/3);\n",
    "    %dm1(1) = -4.0;\n",
    "    %dm2(1) = 1.0;\n",
    "\n",
    "    d0(n) = 12.0; %d0(n-1) = 6.0;\n",
    "    %dp1(n-1) = -4.0;\n",
    "    %dp2(n-2) = 1.0;\n",
    "    dm1(n-1) = -6.0;\n",
    "    dm2(n-2) = (4/3);\n",
    "    % Solve for y\n",
    "    y = GaussElimPenta(dm2, dm1, d0, dp1, dp2, f);\n",
    "    % Plots\n",
    "    x = (h:h:L-h)';\n",
    "    y_exact = -b*d*rho*g/(24*E*I)*x.^2.*(L - x).^2;\n",
    "    ErrMax = max(abs(y-y_exact))\n",
    "    n = 2*n;\n",
    "\n",
    "endfor"
   ]
  },
  {
   "cell_type": "markdown",
   "metadata": {},
   "source": [
    "## Sauer first edition (with -12 on bottom right end) (trials)"
   ]
  },
  {
   "cell_type": "code",
   "execution_count": 4,
   "metadata": {},
   "outputs": [
    {
     "name": "stdout",
     "output_type": "stream",
     "text": [
      "n =  10\n",
      "ErrMax =  0.012913\n",
      "n =  20\n",
      "ErrMax =  0.0066557\n",
      "n =  40\n",
      "ErrMax =  0.0033718\n",
      "n =  80\n",
      "ErrMax =  0.0016987\n",
      "n =  160\n",
      "ErrMax =  0.00085245\n",
      "n =  320\n",
      "ErrMax =  0.00042703\n",
      "n =  640\n",
      "ErrMax =  0.00021371\n",
      "n =  1280\n",
      "ErrMax =  0.00010691\n",
      "n =  2560\n",
      "ErrMax =  0.000053459\n",
      "n =  5120\n",
      "ErrMax =  0.000026387\n",
      "n =  10240\n",
      "ErrMax =  0.000018388\n"
     ]
    }
   ],
   "source": [
    "n = 10;\n",
    "\n",
    "for j=1:11\n",
    "    n\n",
    "    h = L/(n+1); % discretization spacing\n",
    "    N = n; % number of unknowns to be solved for\n",
    "    A = sparse(N,N);\n",
    "\n",
    "    % Define the RHS of the system\n",
    "    f = -h^4/(E*I) * w * ones(N, 1);\n",
    "\n",
    "    % Creating diagonals of the matrix\n",
    "    for i=3:N - 2\n",
    "        A(i,i) = 6;\n",
    "        A(i,i-1) = A(i,i+1) = -4;\n",
    "        A(i,i-2) = A(i,i+2) = 1; \n",
    "    endfor\n",
    "\n",
    "    % Leftside\n",
    "    A(1,1) = 12;\n",
    "    A(1,2) = -6;\n",
    "    A(1,3) = (4/3);\n",
    "    A(2,1) = A(2,3) = -4;\n",
    "    A(2,2) = 6;\n",
    "    A(2,4) = 1;\n",
    "\n",
    "    % Rightside\n",
    "    A(N,N-2) = (4/3);\n",
    "    A(N,N-1) = -6;\n",
    "    A(N,N) = -12;\n",
    "    A(N-1,N) = A(N-1,N-2) = -4;\n",
    "    A(N-1,N-1) = 6;\n",
    "    A(N-1,N-3) = 1;\n",
    "\n",
    "    % Finding y\n",
    "    y = A\\f;\n",
    "\n",
    "    % Plots\n",
    "    x = (h:h:L - h)';\n",
    "    y_exact = -b*d*rho*g/(24*E*I)*x.^2.*(L - x).^2;\n",
    "    ErrMax = max(abs(y-y_exact))\n",
    "    n = n * 2;\n",
    "endfor"
   ]
  },
  {
   "cell_type": "markdown",
   "metadata": {},
   "source": [
    "## Sauer first edition (with +12 on bottom right end) (trials)"
   ]
  },
  {
   "cell_type": "code",
   "execution_count": 5,
   "metadata": {},
   "outputs": [
    {
     "name": "stdout",
     "output_type": "stream",
     "text": [
      "n =  10\n",
      "ErrMax =   5.5511e-017\n",
      "n =  20\n",
      "ErrMax =   1.3531e-016\n",
      "n =  40\n",
      "ErrMax =   1.4079e-014\n",
      "n =  80\n",
      "ErrMax =   1.5520e-013\n",
      "n =  160\n",
      "ErrMax =   2.6629e-013\n",
      "n =  320\n",
      "ErrMax =   6.1669e-012\n",
      "n =  640\n",
      "ErrMax =  0.00000000012516\n",
      "n =  1280\n",
      "ErrMax =  0.0000000026203\n",
      "n =  2560\n",
      "ErrMax =  0.0000000070063\n",
      "n =  5120\n",
      "ErrMax =  0.00000045617\n",
      "n =  10240\n",
      "ErrMax =  0.0000054373\n"
     ]
    }
   ],
   "source": [
    "n = 10;\n",
    "\n",
    "for j=1:11\n",
    "    n\n",
    "    h = L/(n+1); % discretization spacing\n",
    "    N = n; % number of unknowns to be solved for\n",
    "    A = sparse(N,N);\n",
    "\n",
    "    % Define the RHS of the system\n",
    "    f = -h^4/(E*I) * w * ones(N, 1);\n",
    "\n",
    "    % Creating diagonals of the matrix\n",
    "    for i=3:N - 2\n",
    "        A(i,i) = 6;\n",
    "        A(i,i-1) = A(i,i+1) = -4;\n",
    "        A(i,i-2) = A(i,i+2) = 1; \n",
    "    endfor\n",
    "\n",
    "    % Leftside\n",
    "    A(1,1) = 12;\n",
    "    A(1,2) = -6;\n",
    "    A(1,3) = (4/3);\n",
    "    A(2,1) = A(2,3) = -4;\n",
    "    A(2,2) = 6;\n",
    "    A(2,4) = 1;\n",
    "\n",
    "    % Rightside\n",
    "    A(N,N-2) = (4/3);\n",
    "    A(N,N-1) = -6;\n",
    "    A(N,N) = 12;\n",
    "    A(N-1,N) = A(N-1,N-2) = -4;\n",
    "    A(N-1,N-1) = 6;\n",
    "    A(N-1,N-3) = 1;\n",
    "\n",
    "    % Finding y\n",
    "    y = A\\f;\n",
    "\n",
    "    % Plots\n",
    "    x = (h:h:L - h)';\n",
    "    y_exact = -b*d*rho*g/(24*E*I)*x.^2.*(L - x).^2;\n",
    "    ErrMax = max(abs(y-y_exact))\n",
    "    n = n * 2;\n",
    "endfor"
   ]
  },
  {
   "cell_type": "markdown",
   "metadata": {},
   "source": [
    "## Sauer Second Edition (trials)"
   ]
  },
  {
   "cell_type": "code",
   "execution_count": 6,
   "metadata": {},
   "outputs": [
    {
     "name": "stdout",
     "output_type": "stream",
     "text": [
      "n =  10\n",
      "ErrMax =  0.0050544\n",
      "n =  20\n",
      "ErrMax =  0.0013667\n",
      "n =  40\n",
      "ErrMax =  0.00061259\n",
      "n =  80\n",
      "ErrMax =  0.00032492\n",
      "n =  160\n",
      "ErrMax =  0.00016791\n",
      "n =  320\n",
      "ErrMax =  0.000085420\n",
      "n =  640\n",
      "ErrMax =  0.000043089\n",
      "n =  1280\n",
      "ErrMax =  0.000021641\n",
      "n =  2560\n",
      "ErrMax =  0.000010835\n",
      "n =  5120\n",
      "ErrMax =  0.0000052262\n",
      "n =  10240\n",
      "ErrMax =  0.0000066983\n"
     ]
    }
   ],
   "source": [
    "n = 10;\n",
    "\n",
    "for j=1:11\n",
    "    n\n",
    "    h = L/n; % discretization spacing\n",
    "    N = n; % number of unknowns to be solved for\n",
    "    A = sparse(N,N);\n",
    "\n",
    "    % Define the RHS of the system\n",
    "    f = -h^4/(E*I) * w * ones(N, 1);\n",
    "\n",
    "    % Creating diagonals of the matrix\n",
    "    for i=3:N - 2\n",
    "        A(i,i) = 6;\n",
    "        A(i,i-1) = A(i,i+1) = -4;\n",
    "        A(i,i-2) = A(i,i+2) = 1; \n",
    "    endfor\n",
    "\n",
    "    % Leftside\n",
    "    A(1,1) = 16;\n",
    "    A(1,2) = -9;\n",
    "    A(1,3) = (8/3);\n",
    "    A(1,4) = -(1/4);\n",
    "    A(2,1) = A(2,3) = -4;\n",
    "    A(2,2) = 6;\n",
    "    A(2,4) = 1;\n",
    "\n",
    "    % Rightside\n",
    "    A(N,N-3) = -(1/4);\n",
    "    A(N,N-2) = (8/3);\n",
    "    A(N,N-1) = 9;\n",
    "    A(N,N) = 16;\n",
    "    A(N-1,N) = A(N-1,N-2) = -4;\n",
    "    A(N-1,N-1) = 6;\n",
    "    A(N-1,N-3) = 1;\n",
    "\n",
    "\n",
    "    % Compressing the matrix into a sparse matrix\n",
    "\n",
    "    % Finding y\n",
    "    y = A\\f;\n",
    "\n",
    "    % Plots\n",
    "    x = (h:h:L)';\n",
    "    y_exact = -b*d*rho*g/(24*E*I)*x.^2.*(L - x).^2;\n",
    "    ErrMax = max(abs(y-y_exact))\n",
    "    n = n * 2;\n",
    "endfor"
   ]
  },
  {
   "cell_type": "markdown",
   "metadata": {},
   "source": [
    "# Using the Cosine function"
   ]
  },
  {
   "cell_type": "markdown",
   "metadata": {},
   "source": [
    "## Class Project Version  (Cos)"
   ]
  },
  {
   "cell_type": "code",
   "execution_count": 4,
   "metadata": {},
   "outputs": [
    {
     "name": "stdout",
     "output_type": "stream",
     "text": [
      "ErrMax =  0.0000077895\n"
     ]
    }
   ],
   "source": [
    "n = 1280; % number of subintervals on [0, L]\n",
    "h = L/n; % discretization spacing\n",
    "N = n + 1; % number of unknowns to be solved for\n",
    "A = sparse(N,N); % generating a sparse matrix\n",
    "\n",
    "% Define the RHS of the system\n",
    "f = h^4*(pi/5)^4*cos((pi/5)*[0:h:L]');\n",
    "f(1) = f(N) = 0;\n",
    "\n",
    "% Creating diagonals of the matrix\n",
    "for i=3:N - 2\n",
    "    A(i,i) = 6;\n",
    "    A(i,i-1) = A(i,i+1) = -4;\n",
    "    A(i,i-2) = A(i,i+2) = 1; \n",
    "endfor\n",
    "\n",
    "% Left end\n",
    "A(1,1) = 1;\n",
    "A(2,2) = 7;\n",
    "A(1,2) = 0;\n",
    "A(1,3) = 0;\n",
    "A(2,1) = 0;\n",
    "A(3,1) = 0;\n",
    "A(2,3) = -4;\n",
    "A(2,4) = 1;\n",
    "% Right end\n",
    "A(N,N) = 1;\n",
    "A(N-1,N-1) =  7;\n",
    "A(N-1,N) = 0;\n",
    "A(N-2,N) = 0;\n",
    "A(N, N-1) = 0;\n",
    "A(N, N-2) = 0;\n",
    "A(N-1,N-2) = -4;\n",
    "A(N-1,N-3) = 1;\n",
    "\n",
    "% Solve for y\n",
    "y = A\\f;\n",
    "\n",
    "x = (0:h:L)';\n",
    "y_exact = cos((pi/5)*x) - 1;\n",
    "ErrMax = max(abs(y-y_exact))"
   ]
  },
  {
   "cell_type": "code",
   "execution_count": 5,
   "metadata": {},
   "outputs": [
    {
     "data": {
      "image/png": "[encoded data removed]",
      "text/plain": [
       "<IPython.core.display.Image object>"
      ]
     },
     "metadata": {},
     "output_type": "display_data"
    }
   ],
   "source": [
    "subplot(2,1,1);\n",
    "plot(x, y, \"b*\", x, y_exact, \"r\")\n",
    "title('Deflection of the beam');\n",
    "xlabel('x'); ylabel('y (deflection)');\n",
    "grid on;\n",
    "subplot(2,1,2);\n",
    "plot(x, abs(y - y_exact), \"r\")\n",
    "title('Error: |computed - exact|');\n",
    "xlabel('x'); ylabel('Error');\n",
    "grid on;"
   ]
  },
  {
   "cell_type": "markdown",
   "metadata": {},
   "source": [
    "## Sauer first edition (with -12 on bottom right end)  (Cos)"
   ]
  },
  {
   "cell_type": "code",
   "execution_count": 3,
   "metadata": {},
   "outputs": [
    {
     "name": "stdout",
     "output_type": "stream",
     "text": [
      "ErrMax =  0.0035043\n"
     ]
    }
   ],
   "source": [
    "n = 1000; % number of subintervals on [h, L]\n",
    "h = L/(n+1); % discretization spacing\n",
    "N = n; % number of unknowns to be solved for\n",
    "A = sparse(N,N);\n",
    "\n",
    "% Define the RHS of the system\n",
    "f = h^4*(pi/5)^4*cos((pi/5)*[h:h:L-h]');\n",
    "\n",
    "% Creating diagonals of the matrix\n",
    "for i=3:N - 2\n",
    "    A(i,i) = 6;\n",
    "    A(i,i-1) = A(i,i+1) = -4;\n",
    "    A(i,i-2) = A(i,i+2) = 1; \n",
    "endfor\n",
    "\n",
    "% Leftside\n",
    "A(1,1) = 12;\n",
    "A(1,2) = -6;\n",
    "A(1,3) = (4/3);\n",
    "A(2,1) = A(2,3) = -4;\n",
    "A(2,2) = 6;\n",
    "A(2,4) = 1;\n",
    "\n",
    "% Rightside\n",
    "A(N,N-2) = (4/3);\n",
    "A(N,N-1) = -6;\n",
    "A(N,N) = -12;\n",
    "A(N-1,N) = A(N-1,N-2) = -4;\n",
    "A(N-1,N-1) = 6;\n",
    "A(N-1,N-3) = 1;\n",
    "\n",
    "% Finding y\n",
    "y = A\\f;\n",
    "\n",
    "% Plots\n",
    "x = (h:h:L - h)';\n",
    "y_exact = cos((pi/5)*x) - 1;\n",
    "ErrMax = max(abs(y-y_exact))"
   ]
  },
  {
   "cell_type": "code",
   "execution_count": null,
   "metadata": {},
   "outputs": [],
   "source": [
    "subplot(2,1,1);\n",
    "plot(x, y, \"b*\", x, y_exact, \"r\")\n",
    "title('Deflection of the beam');\n",
    "xlabel('x'); ylabel('y (deflection)');\n",
    "grid on;\n",
    "subplot(2,1,2);\n",
    "plot(x, abs(y - y_exact), \"r\")\n",
    "title('Error: |computed - exact|');\n",
    "xlabel('x'); ylabel('Error');\n",
    "grid on;"
   ]
  },
  {
   "cell_type": "markdown",
   "metadata": {},
   "source": [
    "## Sauer first edition (with +12 on bottom right end)  (Cos)"
   ]
  },
  {
   "cell_type": "code",
   "execution_count": 4,
   "metadata": {},
   "outputs": [
    {
     "name": "stdout",
     "output_type": "stream",
     "text": [
      "ErrMax =  0.000013113\n"
     ]
    }
   ],
   "source": [
    "n = 1000; % number of subintervals on [h, L]\n",
    "h = L/(n+1); % discretization spacing\n",
    "N = n; % number of unknowns to be solved for\n",
    "A = sparse(N,N);\n",
    "\n",
    "% Define the RHS of the system\n",
    "f = h^4*(pi/5)^4*cos((pi/5)*[h:h:L-h]');\n",
    "\n",
    "% Creating diagonals of the matrix\n",
    "for i=3:N - 2\n",
    "    A(i,i) = 6;\n",
    "    A(i,i-1) = A(i,i+1) = -4;\n",
    "    A(i,i-2) = A(i,i+2) = 1; \n",
    "endfor\n",
    "\n",
    "% Leftside\n",
    "A(1,1) = 12;\n",
    "A(1,2) = -6;\n",
    "A(1,3) = (4/3);\n",
    "A(2,1) = A(2,3) = -4;\n",
    "A(2,2) = 6;\n",
    "A(2,4) = 1;\n",
    "\n",
    "% Rightside\n",
    "A(N,N-2) = (4/3);\n",
    "A(N,N-1) = -6;\n",
    "A(N,N) = 12;\n",
    "A(N-1,N) = A(N-1,N-2) = -4;\n",
    "A(N-1,N-1) = 6;\n",
    "A(N-1,N-3) = 1;\n",
    "\n",
    "% Finding y\n",
    "y = A\\f;\n",
    "\n",
    "% Plots\n",
    "x = (h:h:L - h)';\n",
    "y_exact = cos((pi/5)*x) - 1;\n",
    "ErrMax = max(abs(y-y_exact))"
   ]
  },
  {
   "cell_type": "code",
   "execution_count": 5,
   "metadata": {},
   "outputs": [
    {
     "data": {
      "image/png": "[encoded data removed]",
      "text/plain": [
       "<IPython.core.display.Image object>"
      ]
     },
     "metadata": {},
     "output_type": "display_data"
    }
   ],
   "source": [
    "subplot(2,1,1);\n",
    "plot(x, y, \"b*\", x, y_exact, \"r\")\n",
    "title('Deflection of the beam');\n",
    "xlabel('x'); ylabel('y (deflection)');\n",
    "grid on;\n",
    "subplot(2,1,2);\n",
    "plot(x, abs(y - y_exact), \"r\")\n",
    "title('Error: |computed - exact|');\n",
    "xlabel('x'); ylabel('Error');\n",
    "grid on;"
   ]
  },
  {
   "cell_type": "markdown",
   "metadata": {},
   "source": [
    "## Sauer Second Edition (Cos)"
   ]
  },
  {
   "cell_type": "code",
   "execution_count": 49,
   "metadata": {},
   "outputs": [
    {
     "name": "stdout",
     "output_type": "stream",
     "text": [
      "ErrMax =  0.15214\n"
     ]
    }
   ],
   "source": [
    "% Since in Sauer's second edition does not use a pentadiagonal matrix, we must use a more standard approach\n",
    "% Filling and solving our matrix.\n",
    "\n",
    "n = 10; % number of subintervals on [h, L]\n",
    "h = L/n; % discretization spacing\n",
    "N = n; % number of unknowns to be solved for\n",
    "A = sparse(N,N);\n",
    "\n",
    "% Define the RHS of the system\n",
    "f = h^4*(pi/5)^4*cos((pi/5)*[h:h:L]');\n",
    "\n",
    "% Creating diagonals of the matrix\n",
    "for i=3:N - 2\n",
    "    A(i,i) = 6;\n",
    "    A(i,i-1) = A(i,i+1) = -4;\n",
    "    A(i,i-2) = A(i,i+2) = 1; \n",
    "endfor\n",
    "\n",
    "% Leftside\n",
    "A(1,1) = 16;\n",
    "A(1,2) = -9;\n",
    "A(1,3) = (8/3);\n",
    "A(1,4) = -(1/4);\n",
    "A(2,1) = A(2,3) = -4;\n",
    "A(2,2) = 6;\n",
    "A(2,4) = 1;\n",
    "\n",
    "% Rightside\n",
    "A(N,N-3) = -(1/4);\n",
    "A(N,N-2) = (8/3);\n",
    "A(N,N-1) = 9;\n",
    "A(N,N) = 16;\n",
    "A(N-1,N) = A(N-1,N-2) = -4;\n",
    "A(N-1,N-1) = 6;\n",
    "A(N-1,N-3) = 1;\n",
    "\n",
    "\n",
    "% Compressing the matrix into a sparse matrix\n",
    "\n",
    "% Finding y\n",
    "y = A\\f;\n",
    "\n",
    "% Plots\n",
    "x = (h:h:L)';\n",
    "y_exact = cos((pi/5)*x) - 1;\n",
    "ErrMax = max(abs(y-y_exact))"
   ]
  },
  {
   "cell_type": "code",
   "execution_count": 48,
   "metadata": {},
   "outputs": [
    {
     "data": {
      "image/png": "[encoded data removed]",
      "text/plain": [
       "<IPython.core.display.Image object>"
      ]
     },
     "metadata": {},
     "output_type": "display_data"
    }
   ],
   "source": [
    "subplot(2,1,1);\n",
    "plot(x, y, \"b*\", x, y_exact, \"r\")\n",
    "title('Deflection of the beam');\n",
    "xlabel('x'); ylabel('y (deflection)');\n",
    "grid on;\n",
    "subplot(2,1,2);\n",
    "plot(x, abs(y - y_exact), \"r\")\n",
    "title('Error: |computed - exact|');\n",
    "xlabel('x'); ylabel('Error');\n",
    "grid on;"
   ]
  },
  {
   "cell_type": "markdown",
   "metadata": {},
   "source": [
    "# trial runs (n = 10,20,40,80,160,320,640,1280) for cosine function"
   ]
  },
  {
   "cell_type": "markdown",
   "metadata": {},
   "source": [
    "## Class Project Version  (Trials) (Cos)"
   ]
  },
  {
   "cell_type": "code",
   "execution_count": 10,
   "metadata": {},
   "outputs": [
    {
     "name": "stdout",
     "output_type": "stream",
     "text": [
      "n =  10\n",
      "ErrMax =  0.13649\n",
      "n =  20\n",
      "ErrMax =  0.033198\n",
      "n =  40\n",
      "ErrMax =  0.0082433\n",
      "n =  80\n",
      "ErrMax =  0.0020573\n",
      "n =  160\n",
      "ErrMax =  0.00051411\n",
      "n =  320\n",
      "ErrMax =  0.00012852\n",
      "n =  640\n",
      "ErrMax =  0.000032128\n",
      "n =  1280\n",
      "ErrMax =  0.0000077895\n",
      "n =  2560\n",
      "ErrMax =  0.0000032966\n",
      "n =  5120\n",
      "ErrMax =  0.000023116\n",
      "n =  10240\n",
      "ErrMax =  0.00028508\n"
     ]
    }
   ],
   "source": [
    "n = 10;\n",
    "\n",
    "for j=1:11\n",
    "    n\n",
    "    h = L/n; % discretization spacing\n",
    "    N = n + 1; % number of unknowns to be solved for\n",
    "    A = sparse(N,N); % generating a sparse matrix\n",
    "\n",
    "    % Define the RHS of the system\n",
    "    f = h^4*(pi/5)^4*cos((pi/5)*[0:h:L]');\n",
    "    f(1) = f(N) = 0;\n",
    "\n",
    "    % Creating diagonals of the matrix\n",
    "    for i=3:N - 2\n",
    "        A(i,i) = 6;\n",
    "        A(i,i-1) = A(i,i+1) = -4;\n",
    "        A(i,i-2) = A(i,i+2) = 1; \n",
    "    endfor\n",
    "\n",
    "    % Left end\n",
    "    A(1,1) = 1;\n",
    "    A(2,2) = 7;\n",
    "    A(1,2) = 0;\n",
    "    A(1,3) = 0;\n",
    "    A(2,1) = 0;\n",
    "    A(3,1) = 0;\n",
    "    A(2,3) = -4;\n",
    "    A(2,4) = 1;\n",
    "    % Right end\n",
    "    A(N,N) = 1;\n",
    "    A(N-1,N-1) =  7;\n",
    "    A(N-1,N) = 0;\n",
    "    A(N-2,N) = 0;\n",
    "    A(N, N-1) = 0;\n",
    "    A(N, N-2) = 0;\n",
    "    A(N-1,N-2) = -4;\n",
    "    A(N-1,N-3) = 1;\n",
    "\n",
    "    % Solve for y\n",
    "    y = A\\f;\n",
    "    x = (0:h:L)';\n",
    "    y_exact = cos((pi/5)*x) - 1;\n",
    "    ErrMax = max(abs(y-y_exact))\n",
    "    n = n * 2;\n",
    "endfor"
   ]
  },
  {
   "cell_type": "markdown",
   "metadata": {},
   "source": [
    "## Sauer first edition (with -12 on bottom right end) (Trials) (Cos)"
   ]
  },
  {
   "cell_type": "code",
   "execution_count": 7,
   "metadata": {},
   "outputs": [
    {
     "name": "stdout",
     "output_type": "stream",
     "text": [
      "n =  10\n",
      "ErrMax =  0.33916\n",
      "n =  20\n",
      "ErrMax =  0.16808\n",
      "n =  40\n",
      "ErrMax =  0.085329\n",
      "n =  80\n",
      "ErrMax =  0.043177\n",
      "n =  160\n",
      "ErrMax =  0.021750\n",
      "n =  320\n",
      "ErrMax =  0.010919\n",
      "n =  640\n",
      "ErrMax =  0.0054712\n",
      "n =  1280\n",
      "ErrMax =  0.0027386\n",
      "n =  2560\n",
      "ErrMax =  0.0013697\n",
      "n =  5120\n",
      "ErrMax =  0.00067078\n",
      "n =  10240\n",
      "ErrMax =  0.00054537\n"
     ]
    }
   ],
   "source": [
    "n = 10;\n",
    "\n",
    "for j=1:11\n",
    "    n\n",
    "    h = L/(n+1); % discretization spacing\n",
    "    N = n; % number of unknowns to be solved for\n",
    "    A = sparse(N,N);\n",
    "\n",
    "    % Define the RHS of the system\n",
    "    f = h^4*(pi/5)^4*cos((pi/5)*[h:h:L-h]');\n",
    "\n",
    "    % Creating diagonals of the matrix\n",
    "    for i=3:N - 2\n",
    "        A(i,i) = 6;\n",
    "        A(i,i-1) = A(i,i+1) = -4;\n",
    "        A(i,i-2) = A(i,i+2) = 1; \n",
    "    endfor\n",
    "\n",
    "    % Leftside\n",
    "    A(1,1) = 12;\n",
    "    A(1,2) = -6;\n",
    "    A(1,3) = (4/3);\n",
    "    A(2,1) = A(2,3) = -4;\n",
    "    A(2,2) = 6;\n",
    "    A(2,4) = 1;\n",
    "\n",
    "    % Rightside\n",
    "    A(N,N-2) = (4/3);\n",
    "    A(N,N-1) = -6;\n",
    "    A(N,N) = -12;\n",
    "    A(N-1,N) = A(N-1,N-2) = -4;\n",
    "    A(N-1,N-1) = 6;\n",
    "    A(N-1,N-3) = 1;\n",
    "\n",
    "    % Finding y\n",
    "    y = A\\f;\n",
    "\n",
    "    % Plots\n",
    "    x = (h:h:L - h)';\n",
    "    y_exact = cos((pi/5)*x) - 1;\n",
    "    ErrMax = max(abs(y-y_exact))\n",
    "    n = n * 2;\n",
    "endfor"
   ]
  },
  {
   "cell_type": "markdown",
   "metadata": {},
   "source": [
    "## Sauer first edition (with +12 on bottom right end) (Trials) (Cos)"
   ]
  },
  {
   "cell_type": "code",
   "execution_count": 8,
   "metadata": {},
   "outputs": [
    {
     "name": "stdout",
     "output_type": "stream",
     "text": [
      "n =  10\n",
      "ErrMax =  0.10597\n",
      "n =  20\n",
      "ErrMax =  0.029763\n",
      "n =  40\n",
      "ErrMax =  0.0078282\n",
      "n =  80\n",
      "ErrMax =  0.0020059\n",
      "n =  160\n",
      "ErrMax =  0.00050769\n",
      "n =  320\n",
      "ErrMax =  0.00012771\n",
      "n =  640\n",
      "ErrMax =  0.000032032\n",
      "n =  1280\n",
      "ErrMax =  0.0000079125\n",
      "n =  2560\n",
      "ErrMax =  0.0000022028\n",
      "n =  5120\n",
      "ErrMax =  0.000019341\n",
      "n =  10240\n",
      "ErrMax =  0.00021759\n"
     ]
    }
   ],
   "source": [
    "n = 10;\n",
    "\n",
    "for j=1:11\n",
    "    n\n",
    "    h = L/(n+1); % discretization spacing\n",
    "    N = n; % number of unknowns to be solved for\n",
    "    A = sparse(N,N);\n",
    "\n",
    "    % Define the RHS of the system\n",
    "    f = h^4*(pi/5)^4*cos((pi/5)*[h:h:L-h]');\n",
    "\n",
    "    % Creating diagonals of the matrix\n",
    "    for i=3:N - 2\n",
    "        A(i,i) = 6;\n",
    "        A(i,i-1) = A(i,i+1) = -4;\n",
    "        A(i,i-2) = A(i,i+2) = 1; \n",
    "    endfor\n",
    "\n",
    "    % Leftside\n",
    "    A(1,1) = 12;\n",
    "    A(1,2) = -6;\n",
    "    A(1,3) = (4/3);\n",
    "    A(2,1) = A(2,3) = -4;\n",
    "    A(2,2) = 6;\n",
    "    A(2,4) = 1;\n",
    "\n",
    "    % Rightside\n",
    "    A(N,N-2) = (4/3);\n",
    "    A(N,N-1) = -6;\n",
    "    A(N,N) = 12;\n",
    "    A(N-1,N) = A(N-1,N-2) = -4;\n",
    "    A(N-1,N-1) = 6;\n",
    "    A(N-1,N-3) = 1;\n",
    "\n",
    "    % Finding y\n",
    "    y = A\\f;\n",
    "\n",
    "    % Plots\n",
    "    x = (h:h:L - h)';\n",
    "    y_exact = cos((pi/5)*x) - 1;\n",
    "    ErrMax = max(abs(y-y_exact))\n",
    "    n = n * 2;\n",
    "endfor"
   ]
  },
  {
   "cell_type": "markdown",
   "metadata": {},
   "source": [
    "## Sauer Second Edition (Trials) (Cos)"
   ]
  },
  {
   "cell_type": "code",
   "execution_count": 9,
   "metadata": {},
   "outputs": [
    {
     "name": "stdout",
     "output_type": "stream",
     "text": [
      "n =  10\n",
      "ErrMax =  0.15214\n",
      "n =  20\n",
      "ErrMax =  0.044239\n",
      "n =  40\n",
      "ErrMax =  0.018924\n",
      "n =  80\n",
      "ErrMax =  0.0089724\n",
      "n =  160\n",
      "ErrMax =  0.0044372\n",
      "n =  320\n",
      "ErrMax =  0.0022189\n",
      "n =  640\n",
      "ErrMax =  0.0011113\n",
      "n =  1280\n",
      "ErrMax =  0.00055637\n",
      "n =  2560\n",
      "ErrMax =  0.00027799\n",
      "n =  5120\n",
      "ErrMax =  0.00013089\n",
      "n =  10240\n",
      "ErrMax =  0.00024635\n"
     ]
    }
   ],
   "source": [
    "n = 10;\n",
    "\n",
    "for j=1:11\n",
    "    n\n",
    "    h = L/n; % discretization spacing\n",
    "    N = n; % number of unknowns to be solved for\n",
    "    A = sparse(N,N);\n",
    "\n",
    "    % Define the RHS of the system\n",
    "    f = h^4*(pi/5)^4*cos((pi/5)*[h:h:L]');\n",
    "\n",
    "    % Creating diagonals of the matrix\n",
    "    for i=3:N - 2\n",
    "        A(i,i) = 6;\n",
    "        A(i,i-1) = A(i,i+1) = -4;\n",
    "        A(i,i-2) = A(i,i+2) = 1; \n",
    "    endfor\n",
    "\n",
    "    % Leftside\n",
    "    A(1,1) = 16;\n",
    "    A(1,2) = -9;\n",
    "    A(1,3) = (8/3);\n",
    "    A(1,4) = -(1/4);\n",
    "    A(2,1) = A(2,3) = -4;\n",
    "    A(2,2) = 6;\n",
    "    A(2,4) = 1;\n",
    "\n",
    "    % Rightside\n",
    "    A(N,N-3) = -(1/4);\n",
    "    A(N,N-2) = (8/3);\n",
    "    A(N,N-1) = 9;\n",
    "    A(N,N) = 16;\n",
    "    A(N-1,N) = A(N-1,N-2) = -4;\n",
    "    A(N-1,N-1) = 6;\n",
    "    A(N-1,N-3) = 1;\n",
    "\n",
    "\n",
    "    % Compressing the matrix into a sparse matrix\n",
    "\n",
    "    % Finding y\n",
    "    y = A\\f;\n",
    "\n",
    "    % Plots\n",
    "    x = (h:h:L)';\n",
    "    y_exact = cos((pi/5)*x) - 1;\n",
    "    ErrMax = max(abs(y-y_exact))\n",
    "    n = n * 2;\n",
    "endfor"
   ]
  },
  {
   "cell_type": "code",
   "execution_count": 14,
   "metadata": {},
   "outputs": [
    {
     "name": "stdout",
     "output_type": "stream",
     "text": [
      "h =  1\n",
      "x =\n",
      "\n",
      "    1\n",
      "    2\n",
      "    3\n",
      "    4\n",
      "    5\n",
      "    6\n",
      "    7\n",
      "    8\n",
      "    9\n",
      "   10\n",
      "\n"
     ]
    }
   ],
   "source": [
    "h = 1\n",
    "x = (h:h:L)'"
   ]
  },
  {
   "cell_type": "code",
   "execution_count": null,
   "metadata": {},
   "outputs": [],
   "source": []
  }
 ],
 "metadata": {
  "kernelspec": {
   "display_name": "Octave",
   "language": "octave",
   "name": "octave"
  },
  "language_info": {
   "file_extension": ".m",
   "help_links": [
    {
     "text": "GNU Octave",
     "url": "https://www.gnu.org/software/octave/support.html"
    },
    {
     "text": "Octave Kernel",
     "url": "https://github.com/Calysto/octave_kernel"
    },
    {
     "text": "MetaKernel Magics",
     "url": "https://github.com/calysto/metakernel/blob/master/metakernel/magics/README.md"
    }
   ],
   "mimetype": "text/x-octave",
   "name": "octave",
   "version": "4.2.1"
  }
 },
 "nbformat": 4,
 "nbformat_minor": 2
}
