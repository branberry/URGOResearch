{
 "cells": [
  {
   "cell_type": "markdown",
   "metadata": {},
   "source": [
    "# Both ends fixed scenario from class project, Sauer first edition, and Sauer second edition"
   ]
  },
  {
   "cell_type": "markdown",
   "metadata": {},
   "source": [
    "## Constants definitions"
   ]
  },
  {
   "cell_type": "code",
   "execution_count": 1,
   "metadata": {},
   "outputs": [],
   "source": [
    "L = 10; % length = 10 m\n",
    "b = 0.1; % width = 10 cm\n",
    "d = 0.05; % height = 5 cm\n",
    "E = 2*10^11; % Young�s modulus for steel = 200 GPa = 2x10^11 Pa\n",
    "I = b*d^3/12; % second moment of inertia\n",
    "rho = 7850; % mass density of steel = 7850 kg/m^3\n",
    "g = 9.81; % acceleration due to gravity = 9.81 m/s^2\n",
    "w = rho*b*d*g; % weight of the beam per unit length (will be our f)"
   ]
  },
  {
   "cell_type": "markdown",
   "metadata": {},
   "source": [
    "## Class Project Version"
   ]
  },
  {
   "cell_type": "code",
   "execution_count": 11,
   "metadata": {},
   "outputs": [
    {
     "name": "stdout",
     "output_type": "stream",
     "text": [
      "A =\n",
      "\n",
      "Compressed Column Sparse (rows = 1001, cols = 1001, nnz = 0 [0%])\n",
      "\n",
      "\n",
      "ErrMax =   1.9233e-004\n"
     ]
    }
   ],
   "source": [
    "n = 1000; % number of subintervals on [0, L]\n",
    "h = L/n; % discretization spacing\n",
    "N = n + 1; % number of unknowns to be solved for\n",
    "A = sparse(N,N) % generating a sparse matrix\n",
    "\n",
    "% Define the RHS of the system\n",
    "f = -h^4/(E*I) * w * ones(N, 1);\n",
    "f(1) = f(N) = 0;\n",
    "\n",
    "% Creating diagonals of the matrix\n",
    "for i=1:N\n",
    "    for j = 1:N\n",
    "        % adding the main diagonal\n",
    "        if i == j && i > 2 && i <= N - 2\n",
    "            A(i,j) = 6;\n",
    "        endif\n",
    "        % adding the first superdiagonal and subdiagonal\n",
    "        if abs(i - j) == 1 && i > 2 && i <= N - 2\n",
    "            A(i,j) = -4;\n",
    "        endif\n",
    "        % adding the second superdiagonal and subdiagonal\n",
    "        if abs(i - j) == 2 && i > 2 && i <= N - 2\n",
    "            A(i,j) = 1;\n",
    "        endif\n",
    "    endfor\n",
    "endfor\n",
    "\n",
    "% Left end\n",
    "A(1,1) = 1;\n",
    "A(2,2) = 7;\n",
    "A(1,3) = 0;\n",
    "\n",
    "\n",
    "% Right end\n",
    "A(N,N) = 1;\n",
    "A(N-1,N-1) =  7;\n",
    "A(N-2,N) = 0;\n",
    "\n",
    "% Solve for y\n",
    "y = A\\f;\n",
    "\n",
    "x = (0:h:L)';\n",
    "y_exact = -b*d*rho*g/(24*E*I)*x.^2.*(L - x).^2;\n",
    "ErrMax = max(abs(y-y_exact))"
   ]
  },
  {
   "cell_type": "code",
   "execution_count": 12,
   "metadata": {},
   "outputs": [
    {
     "data": {
      "image/png": "[encoded data removed]",
      "text/plain": [
       "<IPython.core.display.Image object>"
      ]
     },
     "metadata": {},
     "output_type": "display_data"
    }
   ],
   "source": [
    "subplot(2,1,1);\n",
    "plot(x, y, \"b*\", x, y_exact, \"r\")\n",
    "title('Deflection of the beam');\n",
    "xlabel('x'); ylabel('y (deflection)');\n",
    "grid on;\n",
    "subplot(2,1,2);\n",
    "plot(x, abs(y - y_exact), \"r\")\n",
    "title('Error: |computed - exact|');\n",
    "xlabel('x'); ylabel('Error');\n",
    "grid on;"
   ]
  },
  {
   "cell_type": "code",
   "execution_count": null,
   "metadata": {},
   "outputs": [],
   "source": []
  }
 ],
 "metadata": {
  "kernelspec": {
   "display_name": "Octave",
   "language": "octave",
   "name": "octave"
  },
  "language_info": {
   "file_extension": ".m",
   "help_links": [
    {
     "text": "GNU Octave",
     "url": "https://www.gnu.org/software/octave/support.html"
    },
    {
     "text": "Octave Kernel",
     "url": "https://github.com/Calysto/octave_kernel"
    },
    {
     "text": "MetaKernel Magics",
     "url": "https://github.com/calysto/metakernel/blob/master/metakernel/magics/README.md"
    }
   ],
   "mimetype": "text/x-octave",
   "name": "octave",
   "version": "4.2.0"
  }
 },
 "nbformat": 4,
 "nbformat_minor": 2
}
