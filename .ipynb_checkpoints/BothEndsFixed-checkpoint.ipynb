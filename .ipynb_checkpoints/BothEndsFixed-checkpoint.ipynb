{
 "cells": [
  {
   "cell_type": "markdown",
   "metadata": {},
   "source": [
    "# Both ends fixed scenario from class project, Sauer first edition, and Sauer second edition"
   ]
  },
  {
   "cell_type": "markdown",
   "metadata": {},
   "source": [
    "## Constants definitions"
   ]
  },
  {
   "cell_type": "code",
   "execution_count": 1,
   "metadata": {},
   "outputs": [],
   "source": [
    "L = 10; % length = 10 m\n",
    "b = 0.1; % width = 10 cm\n",
    "d = 0.05; % height = 5 cm\n",
    "E = 2*10^11; % Young�s modulus for steel = 200 GPa = 2x10^11 Pa\n",
    "I = b*d^3/12; % second moment of inertia\n",
    "rho = 7850; % mass density of steel = 7850 kg/m^3\n",
    "g = 9.81; % acceleration due to gravity = 9.81 m/s^2\n",
    "w = rho*b*d*g; % weight of the beam per unit length (will be our f)"
   ]
  },
  {
   "cell_type": "markdown",
   "metadata": {},
   "source": [
    "## Class Project Version"
   ]
  },
  {
   "cell_type": "code",
   "execution_count": 18,
   "metadata": {},
   "outputs": [
    {
     "name": "stdout",
     "output_type": "stream",
     "text": [
      "A =\n",
      "\n",
      "Compressed Column Sparse (rows = 1001, cols = 1001, nnz = 0 [0%])\n",
      "\n",
      "\n",
      "ErrMax =   3.8484e-007\n"
     ]
    }
   ],
   "source": [
    "n = 1000; % number of subintervals on [0, L]\n",
    "h = L/n; % discretization spacing\n",
    "N = n + 1; % number of unknowns to be solved for\n",
    "A = sparse(N,N) % generating a sparse matrix\n",
    "\n",
    "% Define the RHS of the system\n",
    "f = -h^4/(E*I) * w * ones(N, 1);\n",
    "f(1) = f(N) = 0;\n",
    "\n",
    "% Creating diagonals of the matrix\n",
    "for i=1:N\n",
    "    for j = 1:N\n",
    "        % adding the main diagonal\n",
    "        if i == j && i > 1 && i <= N - 1\n",
    "            A(i,j) = 6;\n",
    "        endif\n",
    "        % adding the first superdiagonal and subdiagonal\n",
    "        if abs(i - j) == 1 && i > 1 && i <= N - 1\n",
    "            A(i,j) = -4;\n",
    "        endif\n",
    "        % adding the second superdiagonal and subdiagonal\n",
    "        if abs(i - j) == 2 && i > 1 && i <= N - 1\n",
    "            A(i,j) = 1;\n",
    "        endif\n",
    "    endfor\n",
    "endfor\n",
    "\n",
    "% Left end\n",
    "A(1,1) = 1;\n",
    "A(2,2) = 7;\n",
    "A(1,2) = 0;\n",
    "A(1,3) = 0;\n",
    "A(2,1) = 0;\n",
    "A(3,1) = 0;\n",
    "\n",
    "% Right end\n",
    "A(N,N) = 1;\n",
    "A(N-1,N-1) =  7;\n",
    "A(N-1,N) = 0;\n",
    "A(N-2,N) = 0;\n",
    "A(N, N-1) = 0;\n",
    "A(N, N-2) = 0;\n",
    "\n",
    "% Solve for y\n",
    "y = A\\f;\n",
    "\n",
    "x = (0:h:L)';\n",
    "y_exact = -b*d*rho*g/(24*E*I)*x.^2.*(L - x).^2;\n",
    "ErrMax = max(abs(y-y_exact))"
   ]
  },
  {
   "cell_type": "code",
   "execution_count": 19,
   "metadata": {},
   "outputs": [
    {
     "data": {
      "image/png": "[encoded data removed]",
      "text/plain": [
       "<IPython.core.display.Image object>"
      ]
     },
     "metadata": {},
     "output_type": "display_data"
    }
   ],
   "source": [
    "subplot(2,1,1);\n",
    "plot(x, y, \"b*\", x, y_exact, \"r\")\n",
    "title('Deflection of the beam');\n",
    "xlabel('x'); ylabel('y (deflection)');\n",
    "grid on;\n",
    "subplot(2,1,2);\n",
    "plot(x, abs(y - y_exact), \"r\")\n",
    "title('Error: |computed - exact|');\n",
    "xlabel('x'); ylabel('Error');\n",
    "grid on;"
   ]
  },
  {
   "cell_type": "markdown",
   "metadata": {},
   "source": [
    "## Sauer first edition (with -12 on bottom right end)"
   ]
  },
  {
   "cell_type": "code",
   "execution_count": 26,
   "metadata": {},
   "outputs": [
    {
     "name": "stdout",
     "output_type": "stream",
     "text": [
      "ErrMax =   1.3682e-004\n"
     ]
    }
   ],
   "source": [
    "% Since in Sauer's second edition does not use a pentadiagonal matrix, we must use a more standard approach\n",
    "% Filling and solving our matrix.\n",
    "format short\n",
    "\n",
    "n = 1000; % number of subintervals on [h, L]\n",
    "h = L/(n+1); % discretization spacing\n",
    "N = n; % number of unknowns to be solved for\n",
    "A = sparse(N,N);\n",
    "% Define the RHS of the system\n",
    "f = -h^4/(E*I) * w * ones(N, 1);\n",
    "%f(1) = f(N) = 0;\n",
    "\n",
    "\n",
    "% Creating diagonals of the matrix\n",
    "for i=1:N\n",
    "    for j = 1:N\n",
    "        % adding the main diagonal\n",
    "        if i == j && i > 1 && i <= N - 1\n",
    "            A(i,j) = 6;\n",
    "        endif\n",
    "        % adding the first superdiagonal and subdiagonal\n",
    "        if abs(i - j) == 1 && i > 1 && i <= N - 1\n",
    "            A(i,j) = -4;\n",
    "        endif\n",
    "        % adding the second superdiagonal and subdiagonal\n",
    "        if abs(i - j) == 2 && i > 1 && i <= N - 1\n",
    "            A(i,j) = 1;\n",
    "        endif\n",
    "    endfor\n",
    "endfor\n",
    "\n",
    "\n",
    "% left end point\n",
    "A(1,1) = 12;\n",
    "A(1,2) = -6;\n",
    "A(1,3) = (4/3);\n",
    "\n",
    "% right endpoint\n",
    "A(N,N) = -12;\n",
    "A(N-1,N) = -4;\n",
    "A(N,N-1) = -6;\n",
    "A(N-1,N-1) = 6;\n",
    "A(N,N-2) = (4/3);\n",
    "\n",
    "% Finding y\n",
    "y = A\\f;\n",
    "\n",
    "% Plots\n",
    "x = (h:h:L - h)';\n",
    "y_exact = -b*d*rho*g/(24*E*I)*x.^2.*(L - x).^2;\n",
    "ErrMax = max(abs(y-y_exact))"
   ]
  },
  {
   "cell_type": "code",
   "execution_count": 27,
   "metadata": {},
   "outputs": [
    {
     "data": {
      "image/png": "[encoded data removed]",
      "text/plain": [
       "<IPython.core.display.Image object>"
      ]
     },
     "metadata": {},
     "output_type": "display_data"
    }
   ],
   "source": [
    "subplot(2,1,1);\n",
    "plot(x, y, \"b*\", x, y_exact, \"r\")\n",
    "title('Deflection of the beam');\n",
    "xlabel('x'); ylabel('y (deflection)');\n",
    "grid on;\n",
    "subplot(2,1,2);\n",
    "plot(x, abs(y - y_exact), \"r\")\n",
    "title('Error: |computed - exact|');\n",
    "xlabel('x'); ylabel('Error');\n",
    "grid on;"
   ]
  },
  {
   "cell_type": "markdown",
   "metadata": {},
   "source": [
    "## Sauer first edition (with +12 on bottom right end)"
   ]
  },
  {
   "cell_type": "code",
   "execution_count": 28,
   "metadata": {},
   "outputs": [
    {
     "name": "stdout",
     "output_type": "stream",
     "text": [
      "ErrMax =   5.4156e-010\n"
     ]
    }
   ],
   "source": [
    "% Since in Sauer's second edition does not use a pentadiagonal matrix, we must use a more standard approach\n",
    "% Filling and solving our matrix.\n",
    "format short\n",
    "\n",
    "n = 1000; % number of subintervals on [h, L]\n",
    "h = L/(n+1); % discretization spacing\n",
    "N = n; % number of unknowns to be solved for\n",
    "A = sparse(N,N);\n",
    "% Define the RHS of the system\n",
    "f = -h^4/(E*I) * w * ones(N, 1);\n",
    "%f(1) = f(N) = 0;\n",
    "\n",
    "\n",
    "% Creating diagonals of the matrix\n",
    "for i=1:N\n",
    "    for j = 1:N\n",
    "        % adding the main diagonal\n",
    "        if i == j && i > 1 && i <= N - 1\n",
    "            A(i,j) = 6;\n",
    "        endif\n",
    "        % adding the first superdiagonal and subdiagonal\n",
    "        if abs(i - j) == 1 && i > 1 && i <= N - 1\n",
    "            A(i,j) = -4;\n",
    "        endif\n",
    "        % adding the second superdiagonal and subdiagonal\n",
    "        if abs(i - j) == 2 && i > 1 && i <= N - 1\n",
    "            A(i,j) = 1;\n",
    "        endif\n",
    "    endfor\n",
    "endfor\n",
    "\n",
    "\n",
    "% left end point\n",
    "A(1,1) = 12;\n",
    "A(1,2) = -6;\n",
    "A(1,3) = (4/3);\n",
    "\n",
    "% right endpoint\n",
    "A(N,N) = 12;\n",
    "A(N-1,N) = -4;\n",
    "A(N,N-1) = -6;\n",
    "A(N-1,N-1) = 6;\n",
    "A(N,N-2) = (4/3);\n",
    "\n",
    "% Finding y\n",
    "y = A\\f;\n",
    "\n",
    "% Plots\n",
    "x = (h:h:L - h)';\n",
    "y_exact = -b*d*rho*g/(24*E*I)*x.^2.*(L - x).^2;\n",
    "ErrMax = max(abs(y-y_exact))"
   ]
  },
  {
   "cell_type": "code",
   "execution_count": 29,
   "metadata": {},
   "outputs": [
    {
     "data": {
      "image/png": "[encoded data removed]",
      "text/plain": [
       "<IPython.core.display.Image object>"
      ]
     },
     "metadata": {},
     "output_type": "display_data"
    }
   ],
   "source": [
    "subplot(2,1,1);\n",
    "plot(x, y, \"b*\", x, y_exact, \"r\")\n",
    "title('Deflection of the beam');\n",
    "xlabel('x'); ylabel('y (deflection)');\n",
    "grid on;\n",
    "subplot(2,1,2);\n",
    "plot(x, abs(y - y_exact), \"r\")\n",
    "title('Error: |computed - exact|');\n",
    "xlabel('x'); ylabel('Error');\n",
    "grid on;"
   ]
  },
  {
   "cell_type": "markdown",
   "metadata": {},
   "source": [
    "## Sauer Second Edition"
   ]
  },
  {
   "cell_type": "code",
   "execution_count": 36,
   "metadata": {},
   "outputs": [
    {
     "name": "stdout",
     "output_type": "stream",
     "text": [
      "A = [](0x0)\n",
      "A =\n",
      "\n",
      " Columns 1 through 7:\n",
      "\n",
      "   12.00000   -9.00000    2.66667   -0.25000    0.00000    0.00000    0.00000\n",
      "   -4.00000    6.00000   -4.00000    1.00000    0.00000    0.00000    0.00000\n",
      "    1.00000   -4.00000    6.00000   -4.00000    1.00000    0.00000    0.00000\n",
      "    0.00000    1.00000   -4.00000    6.00000   -4.00000    1.00000    0.00000\n",
      "    0.00000    0.00000    1.00000   -4.00000    6.00000   -4.00000    1.00000\n",
      "    0.00000    0.00000    0.00000    1.00000   -4.00000    6.00000   -4.00000\n",
      "    0.00000    0.00000    0.00000    0.00000    1.00000   -4.00000    6.00000\n",
      "    0.00000    0.00000    0.00000    0.00000    0.00000    1.00000   -4.00000\n",
      "    0.00000    0.00000    0.00000    0.00000    0.00000    0.00000    1.00000\n",
      "    0.00000    0.00000    0.00000    0.00000    0.00000    0.00000   -0.25000\n",
      "\n",
      " Columns 8 through 10:\n",
      "\n",
      "    0.00000    0.00000    0.00000\n",
      "    0.00000    0.00000    0.00000\n",
      "    0.00000    0.00000    0.00000\n",
      "    0.00000    0.00000    0.00000\n",
      "    0.00000    0.00000    0.00000\n",
      "    1.00000    0.00000    0.00000\n",
      "   -4.00000    1.00000    0.00000\n",
      "    6.00000   -4.00000    1.00000\n",
      "   -4.00000    6.00000   -4.00000\n",
      "    2.66667   -9.00000   16.00000\n",
      "\n",
      "ErrMax =  0.048224\n"
     ]
    }
   ],
   "source": [
    "% Since in Sauer's second edition does not use a pentadiagonal matrix, we must use a more standard approach\n",
    "% Filling and solving our matrix.\n",
    "\n",
    "n = 10; % number of subintervals on [h, L]\n",
    "h = L/n; % discretization spacing\n",
    "N = n; % number of unknowns to be solved for\n",
    "A = sparse(N,N);\n",
    "\n",
    "% Define the RHS of the system\n",
    "f = -h^4/(E*I) * w * ones(N, 1);\n",
    "%f(1) = f(N) = 0;\n",
    "\n",
    "% Creating diagonals of the matrix\n",
    "for i=1:N\n",
    "    for j = 1:N\n",
    "        % adding the main diagonal\n",
    "        if i == j && i > 1 && i <= N - 1\n",
    "            A(i,j) = 6;\n",
    "        endif\n",
    "        % adding the first superdiagonal and subdiagonal\n",
    "        if abs(i - j) == 1 && i > 1 && i <= N - 1\n",
    "            A(i,j) = -4;\n",
    "        endif\n",
    "        % adding the second superdiagonal and subdiagonal\n",
    "        if abs(i - j) == 2 && i > 1 && i <= N - 1\n",
    "            A(i,j) = 1;\n",
    "        endif\n",
    "    endfor\n",
    "endfor\n",
    "\n",
    "% left end point\n",
    "A(1,1) = 12;\n",
    "A(1,2) = -9;\n",
    "A(1,3) = (8/3);\n",
    "A(1,4) = (-1/4);\n",
    "\n",
    "% right endpoint\n",
    "A(N,N) = 16;\n",
    "A(N,N-1) =  -9;\n",
    "A(N,N-2) = (8/3);\n",
    "A(N,N-3) = (-1/4);\n",
    "\n",
    "\n",
    "A\n",
    "% Compressing the matrix into a sparse matrix\n",
    "\n",
    "% Finding y\n",
    "y = A\\f;\n",
    "\n",
    "% Plots\n",
    "x = (h:h:L)';\n",
    "y_exact = -b*d*rho*g/(24*E*I)*x.^2.*(L - x).^2;\n",
    "ErrMax = max(abs(y-y_exact))"
   ]
  },
  {
   "cell_type": "code",
   "execution_count": 37,
   "metadata": {},
   "outputs": [
    {
     "data": {
      "image/png": "[encoded data removed]",
      "text/plain": [
       "<IPython.core.display.Image object>"
      ]
     },
     "metadata": {},
     "output_type": "display_data"
    }
   ],
   "source": [
    "subplot(2,1,1);\n",
    "plot(x, y, \"b*\", x, y_exact, \"r\")\n",
    "title('Deflection of the beam');\n",
    "xlabel('x'); ylabel('y (deflection)');\n",
    "grid on;\n",
    "subplot(2,1,2);\n",
    "plot(x, abs(y - y_exact), \"r\")\n",
    "title('Error: |computed - exact|');\n",
    "xlabel('x'); ylabel('Error');\n",
    "grid on;"
   ]
  },
  {
   "cell_type": "code",
   "execution_count": null,
   "metadata": {},
   "outputs": [],
   "source": []
  }
 ],
 "metadata": {
  "kernelspec": {
   "display_name": "Octave",
   "language": "octave",
   "name": "octave"
  },
  "language_info": {
   "file_extension": ".m",
   "help_links": [
    {
     "text": "GNU Octave",
     "url": "https://www.gnu.org/software/octave/support.html"
    },
    {
     "text": "Octave Kernel",
     "url": "https://github.com/Calysto/octave_kernel"
    },
    {
     "text": "MetaKernel Magics",
     "url": "https://github.com/calysto/metakernel/blob/master/metakernel/magics/README.md"
    }
   ],
   "mimetype": "text/x-octave",
   "name": "octave",
   "version": "4.2.0"
  }
 },
 "nbformat": 4,
 "nbformat_minor": 2
}
