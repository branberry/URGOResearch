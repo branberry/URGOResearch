{
 "cells": [
  {
   "cell_type": "markdown",
   "metadata": {},
   "source": [
    "#  This Jupyter Notebook contains the codes of various Euler Bernoulli Beam simulations\n"
   ]
  },
  {
   "cell_type": "markdown",
   "metadata": {},
   "source": [
    "## Constants definitions"
   ]
  },
  {
   "cell_type": "code",
   "execution_count": 1,
   "metadata": {},
   "outputs": [],
   "source": [
    "L = 10; % length = 10 m\n",
    "b = 0.1; % width = 10 cm\n",
    "d = 0.05; % height = 5 cm\n",
    "E = 2*10^11; % Young�s modulus for steel = 200 GPa = 2x10^11 Pa\n",
    "I = b*d^3/12; % second moment of inertia\n",
    "rho = 7850; % mass density of steel = 7850 kg/m^3\n",
    "g = 9.81; % acceleration due to gravity = 9.81 m/s^2\n",
    "w = rho*b*d*g; % weight of the beam per unit length (will be our f)"
   ]
  },
  {
   "cell_type": "markdown",
   "metadata": {},
   "source": [
    "## Both ends fixed"
   ]
  },
  {
   "cell_type": "code",
   "execution_count": 11,
   "metadata": {},
   "outputs": [
    {
     "name": "stdout",
     "output_type": "stream",
     "text": [
      "N =  11\n",
      "warning: matrix singular to machine precision\n",
      "ErrMax =  0.0462224014808181\n"
     ]
    }
   ],
   "source": [
    "% Since in Sauer's second edition does not use a pentadiagonal matrix, we must use a more standard approach\n",
    "% Filling and solving our matrix.\n",
    "format long\n",
    "A = [];\n",
    "\n",
    "n = 10; % number of subintervals on [0, L]\n",
    "h = L/n; % discretization spacing\n",
    "N = n + 1 % number of unknowns to be solved for\n",
    "\n",
    "% Define the RHS of the system\n",
    "f = -h^4/(E*I) * w * ones(N, 1);\n",
    "f(1) = f(N) = 0;\n",
    "\n",
    "% left end point\n",
    "A(1,2) = -9;\n",
    "A(1,3) = (8/3);\n",
    "A(1,4) = (-1/4);\n",
    "\n",
    "\n",
    "% right endpoint\n",
    "A(N,N) = (72/17);\n",
    "A(N-1,N) = (-28/17);\n",
    "A(N,N-1) = (-156/17);\n",
    "A(N-1,N-1) = (72/12);\n",
    "A(N-1,N-2) = (-60/17);\n",
    "A(N,N-2) = (96/17);\n",
    "A(N,N-3) = (-12/17);\n",
    "A(N-1,N-3) = (16/17);\n",
    "\n",
    "\n",
    "% Creating diagonals of the matrix\n",
    "for i=1:n\n",
    "    for j = 1:n\n",
    "        % adding the main diagonal\n",
    "        if i == j && i > 1 && i <= n - 2\n",
    "            A(i,j) = 6;\n",
    "        endif\n",
    "        % adding the first superdiagonal and subdiagonal\n",
    "        if abs(i - j) == 1 && i > 1 && i <= n - 2\n",
    "            A(i,j) = -4;\n",
    "        endif\n",
    "        % adding the second superdiagonal and subdiagonal\n",
    "        if abs(i - j) == 2 && i > 1 && i <= n - 2\n",
    "            A(i,j) = 1;\n",
    "        endif\n",
    "    endfor\n",
    "endfor\n",
    "\n",
    "\n",
    "% Compressing the matrix into a sparse matrix\n",
    "A = sparse(A);\n",
    "\n",
    "% Finding y\n",
    "y = A\\f;\n",
    "\n",
    "% Plots\n",
    "x = (0:h:L)';\n",
    "y_exact = -b*d*rho*g/(24*E*I)*x.^2.*(L - x).^2;\n",
    "ErrMax = max(abs(y-y_exact))"
   ]
  },
  {
   "cell_type": "code",
   "execution_count": 3,
   "metadata": {},
   "outputs": [
    {
     "data": {
      "image/png": "[encoded data removed]",
      "text/plain": [
       "<IPython.core.display.Image object>"
      ]
     },
     "metadata": {},
     "output_type": "display_data"
    }
   ],
   "source": [
    "subplot(2,1,1);\n",
    "plot(x, y, \"b*\", x, y_exact, \"r\")\n",
    "title('Deflection of the beam');\n",
    "xlabel('x'); ylabel('y (deflection)');\n",
    "grid on;\n",
    "subplot(2,1,2);\n",
    "plot(x, abs(y - y_exact), \"r\")\n",
    "title('Error: |computed - exact|');\n",
    "xlabel('x'); ylabel('Error');\n",
    "grid on;"
   ]
  },
  {
   "cell_type": "code",
   "execution_count": 14,
   "metadata": {},
   "outputs": [
    {
     "name": "stdout",
     "output_type": "stream",
     "text": [
      "warning: matrix singular to machine precision\n",
      "warning: matrix singular to machine precision\n",
      "warning: matrix singular to machine precision\n",
      "warning: matrix singular to machine precision\n",
      "warning: matrix singular to machine precision\n",
      "warning: matrix singular to machine precision\n",
      "warning: matrix singular to machine precision\n",
      "warning: matrix singular to machine precision\n",
      "warning: matrix singular to machine precision\n",
      "warning: matrix singular to machine precision\n",
      "ErrorsBothFixed =\n",
      "\n",
      "   0.0462224014808181\n",
      "   0.0453624415886269\n",
      "   0.0446685534579458\n",
      "   0.0443366272976597\n",
      "   0.0440736860208084\n",
      "   0.0438645407551958\n",
      "   0.0437391934758395\n",
      "   0.0436295778889470\n",
      "   0.0435337432538501\n",
      "   0.0434702920497669\n",
      "\n",
      "ans =\n",
      "\n",
      "   10    1\n",
      "\n"
     ]
    }
   ],
   "source": [
    "\n",
    "% vector that contains error values\n",
    "ErrorsBothFixed = [];\n",
    "n = 10; % number of subintervals on [0, L]\n",
    "h = L/n; % discretization spacing\n",
    "N = n + 1;\n",
    "\n",
    "for k=1:100 \n",
    "    % Define the RHS of the system\n",
    "    f = -h^4/(E*I) * w * ones(N, 1);\n",
    "    f(1) = f(N) = 0;\n",
    "    % Since in Sauer's second edition does not use a pentadiagonal matrix, we must use a more standard approach\n",
    "    % Filling and solving our matrix.\n",
    "    format long\n",
    "    A = [];\n",
    "\n",
    "    % left end point\n",
    "    A(1,2) = -9;\n",
    "    A(1,3) = (8/3);\n",
    "    A(1,4) = (-1/4);\n",
    "\n",
    "\n",
    "    % right endpoint\n",
    "    A(N,N) = (72/17);\n",
    "    A(N-1,N) = (-28/17);\n",
    "    A(N,N-1) = (-156/17);\n",
    "    A(N-1,N-1) = (72/12);\n",
    "    A(N-1,N-2) = (-60/17);\n",
    "    A(N,N-2) = (96/17);\n",
    "    A(N,N-3) = (-12/17);\n",
    "    A(N-1,N-3) = (16/17);\n",
    "\n",
    "\n",
    "    % Creating diagonals of the matrix\n",
    "    for i=1:n\n",
    "        for j = 1:n\n",
    "            % adding the main diagonal\n",
    "            if i == j && i > 1 && i <= n - 2\n",
    "                A(i,j) = 6;\n",
    "            endif\n",
    "            % adding the first superdiagonal and subdiagonal\n",
    "            if abs(i - j) == 1 && i > 1 && i <= n - 2\n",
    "                A(i,j) = -4;\n",
    "            endif\n",
    "            % adding the second superdiagonal and subdiagonal\n",
    "            if abs(i - j) == 2 && i > 1 && i <= n - 2\n",
    "                A(i,j) = 1;\n",
    "            endif\n",
    "        endfor\n",
    "    endfor\n",
    "\n",
    "\n",
    "    % Compressing the matrix into a sparse matrix\n",
    "    A = sparse(A);\n",
    "\n",
    "    % Finding y\n",
    "    y = A\\f;\n",
    "\n",
    "    % Plots\n",
    "\n",
    "    x = (0:h:L)';\n",
    "    y_exact = -b*d*rho*g/(24*E*I)*x.^2.*(L - x).^2;\n",
    "    ErrorsBothFixed(k) = max(abs(y-y_exact));\n",
    "    n = n + 10;\n",
    "    h = L/n; % discretization spacing\n",
    "    N = n + 1;     \n",
    "endfor\n",
    "\n",
    "ErrorsBothFixed = ErrorsBothFixed'\n"
   ]
  },
  {
   "cell_type": "code",
   "execution_count": null,
   "metadata": {},
   "outputs": [],
   "source": []
  }
 ],
 "metadata": {
  "kernelspec": {
   "display_name": "Octave",
   "language": "octave",
   "name": "octave"
  },
  "language_info": {
   "file_extension": ".m",
   "help_links": [
    {
     "text": "GNU Octave",
     "url": "https://www.gnu.org/software/octave/support.html"
    },
    {
     "text": "Octave Kernel",
     "url": "https://github.com/Calysto/octave_kernel"
    },
    {
     "text": "MetaKernel Magics",
     "url": "https://github.com/calysto/metakernel/blob/master/metakernel/magics/README.md"
    }
   ],
   "mimetype": "text/x-octave",
   "name": "octave",
   "version": "4.2.0"
  }
 },
 "nbformat": 4,
 "nbformat_minor": 2
}
