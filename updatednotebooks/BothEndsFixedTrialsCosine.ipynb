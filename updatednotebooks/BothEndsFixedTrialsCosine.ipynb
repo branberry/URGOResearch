{
 "cells": [
  {
   "cell_type": "markdown",
   "metadata": {},
   "source": [
    "## Constants definitions"
   ]
  },
  {
   "cell_type": "code",
   "execution_count": 1,
   "metadata": {},
   "outputs": [],
   "source": [
    "L = 10; % length = 10 m\n",
    "b = 0.1; % width = 10 cm\n",
    "d = 0.05; % height = 5 cm\n",
    "E = 2*10^11; % Young�s modulus for steel = 200 GPa = 2x10^11 Pa\n",
    "I = b*d^3/12; % second moment of inertia\n",
    "rho = 7850; % mass density of steel = 7850 kg/m^3\n",
    "g = 9.81; % acceleration due to gravity = 9.81 m/s^2\n",
    "w = rho*b*d*g; % weight of the beam per unit length (will be our f)"
   ]
  },
  {
   "cell_type": "markdown",
   "metadata": {},
   "source": [
    "## Class Project Version"
   ]
  },
  {
   "cell_type": "code",
   "execution_count": null,
   "metadata": {},
   "outputs": [],
   "source": [
    "n = 10;\n",
    "\n",
    "for j=1:11\n",
    "    n\n",
    "    h = L/n; % discretization spacing\n",
    "    N = n + 1; % number of unknowns to be solved for\n",
    "    A = sparse(N,N); % generating a sparse matrix\n",
    "\n",
    "    % Define the RHS of the system\n",
    "    f = h^4*(pi/5)^4*cos((pi/5)*[0:h:L]');\n",
    "    f(1) = f(N) = 0;\n",
    "\n",
    "    % Creating diagonals of the matrix\n",
    "    for i=3:N - 2\n",
    "        A(i,i) = 6;\n",
    "        A(i,i-1) = A(i,i+1) = -4;\n",
    "        A(i,i-2) = A(i,i+2) = 1; \n",
    "    endfor\n",
    "\n",
    "    % Left end\n",
    "    A(1,1) = 1;\n",
    "    A(2,2) = 7;\n",
    "    A(1,2) = 0;\n",
    "    A(1,3) = 0;\n",
    "    A(2,1) = 0;\n",
    "    A(3,1) = 0;\n",
    "    A(2,3) = -4;\n",
    "    A(2,4) = 1;\n",
    "    % Right end\n",
    "    A(N,N) = 1;\n",
    "    A(N-1,N-1) =  7;\n",
    "    A(N-1,N) = 0;\n",
    "    A(N-2,N) = 0;\n",
    "    A(N, N-1) = 0;\n",
    "    A(N, N-2) = 0;\n",
    "    A(N-1,N-2) = -4;\n",
    "    A(N-1,N-3) = 1;\n",
    "\n",
    "    % Solve for y\n",
    "    y = A\\f;\n",
    "    x = (0:h:L)';\n",
    "    y_exact = cos((pi/5)*x) - 1;\n",
    "    ErrMax = max(abs(y-y_exact))\n",
    "    n = n * 2;\n",
    "endfor"
   ]
  },
  {
   "cell_type": "markdown",
   "metadata": {},
   "source": [
    "## Sauer first edition (with -12 on bottom right end)"
   ]
  },
  {
   "cell_type": "code",
   "execution_count": null,
   "metadata": {},
   "outputs": [],
   "source": [
    "n = 10;\n",
    "\n",
    "for j=1:11\n",
    "    n\n",
    "    h = L/(n+1); % discretization spacing\n",
    "    N = n; % number of unknowns to be solved for\n",
    "    A = sparse(N,N);\n",
    "\n",
    "    % Define the RHS of the system\n",
    "    f = h^4*(pi/5)^4*cos((pi/5)*[h:h:L-h]');\n",
    "\n",
    "    % Creating diagonals of the matrix\n",
    "    for i=3:N - 2\n",
    "        A(i,i) = 6;\n",
    "        A(i,i-1) = A(i,i+1) = -4;\n",
    "        A(i,i-2) = A(i,i+2) = 1; \n",
    "    endfor\n",
    "\n",
    "    % Leftside\n",
    "    A(1,1) = 12;\n",
    "    A(1,2) = -6;\n",
    "    A(1,3) = (4/3);\n",
    "    A(2,1) = A(2,3) = -4;\n",
    "    A(2,2) = 6;\n",
    "    A(2,4) = 1;\n",
    "\n",
    "    % Rightside\n",
    "    A(N,N-2) = (4/3);\n",
    "    A(N,N-1) = -6;\n",
    "    A(N,N) = -12;\n",
    "    A(N-1,N) = A(N-1,N-2) = -4;\n",
    "    A(N-1,N-1) = 6;\n",
    "    A(N-1,N-3) = 1;\n",
    "\n",
    "    % Finding y\n",
    "    y = A\\f;\n",
    "\n",
    "    % Plots\n",
    "    x = (h:h:L - h)';\n",
    "    y_exact = cos((pi/5)*x) - 1;\n",
    "    ErrMax = max(abs(y-y_exact))\n",
    "    n = n * 2;\n",
    "endfor"
   ]
  },
  {
   "cell_type": "markdown",
   "metadata": {},
   "source": [
    "## Sauer first edition (with +12 on bottom right end)"
   ]
  },
  {
   "cell_type": "code",
   "execution_count": null,
   "metadata": {},
   "outputs": [],
   "source": [
    "n = 10;\n",
    "\n",
    "for j=1:11\n",
    "    n\n",
    "    h = L/(n+1); % discretization spacing\n",
    "    N = n; % number of unknowns to be solved for\n",
    "    A = sparse(N,N);\n",
    "\n",
    "    % Define the RHS of the system\n",
    "    f = h^4*(pi/5)^4*cos((pi/5)*[h:h:L-h]');\n",
    "\n",
    "    % Creating diagonals of the matrix\n",
    "    for i=3:N - 2\n",
    "        A(i,i) = 6;\n",
    "        A(i,i-1) = A(i,i+1) = -4;\n",
    "        A(i,i-2) = A(i,i+2) = 1; \n",
    "    endfor\n",
    "\n",
    "    % Leftside\n",
    "    A(1,1) = 12;\n",
    "    A(1,2) = -6;\n",
    "    A(1,3) = (4/3);\n",
    "    A(2,1) = A(2,3) = -4;\n",
    "    A(2,2) = 6;\n",
    "    A(2,4) = 1;\n",
    "\n",
    "    % Rightside\n",
    "    A(N,N-2) = (4/3);\n",
    "    A(N,N-1) = -6;\n",
    "    A(N,N) = 12;\n",
    "    A(N-1,N) = A(N-1,N-2) = -4;\n",
    "    A(N-1,N-1) = 6;\n",
    "    A(N-1,N-3) = 1;\n",
    "\n",
    "    % Finding y\n",
    "    y = A\\f;\n",
    "\n",
    "    % Plots\n",
    "    x = (h:h:L - h)';\n",
    "    y_exact = cos((pi/5)*x) - 1;\n",
    "    ErrMax = max(abs(y-y_exact))\n",
    "    n = n * 2;\n",
    "endfor"
   ]
  },
  {
   "cell_type": "markdown",
   "metadata": {},
   "source": [
    "## Sauer Second Edition"
   ]
  },
  {
   "cell_type": "code",
   "execution_count": null,
   "metadata": {},
   "outputs": [],
   "source": []
  }
 ],
 "metadata": {
  "kernelspec": {
   "display_name": "Octave",
   "language": "octave",
   "name": "octave"
  },
  "language_info": {
   "file_extension": ".m",
   "help_links": [
    {
     "text": "GNU Octave",
     "url": "https://www.gnu.org/software/octave/support.html"
    },
    {
     "text": "Octave Kernel",
     "url": "https://github.com/Calysto/octave_kernel"
    },
    {
     "text": "MetaKernel Magics",
     "url": "https://github.com/calysto/metakernel/blob/master/metakernel/magics/README.md"
    }
   ],
   "mimetype": "text/x-octave",
   "name": "octave",
   "version": "4.4.0"
  }
 },
 "nbformat": 4,
 "nbformat_minor": 2
}
