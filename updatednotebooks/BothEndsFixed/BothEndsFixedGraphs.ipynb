{
 "cells": [
  {
   "cell_type": "markdown",
   "metadata": {},
   "source": [
    "## Constants definitions"
   ]
  },
  {
   "cell_type": "code",
   "execution_count": 2,
   "metadata": {},
   "outputs": [],
   "source": [
    "L = 10; % length = 10 m\n",
    "b = 0.1; % width = 10 cm\n",
    "d = 0.05; % height = 5 cm\n",
    "E = 2*10^11; % Young's modulus for steel = 200 GPa = 2x10^11 Pa\n",
    "I = b*d^3/12; % second moment of inertia\n",
    "rho = 7850; % mass density of steel = 7850 kg/m^3\n",
    "g = 9.81; % acceleration due to gravity = 9.81 m/s^2\n",
    "w = rho*b*d*g; % weight of the beam per unit length (will be our f)"
   ]
  },
  {
   "cell_type": "markdown",
   "metadata": {},
   "source": [
    "## Class Project Version\n"
   ]
  },
  {
   "cell_type": "code",
   "execution_count": 35,
   "metadata": {},
   "outputs": [
    {
     "name": "stdout",
     "output_type": "stream",
     "text": [
      "ErrMax =   3.8504e-005\n"
     ]
    }
   ],
   "source": [
    "n = 100; % number of subintervals on [0, L]\n",
    "h = L/n; % discretization spacing\n",
    "N = n + 1; % number of unknowns to be solved for\n",
    "A = sparse(N,N); % generating a sparse matrix\n",
    "format short e\n",
    "% Define the RHS of the system\n",
    "f = -h^4/(E*I) * w * ones(N, 1);\n",
    "f(1) = f(N) = 0;\n",
    "% Creating diagonals of the matrix\n",
    "for i=3:N - 2\n",
    "    A(i,i) = 6;\n",
    "    A(i,i-1) = A(i,i+1) = -4;\n",
    "    A(i,i-2) = A(i,i+2) = 1; \n",
    "endfor\n",
    "\n",
    "% Left end\n",
    "A(1,1) = 1;\n",
    "A(2,2) = 7;\n",
    "A(1,2) = 0;\n",
    "A(1,3) = 0;\n",
    "A(2,1) = 0;\n",
    "A(3,1) = 0;\n",
    "A(2,3) = -4;\n",
    "A(2,4) = 1;\n",
    "% Right end\n",
    "A(N,N) = 1;\n",
    "A(N-1,N-1) =  7;\n",
    "A(N-1,N) = 0;\n",
    "A(N-2,N) = 0;\n",
    "A(N, N-1) = 0;\n",
    "A(N, N-2) = 0;\n",
    "A(N-1,N-2) = -4;\n",
    "A(N-1,N-3) = 1;\n",
    "\n",
    "% Solve for y\n",
    "y = A\\f;\n",
    "\n",
    "x = (0:h:L)';\n",
    "y_exact = -b*d*rho*g/(24*E*I)*x.^2.*(L - x).^2;\n",
    "ErrMax = max(abs(y-y_exact))"
   ]
  },
  {
   "cell_type": "code",
   "execution_count": null,
   "metadata": {},
   "outputs": [],
   "source": [
    "subplot(2,1,1);\n",
    "plot(x, y, \"b*\", x, y_exact, \"r\")\n",
    "title('Deflection of the beam');\n",
    "xlabel('x'); ylabel('y (deflection)');\n",
    "grid on;\n",
    "subplot(2,1,2);\n",
    "plot(x, abs(y - y_exact), \"r\")\n",
    "title('Error: |computed - exact|');\n",
    "xlabel('x'); ylabel('Error');\n",
    "grid on;"
   ]
  },
  {
   "cell_type": "markdown",
   "metadata": {},
   "source": [
    "## Class Project Version (Penta)"
   ]
  },
  {
   "cell_type": "code",
   "execution_count": null,
   "metadata": {},
   "outputs": [],
   "source": [
    "n = 1000; % number of subintervals on [0, L]\n",
    "h = L/n; % discretization spacing\n",
    "N = n + 1; % number of unknowns to be solved for\n",
    "format short e\n",
    "% Define the RHS of the system\n",
    "f = -h^4/(E*I) * w * ones(N, 1);\n",
    "f(1) = f(N) = 0;\n",
    "\n",
    "% Define the matrix of the system. Notation: d0 is the main diagonal;\n",
    "% dpn is \"main diagonal + n\" (superdiagonal n); dmn is \"main diagonal - n\" (subdiagonal n)\n",
    "d0 = 6*ones(1, N);\n",
    "dp1 = dm1 = -4*ones(1, N-1);\n",
    "dp2 = dm2 = ones(1, N-2);\n",
    "% Fixed left end\n",
    "d0(1) = 1.0; d0(2) = 7.0;\n",
    "dp1(1) = 0.0;\n",
    "dp2(1) = 0.0;\n",
    "dm1(1) = 0.0;\n",
    "dm2(1) = 0.0;\n",
    "% Fixed right end\n",
    "d0(N) = 1.0; d0(N-1) = 7.0;\n",
    "dp1(N-1) = 0.0;\n",
    "dp2(N-2) = 0.0;\n",
    "dm1(N-1) = 0.0;\n",
    "dm2(N-2) = 0.0;\n",
    "% Solve for y\n",
    "y = GaussElimPenta(dm2, dm1, d0, dp1, dp2, f);\n",
    "% Plots\n",
    "x = (0:h:L)';\n",
    "y_exact = -b*d*rho*g/(24*E*I)*x.^2.*(L - x).^2;\n",
    "ErrMax = max(abs(y-y_exact))"
   ]
  },
  {
   "cell_type": "code",
   "execution_count": null,
   "metadata": {},
   "outputs": [],
   "source": [
    "subplot(2,1,1);\n",
    "plot(x, y, \"b*\", x, y_exact, \"r\")\n",
    "title('Deflection of the beam');\n",
    "xlabel('x'); ylabel('y (deflection)');\n",
    "grid on;\n",
    "subplot(2,1,2);\n",
    "plot(x, abs(y - y_exact), \"r\")\n",
    "title('Error: |computed - exact|');\n",
    "xlabel('x'); ylabel('Error');\n",
    "grid on;"
   ]
  },
  {
   "cell_type": "markdown",
   "metadata": {},
   "source": [
    "## Sauer first edition (with -12 on bottom right end)"
   ]
  },
  {
   "cell_type": "code",
   "execution_count": 5,
   "metadata": {},
   "outputs": [
    {
     "name": "stdout",
     "output_type": "stream",
     "text": [
      "A =\n",
      "\n",
      "         12         -6        4/3          0          0          0\n",
      "         -4          6         -4          1          0          0\n",
      "          1         -4          6         -4          1          0\n",
      "          0          1         -4          6         -4          1\n",
      "          0          0          1         -4          6         -4\n",
      "          0          0          0        4/3         -6        -12\n",
      "\n",
      "ErrMax = 109/5255\n"
     ]
    }
   ],
   "source": [
    "% Since in Sauer's second edition does not use a pentadiagonal matrix, we must use a more standard approach\n",
    "% Filling and solving our matrix.\n",
    "format short e\n",
    "\n",
    "n = 6; % number of subintervals on [h, L]\n",
    "h = L/(n+1); % discretization spacing\n",
    "N = n; % number of unknowns to be solved for\n",
    "A = sparse(N,N);\n",
    "% Define the RHS of the system\n",
    "f = -h^4/(E*I) * w * ones(N, 1);\n",
    "\n",
    "% Creating diagonals of the matrix\n",
    "for i=3:N - 2\n",
    "    A(i,i) = 6;\n",
    "    A(i,i-1) = A(i,i+1) = -4;\n",
    "    A(i,i-2) = A(i,i+2) = 1; \n",
    "endfor\n",
    "\n",
    "% Leftside\n",
    "A(1,1) = 12;\n",
    "A(1,2) = -6;\n",
    "A(1,3) = (4/3);\n",
    "A(2,1) = A(2,3) = -4;\n",
    "A(2,2) = 6;\n",
    "A(2,4) = 1;\n",
    "\n",
    "% Rightside\n",
    "A(N,N-2) = (4/3);\n",
    "A(N,N-1) = -6;\n",
    "A(N,N) = -12;\n",
    "A(N-1,N) = A(N-1,N-2) = -4;\n",
    "A(N-1,N-1) = 6;\n",
    "A(N-1,N-3) = 1;\n",
    "\n",
    "% Finding y\n",
    "y = A\\f;\n",
    "\n",
    "% Plots\n",
    "x = (h:h:L - h)';\n",
    "y_exact = -b*d*rho*g/(24*E*I)*x.^2.*(L - x).^2;\n",
    "ErrMax = max(abs(y-y_exact))"
   ]
  },
  {
   "cell_type": "code",
   "execution_count": null,
   "metadata": {},
   "outputs": [],
   "source": [
    "subplot(2,1,1);\n",
    "plot(x, y, \"b*\", x, y_exact, \"r\")\n",
    "title('Deflection of the beam');\n",
    "xlabel('x'); ylabel('y (deflection)');\n",
    "grid on;\n",
    "subplot(2,1,2);\n",
    "plot(x, abs(y - y_exact), \"r\")\n",
    "title('Error: |computed - exact|');\n",
    "xlabel('x'); ylabel('Error');\n",
    "grid on;"
   ]
  },
  {
   "cell_type": "markdown",
   "metadata": {},
   "source": [
    "## Sauer first edition (with +12 on bottom right end)"
   ]
  },
  {
   "cell_type": "code",
   "execution_count": 27,
   "metadata": {},
   "outputs": [
    {
     "name": "stdout",
     "output_type": "stream",
     "text": [
      "A =\n",
      "\n",
      "         12         -6        4/3          0          0          0\n",
      "         -4          6         -4          1          0          0\n",
      "          1         -4          6         -4          1          0\n",
      "          0          1         -4          6         -4          1\n",
      "          0          0          1         -4          6         -4\n",
      "          0          0          0        4/3         -6         12\n",
      "\n",
      "ans =\n",
      "\n",
      "          0\n",
      "   -61/5283\n",
      "  -185/5768\n",
      "  -333/7210\n",
      "  -333/7210\n",
      "  -185/5768\n",
      "   -61/5283\n",
      "          0\n",
      "\n",
      "ErrMax = 0\n"
     ]
    }
   ],
   "source": [
    "% Since in Sauer's second edition does not use a pentadiagonal matrix, we must use a more standard approach\n",
    "% Filling and solving our matrix.\n",
    "format short e\n",
    "\n",
    "n = 6; % number of subintervals on [h, L]\n",
    "h = L/(n+1); % discretization spacing\n",
    "N = n; % number of unknowns to be solved for\n",
    "A = sparse(N,N);\n",
    "A = [];\n",
    "% Define the RHS of the system\n",
    "f = -h^4/(E*I) * w * ones(N, 1);\n",
    "\n",
    "\n",
    "% Creating diagonals of the matrix\n",
    "for i=3:N - 2\n",
    "    A(i,i) = 6;\n",
    "    A(i,i-1) = A(i,i+1) = -4;\n",
    "    A(i,i-2) = A(i,i+2) = 1; \n",
    "endfor\n",
    "\n",
    "% Leftside\n",
    "A(1,1) = 12;\n",
    "A(1,2) = -6;\n",
    "A(1,3) = (4/3);\n",
    "A(2,1) = A(2,3) = -4;\n",
    "A(2,2) = 6;\n",
    "A(2,4) = 1;\n",
    "\n",
    "% Rightside\n",
    "A(N,N-2) = (4/3);\n",
    "A(N,N-1) = -6;\n",
    "A(N,N) = 12;\n",
    "A(N-1,N) = A(N-1,N-2) = -4;\n",
    "A(N-1,N-1) = 6;\n",
    "A(N-1,N-3) = 1;\n",
    "\n",
    "% Finding y\n",
    "y = A\\f;\n",
    "% Plots\n",
    "x = (h:h:L - h)';\n",
    "y_exact = -b*d*rho*g/(24*E*I)*x.^2.*(L - x).^2;\n",
    "ErrMax = max(abs(y-y_exact))"
   ]
  },
  {
   "cell_type": "code",
   "execution_count": 34,
   "metadata": {},
   "outputs": [
    {
     "data": {
      "image/png": "[encoded data removed]",
      "text/plain": [
       "<IPython.core.display.Image object>"
      ]
     },
     "metadata": {},
     "output_type": "display_data"
    }
   ],
   "source": [
    "subplot(2,1,1);\n",
    "plot([0;x;0], [0;y;0], \"b*\", [0;x;L],[0;y_exact;0], \"r\")\n",
    "title('Deflection of the beam');\n",
    "xlabel('x'); ylabel('y (deflection)');\n",
    "grid on;\n",
    "subplot(2,1,2);\n",
    "plot([0;x;L], [0; abs(y - y_exact);0], \"r\")\n",
    "title('Error: |computed - exact|');\n",
    "xlabel('x'); ylabel('Error');\n",
    "grid on;"
   ]
  },
  {
   "cell_type": "markdown",
   "metadata": {},
   "source": [
    "## Sauer Second Edition"
   ]
  },
  {
   "cell_type": "code",
   "execution_count": 25,
   "metadata": {},
   "outputs": [
    {
     "name": "stdout",
     "output_type": "stream",
     "text": [
      "ErrMax =   4.7536e-002\n"
     ]
    }
   ],
   "source": [
    "% Since in Sauer's second edition does not use a pentadiagonal matrix, we must use a more standard approach\n",
    "% Filling and solving our matrix.\n",
    "format short e\n",
    "n = 6; % number of subintervals on [h, L]\n",
    "h = L/n; % discretization spacing\n",
    "N = n; % number of unknowns to be solved for\n",
    "A = sparse(N,N);\n",
    "\n",
    "% Define the RHS of the system\n",
    "f = -h^4/(E*I) * w * ones(N, 1);\n",
    "\n",
    "% Creating diagonals of the matrix\n",
    "for i=3:N - 2\n",
    "    A(i,i) = 6;\n",
    "    A(i,i-1) = A(i,i+1) = -4;\n",
    "    A(i,i-2) = A(i,i+2) = 1; \n",
    "endfor\n",
    "\n",
    "% Leftside\n",
    "A(1,1) = 16;\n",
    "A(1,2) = -9;\n",
    "A(1,3) = (8/3);\n",
    "A(1,4) = -(1/4);\n",
    "A(2,1) = A(2,3) = -4;\n",
    "A(2,2) = 6;\n",
    "A(2,4) = 1;\n",
    "\n",
    "% Rightside\n",
    "A(N,N-3) = -(1/4);\n",
    "A(N,N-2) = (8/3);\n",
    "A(N,N-1) = -9;\n",
    "A(N,N) = 16;\n",
    "A(N-1,N) = A(N-1,N-2) = -4;\n",
    "A(N-1,N-1) = 6;\n",
    "A(N-1,N-3) = 1;\n",
    "\n",
    "% Compressing the matrix into a sparse matrix\n",
    "\n",
    "% Finding y\n",
    "y = A\\f;\n",
    "% Plots\n",
    "x = (h:h:L)';\n",
    "y_exact = -b*d*rho*g/(24*E*I)*x.^2.*(L - x).^2;\n",
    "ErrMax = max(abs(y-y_exact))"
   ]
  },
  {
   "cell_type": "code",
   "execution_count": 26,
   "metadata": {},
   "outputs": [
    {
     "data": {
      "image/png": "[encoded data removed]",
      "text/plain": [
       "<IPython.core.display.Image object>"
      ]
     },
     "metadata": {},
     "output_type": "display_data"
    }
   ],
   "source": [
    "subplot(2,1,1);\n",
    "plot([0; x], [0 ; y], \"b*\", [0;x], [0;y_exact], \"r\")\n",
    "title('Deflection of the beam');\n",
    "xlabel('x'); ylabel('y (deflection)');\n",
    "grid on;\n",
    "subplot(2,1,2);\n",
    "plot(x, abs(y - y_exact), \"r\")\n",
    "title('Error: |computed - exact|');\n",
    "xlabel('x'); ylabel('Error');\n",
    "grid on;"
   ]
  },
  {
   "cell_type": "code",
   "execution_count": null,
   "metadata": {},
   "outputs": [],
   "source": []
  }
 ],
 "metadata": {
  "kernelspec": {
   "display_name": "Octave",
   "language": "octave",
   "name": "octave"
  },
  "language_info": {
   "file_extension": ".m",
   "help_links": [
    {
     "text": "GNU Octave",
     "url": "https://www.gnu.org/software/octave/support.html"
    },
    {
     "text": "Octave Kernel",
     "url": "https://github.com/Calysto/octave_kernel"
    },
    {
     "text": "MetaKernel Magics",
     "url": "https://github.com/calysto/metakernel/blob/master/metakernel/magics/README.md"
    }
   ],
   "mimetype": "text/x-octave",
   "name": "octave",
   "version": "4.4.0"
  }
 },
 "nbformat": 4,
 "nbformat_minor": 2
}
