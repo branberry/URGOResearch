{
 "cells": [
  {
   "cell_type": "markdown",
   "metadata": {},
   "source": [
    "## Constants definitions"
   ]
  },
  {
   "cell_type": "code",
   "execution_count": 1,
   "metadata": {},
   "outputs": [],
   "source": [
    "L = 10; % length = 10 m\n",
    "b = 0.1; % width = 10 cm\n",
    "d = 0.05; % height = 5 cm\n",
    "E = 2*10^11; % Young's modulus for steel = 200 GPa = 2x10^11 Pa\n",
    "I = b*d^3/12; % second moment of inertia\n",
    "rho = 7850; % mass density of steel = 7850 kg/m^3\n",
    "g = 9.81; % acceleration due to gravity = 9.81 m/s^2\n",
    "w = rho*b*d*g; % weight of the beam per unit length (will be our f)"
   ]
  },
  {
   "cell_type": "markdown",
   "metadata": {},
   "source": [
    "## Class Project Version"
   ]
  },
  {
   "cell_type": "code",
   "execution_count": 8,
   "metadata": {},
   "outputs": [
    {
     "name": "stdout",
     "output_type": "stream",
     "text": [
      "n: 10\t\t\t\tErrMax =   1.3649e-001\n",
      "n: 20\t\t\t\tErrMax =   3.3198e-002\n",
      "n: 40\t\t\t\tErrMax =   8.2433e-003\n",
      "n: 80\t\t\t\tErrMax =   2.0573e-003\n",
      "n: 160\t\t\t\tErrMax =   5.1411e-004\n",
      "n: 320\t\t\t\tErrMax =   1.2852e-004\n",
      "n: 640\t\t\t\tErrMax =   3.2128e-005\n",
      "n: 1280\t\t\t\tErrMax =   7.7895e-006\n",
      "n: 2560\t\t\t\tErrMax =   3.2966e-006\n",
      "n: 5120\t\t\t\tErrMax =   2.3116e-005\n",
      "n: 10240\t\t\t\tErrMax =   2.8508e-004\n"
     ]
    }
   ],
   "source": [
    "n = 10;\n",
    "format short e\n",
    "for j=1:11\n",
    "    printf(\"n: %d\\t\\t\\t\\t\", n);\n",
    "    h = L/n; % discretization spacing\n",
    "    N = n + 1; % number of unknowns to be solved for\n",
    "    A = sparse(N,N); % generating a sparse matrix\n",
    "\n",
    "    % Define the RHS of the system\n",
    "    f = h^4*(pi/5)^4*cos((pi/5)*[0:h:L]');\n",
    "    f(1) = f(N) = 0;\n",
    "\n",
    "    % Creating diagonals of the matrix\n",
    "    for i=3:N - 2\n",
    "        A(i,i) = 6;\n",
    "        A(i,i-1) = A(i,i+1) = -4;\n",
    "        A(i,i-2) = A(i,i+2) = 1; \n",
    "    endfor\n",
    "\n",
    "    % Left end\n",
    "    A(1,1) = 1;\n",
    "    A(2,2) = 7;\n",
    "    A(1,2) = 0;\n",
    "    A(1,3) = 0;\n",
    "    A(2,1) = 0;\n",
    "    A(3,1) = 0;\n",
    "    A(2,3) = -4;\n",
    "    A(2,4) = 1;\n",
    "    % Right end\n",
    "    A(N,N) = 1;\n",
    "    A(N-1,N-1) =  7;\n",
    "    A(N-1,N) = 0;\n",
    "    A(N-2,N) = 0;\n",
    "    A(N, N-1) = 0;\n",
    "    A(N, N-2) = 0;\n",
    "    A(N-1,N-2) = -4;\n",
    "    A(N-1,N-3) = 1;\n",
    "\n",
    "    % Solve for y\n",
    "    y = A\\f;\n",
    "    x = (0:h:L)';\n",
    "    y_exact = cos((pi/5)*x) - 1;\n",
    "    ErrMax = max(abs(y-y_exact))\n",
    "    n = n * 2;\n",
    "endfor"
   ]
  },
  {
   "cell_type": "markdown",
   "metadata": {},
   "source": [
    "## Class Project Version (Penta)\n"
   ]
  },
  {
   "cell_type": "code",
   "execution_count": 5,
   "metadata": {},
   "outputs": [
    {
     "name": "stdout",
     "output_type": "stream",
     "text": [
      "n: 10\t\t\t\tErrMax =   1.3649e-001\n",
      "n: 20\t\t\t\tErrMax =   3.3198e-002\n",
      "n: 40\t\t\t\tErrMax =   8.2433e-003\n",
      "n: 80\t\t\t\tErrMax =   2.0573e-003\n",
      "n: 160\t\t\t\tErrMax =   5.1411e-004\n",
      "n: 320\t\t\t\tErrMax =   1.2852e-004\n",
      "n: 640\t\t\t\tErrMax =   3.2140e-005\n",
      "n: 1280\t\t\t\tErrMax =   8.1520e-006\n",
      "n: 2560\t\t\t\tErrMax =   5.0261e-006\n",
      "n: 5120\t\t\t\tErrMax =   1.9459e-005\n",
      "n: 10240\t\t\t\tErrMax =   2.9114e-004\n"
     ]
    }
   ],
   "source": [
    "n = 10;\n",
    "\n",
    "for j=1:11\n",
    "    printf(\"n: %d\\t\\t\\t\\t\", n);\n",
    "    h = L/n; % discretization spacing\n",
    "    N = n + 1; % number of unknowns to be solved for\n",
    "    format short e\n",
    "    % Define the RHS of the system\n",
    "    f = h^4*(pi/5)^4*cos((pi/5)*[0:h:L]');\n",
    "    f(1) = f(N) = 0;\n",
    "\n",
    "    % Define the matrix of the system. Notation: d0 is the main diagonal;\n",
    "    % dpn is \"main diagonal + n\" (superdiagonal n); dmn is \"main diagonal - n\" (subdiagonal n)\n",
    "    d0 = 6*ones(1, N);\n",
    "    dp1 = dm1 = -4*ones(1, N-1);\n",
    "    dp2 = dm2 = ones(1, N-2);\n",
    "    % Fixed left end\n",
    "    d0(1) = 1.0; d0(2) = 7.0;\n",
    "    dp1(1) = 0.0;\n",
    "    dp2(1) = 0.0;\n",
    "    dm1(1) = 0.0;\n",
    "    dm2(1) = 0.0;\n",
    "    % Fixed right end\n",
    "    d0(N) = 1.0; d0(N-1) = 7.0;\n",
    "    dp1(N-1) = 0.0;\n",
    "    dp2(N-2) = 0.0;\n",
    "    dm1(N-1) = 0.0;\n",
    "    dm2(N-2) = 0.0;\n",
    "    % Solve for y\n",
    "    y = GaussElimPenta(dm2, dm1, d0, dp1, dp2, f);\n",
    "\n",
    "    x = (0:h:L)';\n",
    "    y_exact = cos((pi/5)*x) - 1;\n",
    "    ErrMax = max(abs(y-y_exact))\n",
    "    n = n * 2;\n",
    "endfor"
   ]
  },
  {
   "cell_type": "markdown",
   "metadata": {},
   "source": [
    "## Class Project Version (Non-Fictitious nodes)"
   ]
  },
  {
   "cell_type": "code",
   "execution_count": 7,
   "metadata": {},
   "outputs": [
    {
     "name": "stdout",
     "output_type": "stream",
     "text": [
      "n: 10\t\t\t\tErrMax =   3.907680460359719e-002\n",
      "n: 20\t\t\t\tErrMax =   2.102216572090976e-002\n",
      "n: 40\t\t\t\tErrMax =   6.721286557437978e-003\n",
      "n: 80\t\t\t\tErrMax =   1.867078592086013e-003\n",
      "n: 160\t\t\t\tErrMax =   4.903330999659339e-004\n",
      "n: 320\t\t\t\tErrMax =   1.255419733072749e-004\n",
      "n: 640\t\t\t\tErrMax =   3.175220714846105e-005\n",
      "n: 1280\t\t\t\tErrMax =   7.883149748089124e-006\n",
      "n: 2560\t\t\t\tErrMax =   6.285082567725198e-007\n",
      "n: 5120\t\t\t\tErrMax =   2.321741815358713e-005\n",
      "n: 10240\t\t\t\tErrMax =   5.034061261421918e-005\n"
     ]
    }
   ],
   "source": [
    "n = 10;\n",
    "\n",
    "for j=1:11\n",
    "    printf(\"n: %d\\t\\t\\t\\t\", n);\n",
    "    h = L/n; % discretization spacing\n",
    "    N = n + 1; % number of unknowns to be solved for\n",
    "\n",
    "    % Define the RHS of the system\n",
    "    f = h^4*(pi/5)^4*cos((pi/5)*[0:h:L]');\n",
    "    f(1) = f(2) = f(N-1) = f(N) = 0;\n",
    "\n",
    "    format long\n",
    "    A = sparse(N,N);\n",
    "\n",
    "    A(1,1) = 1;\n",
    "    A(2,1) = -3;\n",
    "    A(2,2) = 4;\n",
    "    A(2,3) = -1;\n",
    "\n",
    "    A(N,N) = 1;\n",
    "    A(N-1,N) = -3;\n",
    "    A(N-1,N-1) = 4;\n",
    "    A(N-1,N-2) = -1;\n",
    "    % Creating diagonals of the matrix\n",
    "    for i=3:N - 2\n",
    "        A(i,i) = 6;\n",
    "        A(i,i-1) = A(i,i+1) = -4;\n",
    "        A(i,i-2) = A(i,i+2) = 1; \n",
    "    endfor\n",
    "\n",
    "    % Solve for y\n",
    "    y = A\\f;\n",
    "    \n",
    "    % Plots\n",
    "    x = (0:h:L)';\n",
    "    y_exact = cos((pi/5)*x) - 1;\n",
    "    ErrMax = max(abs(y-y_exact))\n",
    "\n",
    "    n = n * 2;\n",
    "    \n",
    "endfor"
   ]
  },
  {
   "cell_type": "markdown",
   "metadata": {},
   "source": [
    "## Sauer first edition (with -12 on bottom right end)"
   ]
  },
  {
   "cell_type": "code",
   "execution_count": 7,
   "metadata": {},
   "outputs": [
    {
     "name": "stdout",
     "output_type": "stream",
     "text": [
      "n: 10\t\t\t\tErrMax =   3.3916e-001\n",
      "n: 20\t\t\t\tErrMax =   1.6808e-001\n",
      "n: 40\t\t\t\tErrMax =   8.5329e-002\n",
      "n: 80\t\t\t\tErrMax =   4.3177e-002\n",
      "n: 160\t\t\t\tErrMax =   2.1750e-002\n",
      "n: 320\t\t\t\tErrMax =   1.0919e-002\n",
      "n: 640\t\t\t\tErrMax =   5.4712e-003\n",
      "n: 1280\t\t\t\tErrMax =   2.7386e-003\n",
      "n: 2560\t\t\t\tErrMax =   1.3697e-003\n",
      "n: 5120\t\t\t\tErrMax =   6.7078e-004\n",
      "n: 10240\t\t\t\tErrMax =   5.4537e-004\n"
     ]
    }
   ],
   "source": [
    "n = 10;\n",
    "format short e\n",
    "for j=1:11\n",
    "    printf(\"n: %d\\t\\t\\t\\t\", n);\n",
    "    h = L/(n+1); % discretization spacing\n",
    "    N = n; % number of unknowns to be solved for\n",
    "    A = sparse(N,N);\n",
    "\n",
    "    % Define the RHS of the system\n",
    "    f = h^4*(pi/5)^4*cos((pi/5)*[h:h:L-h]');\n",
    "\n",
    "    % Creating diagonals of the matrix\n",
    "    for i=3:N - 2\n",
    "        A(i,i) = 6;\n",
    "        A(i,i-1) = A(i,i+1) = -4;\n",
    "        A(i,i-2) = A(i,i+2) = 1; \n",
    "    endfor\n",
    "\n",
    "    % Leftside\n",
    "    A(1,1) = 12;\n",
    "    A(1,2) = -6;\n",
    "    A(1,3) = (4/3);\n",
    "    A(2,1) = A(2,3) = -4;\n",
    "    A(2,2) = 6;\n",
    "    A(2,4) = 1;\n",
    "\n",
    "    % Rightside\n",
    "    A(N,N-2) = (4/3);\n",
    "    A(N,N-1) = -6;\n",
    "    A(N,N) = -12;\n",
    "    A(N-1,N) = A(N-1,N-2) = -4;\n",
    "    A(N-1,N-1) = 6;\n",
    "    A(N-1,N-3) = 1;\n",
    "\n",
    "    % Finding y\n",
    "    y = A\\f;\n",
    "\n",
    "    % Plots\n",
    "    x = (h:h:L - h)';\n",
    "    y_exact = cos((pi/5)*x) - 1;\n",
    "    ErrMax = max(abs(y-y_exact))\n",
    "    n = n * 2;\n",
    "endfor"
   ]
  },
  {
   "cell_type": "markdown",
   "metadata": {},
   "source": [
    "## Sauer first edition (with -12 on bottom right end) (Penta)"
   ]
  },
  {
   "cell_type": "code",
   "execution_count": 5,
   "metadata": {},
   "outputs": [
    {
     "name": "stdout",
     "output_type": "stream",
     "text": [
      "n: 10\t\t\t\tErrMax =   7.8640e-001\n",
      "n: 20\t\t\t\tErrMax =   3.7526e-001\n",
      "n: 40\t\t\t\tErrMax =   1.8370e-001\n",
      "n: 80\t\t\t\tErrMax =   9.0917e-002\n",
      "n: 160\t\t\t\tErrMax =   4.5236e-002\n",
      "n: 320\t\t\t\tErrMax =   2.2561e-002\n",
      "n: 640\t\t\t\tErrMax =   1.1267e-002\n",
      "n: 1280\t\t\t\tErrMax =   5.6298e-003\n",
      "n: 2560\t\t\t\tErrMax =   2.8154e-003\n",
      "n: 5120\t\t\t\tErrMax =   1.4221e-003\n",
      "n: 10240\t\t\t\tErrMax =   7.5949e-004\n"
     ]
    }
   ],
   "source": [
    "n = 10;\n",
    "\n",
    "for j=1:11\n",
    "    printf(\"n: %d\\t\\t\\t\\t\", n);\n",
    "    h = L/n; % discretization spacing\n",
    "    N = n + 1; % number of unknowns to be solved for\n",
    "    format short e\n",
    "    % Define the RHS of the system\n",
    "    f = h^4*(pi/5)^4*cos((pi/5)*[0:h:L]');\n",
    "\n",
    "    % Define the matrix of the system. Notation: d0 is the main diagonal;\n",
    "    % dpn is \"main diagonal + n\" (superdiagonal n); dmn is \"main diagonal - n\" (subdiagonal n)\n",
    "    d0 = 6*ones(1, N);\n",
    "    dp1 = dm1 = -4*ones(1, N-1);\n",
    "    dp2 = dm2 = ones(1, N-2);\n",
    "    % Fixed left end\n",
    "    d0(1) = 12.0;\n",
    "    dp1(1) = -6;\n",
    "    dp2(1) = (4/3);\n",
    "    \n",
    "    % Fixed right end\n",
    "    d0(N) = -12.0;\n",
    "    dm1(N-1) = -6;\n",
    "    dm2(N-2) = (4/3);\n",
    "    % Solve for y\n",
    "    y = GaussElimPenta(dm2, dm1, d0, dp1, dp2, f);\n",
    "\n",
    "    x = (0:h:L)';\n",
    "    y_exact = cos((pi/5)*x) - 1;\n",
    "    ErrMax = max(abs(y-y_exact))\n",
    "    n = n * 2;\n",
    "endfor"
   ]
  },
  {
   "cell_type": "markdown",
   "metadata": {},
   "source": [
    "## Sauer first edition (with +12 on bottom right end)"
   ]
  },
  {
   "cell_type": "code",
   "execution_count": 10,
   "metadata": {},
   "outputs": [
    {
     "name": "stdout",
     "output_type": "stream",
     "text": [
      "n: 10\t\t\t\tErrMax =   1.0597e-001\n",
      "n: 20\t\t\t\tErrMax =   2.9763e-002\n",
      "n: 40\t\t\t\tErrMax =   7.8282e-003\n",
      "n: 80\t\t\t\tErrMax =   2.0059e-003\n",
      "n: 160\t\t\t\tErrMax =   5.0769e-004\n",
      "n: 320\t\t\t\tErrMax =   1.2771e-004\n",
      "n: 640\t\t\t\tErrMax =   3.2032e-005\n",
      "n: 1280\t\t\t\tErrMax =   7.9125e-006\n",
      "n: 2560\t\t\t\tErrMax =   2.2028e-006\n",
      "n: 5120\t\t\t\tErrMax =   1.9341e-005\n",
      "n: 10240\t\t\t\tErrMax =   2.1759e-004\n"
     ]
    }
   ],
   "source": [
    "n = 10;\n",
    "\n",
    "for j=1:11\n",
    "    printf(\"n: %d\\t\\t\\t\\t\", n);\n",
    "    h = L/(n+1); % discretization spacing\n",
    "    N = n; % number of unknowns to be solved for\n",
    "    A = sparse(N,N);\n",
    "\n",
    "    % Define the RHS of the system\n",
    "    f = h^4*(pi/5)^4*cos((pi/5)*[h:h:L-h]');\n",
    "\n",
    "    % Creating diagonals of the matrix\n",
    "    for i=3:N - 2\n",
    "        A(i,i) = 6;\n",
    "        A(i,i-1) = A(i,i+1) = -4;\n",
    "        A(i,i-2) = A(i,i+2) = 1; \n",
    "    endfor\n",
    "\n",
    "    % Leftside\n",
    "    A(1,1) = 12;\n",
    "    A(1,2) = -6;\n",
    "    A(1,3) = (4/3);\n",
    "    A(2,1) = A(2,3) = -4;\n",
    "    A(2,2) = 6;\n",
    "    A(2,4) = 1;\n",
    "\n",
    "    % Rightside\n",
    "    A(N,N-2) = (4/3);\n",
    "    A(N,N-1) = -6;\n",
    "    A(N,N) = 12;\n",
    "    A(N-1,N) = A(N-1,N-2) = -4;\n",
    "    A(N-1,N-1) = 6;\n",
    "    A(N-1,N-3) = 1;\n",
    "\n",
    "    % Finding y\n",
    "    y = A\\f;\n",
    "\n",
    "    % Plots\n",
    "    x = (h:h:L - h)';\n",
    "    y_exact = cos((pi/5)*x) - 1;\n",
    "    ErrMax = max(abs(y-y_exact))\n",
    "    n = n * 2;\n",
    "endfor"
   ]
  },
  {
   "cell_type": "markdown",
   "metadata": {},
   "source": [
    "## Sauer first edition (with +12 on bottom right end) (Penta)"
   ]
  },
  {
   "cell_type": "code",
   "execution_count": 6,
   "metadata": {},
   "outputs": [
    {
     "name": "stdout",
     "output_type": "stream",
     "text": [
      "n: 10\t\t\t\tErrMax =   1.1176e+000\n",
      "n: 20\t\t\t\tErrMax =   5.2629e-001\n",
      "n: 40\t\t\t\tErrMax =   2.5496e-001\n",
      "n: 80\t\t\t\tErrMax =   1.2543e-001\n",
      "n: 160\t\t\t\tErrMax =   6.2199e-002\n",
      "n: 320\t\t\t\tErrMax =   3.0971e-002\n",
      "n: 640\t\t\t\tErrMax =   1.5453e-002\n",
      "n: 1280\t\t\t\tErrMax =   7.7187e-003\n",
      "n: 2560\t\t\t\tErrMax =   3.8590e-003\n",
      "n: 5120\t\t\t\tErrMax =   1.9441e-003\n",
      "n: 10240\t\t\t\tErrMax =   1.0205e-003\n"
     ]
    }
   ],
   "source": [
    "n = 10;\n",
    "\n",
    "for j=1:11\n",
    "    printf(\"n: %d\\t\\t\\t\\t\", n);\n",
    "    h = L/n; % discretization spacing\n",
    "    N = n + 1; % number of unknowns to be solved for\n",
    "    format short e\n",
    "    % Define the RHS of the system\n",
    "    f = h^4*(pi/5)^4*cos((pi/5)*[0:h:L]');\n",
    "    \n",
    "    % Define the matrix of the system. Notation: d0 is the main diagonal;\n",
    "    % dpn is \"main diagonal + n\" (superdiagonal n); dmn is \"main diagonal - n\" (subdiagonal n)\n",
    "    d0 = 6*ones(1, N);\n",
    "    dp1 = dm1 = -4*ones(1, N-1);\n",
    "    dp2 = dm2 = ones(1, N-2);\n",
    "    % Fixed left end\n",
    "    d0(1) = 12.0;\n",
    "    dp1(1) = -6;\n",
    "    dp2(1) = (4/3);\n",
    "    \n",
    "    % Fixed right end\n",
    "    d0(N) = 12.0;\n",
    "    dm1(N-1) = -6;\n",
    "    dm2(N-2) = (4/3);\n",
    "    % Solve for y\n",
    "    y = GaussElimPenta(dm2, dm1, d0, dp1, dp2, f);\n",
    "\n",
    "    x = (0:h:L)';\n",
    "    y_exact = cos((pi/5)*x) - 1;\n",
    "    ErrMax = max(abs(y-y_exact))\n",
    "    n = n * 2;\n",
    "endfor"
   ]
  },
  {
   "cell_type": "markdown",
   "metadata": {},
   "source": [
    "## Sauer Second Edition"
   ]
  },
  {
   "cell_type": "code",
   "execution_count": 9,
   "metadata": {},
   "outputs": [
    {
     "name": "stdout",
     "output_type": "stream",
     "text": [
      "n: 10\t\t\t\tErrMax =   1.5214e-001\n",
      "n: 20\t\t\t\tErrMax =   4.4239e-002\n",
      "n: 40\t\t\t\tErrMax =   1.8924e-002\n",
      "n: 80\t\t\t\tErrMax =   8.9724e-003\n",
      "n: 160\t\t\t\tErrMax =   4.4372e-003\n",
      "n: 320\t\t\t\tErrMax =   2.2189e-003\n",
      "n: 640\t\t\t\tErrMax =   1.1113e-003\n",
      "n: 1280\t\t\t\tErrMax =   5.5637e-004\n",
      "n: 2560\t\t\t\tErrMax =   2.7799e-004\n",
      "n: 5120\t\t\t\tErrMax =   1.3089e-004\n",
      "n: 10240\t\t\t\tErrMax =   2.4635e-004\n"
     ]
    }
   ],
   "source": [
    "n = 10;\n",
    "format short e\n",
    "for j=1:11\n",
    "    printf(\"n: %d\\t\\t\\t\\t\", n);\n",
    "    h = L/n; % discretization spacing\n",
    "    N = n; % number of unknowns to be solved for\n",
    "    A = sparse(N,N);\n",
    "\n",
    "    % Define the RHS of the system\n",
    "    f = h^4*(pi/5)^4*cos((pi/5)*[h:h:L]');\n",
    "\n",
    "    % Creating diagonals of the matrix\n",
    "    for i=3:N - 2\n",
    "        A(i,i) = 6;\n",
    "        A(i,i-1) = A(i,i+1) = -4;\n",
    "        A(i,i-2) = A(i,i+2) = 1; \n",
    "    endfor\n",
    "\n",
    "    % Leftside\n",
    "    A(1,1) = 16;\n",
    "    A(1,2) = -9;\n",
    "    A(1,3) = (8/3);\n",
    "    A(1,4) = -(1/4);\n",
    "    A(2,1) = A(2,3) = -4;\n",
    "    A(2,2) = 6;\n",
    "    A(2,4) = 1;\n",
    "\n",
    "    % Rightside\n",
    "    A(N,N-3) = -(1/4);\n",
    "    A(N,N-2) = (8/3);\n",
    "    A(N,N-1) = 9;\n",
    "    A(N,N) = 16;\n",
    "    A(N-1,N) = A(N-1,N-2) = -4;\n",
    "    A(N-1,N-1) = 6;\n",
    "    A(N-1,N-3) = 1;\n",
    "\n",
    "\n",
    "    % Compressing the matrix into a sparse matrix\n",
    "\n",
    "    % Finding y\n",
    "    y = A\\f;\n",
    "\n",
    "    % Plots\n",
    "    x = (h:h:L)';\n",
    "    y_exact = cos((pi/5)*x) - 1;\n",
    "    ErrMax = max(abs(y-y_exact))\n",
    "    n = n * 2;\n",
    "endfor"
   ]
  },
  {
   "cell_type": "markdown",
   "metadata": {},
   "source": [
    "## Sauer Second Edition (Penta)"
   ]
  },
  {
   "cell_type": "code",
   "execution_count": null,
   "metadata": {},
   "outputs": [],
   "source": [
    "n = 10;\n",
    "format short e\n",
    "for j=1:11\n",
    "    printf(\"n: %d\\t\\t\\t\\t\", n);\n",
    "    h = L/n; % discretization spacing\n",
    "    N = n + 1; % number of unknowns to be solved for\n",
    "    A = sparse(N,N);\n",
    "    format short e\n",
    "    % Define the RHS of the system\n",
    "    f = -h^4/(E*I) * w * ones(N, 1);\n",
    "    f(1) = f(N) = 0;\n",
    "\n",
    "    % Define the matrix of the system. Notation: d0 is the main diagonal;\n",
    "    % dpn is \"main diagonal + n\" (superdiagonal n); dmn is \"main diagonal - n\" (subdiagonal n)\n",
    "    d0 = 6*ones(1, N);\n",
    "    dp1 = dm1 = -4*ones(1, N-1);\n",
    "    dp2 = dm2 = ones(1, N-2);\n",
    "    % Fixed left end\n",
    "    d0(1) = 12.0;\n",
    "    dp1(1) = -6;\n",
    "    dp2(2) = (4/3);\n",
    "    % Fixed right end\n",
    "    d0(N) = 12.0; \n",
    "    dm1(N-1) = -6.0;\n",
    "    dm2(N-2) = (4/3);\n",
    "    % Solve for y\n",
    "    y = GaussElimPenta(dm2, dm1, d0, dp1, dp2, f);\n",
    "    % Plots\n",
    "    x = (0:h:L)';\n",
    "    y_exact = -b*d*rho*g/(24*E*I)*x.^2.*(L - x).^2;\n",
    "    ErrMax = max(abs(y-y_exact))\n",
    "    n = n * 2;\n",
    "endfor"
   ]
  }
 ],
 "metadata": {
  "kernelspec": {
   "display_name": "Octave",
   "language": "octave",
   "name": "octave"
  },
  "language_info": {
   "file_extension": ".m",
   "help_links": [
    {
     "text": "GNU Octave",
     "url": "https://www.gnu.org/software/octave/support.html"
    },
    {
     "text": "Octave Kernel",
     "url": "https://github.com/Calysto/octave_kernel"
    },
    {
     "text": "MetaKernel Magics",
     "url": "https://github.com/calysto/metakernel/blob/master/metakernel/magics/README.md"
    }
   ],
   "mimetype": "text/x-octave",
   "name": "octave",
   "version": "4.4.0"
  }
 },
 "nbformat": 4,
 "nbformat_minor": 2
}
