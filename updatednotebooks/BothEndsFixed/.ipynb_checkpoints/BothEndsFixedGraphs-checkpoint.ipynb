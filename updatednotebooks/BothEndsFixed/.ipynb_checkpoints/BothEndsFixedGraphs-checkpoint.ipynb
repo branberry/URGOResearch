{
 "cells": [
  {
   "cell_type": "markdown",
   "metadata": {},
   "source": [
    "## Constants definitions"
   ]
  },
  {
   "cell_type": "code",
   "execution_count": 1,
   "metadata": {},
   "outputs": [],
   "source": [
    "L = 10; % length = 10 m\n",
    "b = 0.1; % width = 10 cm\n",
    "d = 0.05; % height = 5 cm\n",
    "E = 2*10^11; % Young's modulus for steel = 200 GPa = 2x10^11 Pa\n",
    "I = b*d^3/12; % second moment of inertia\n",
    "rho = 7850; % mass density of steel = 7850 kg/m^3\n",
    "g = 9.81; % acceleration due to gravity = 9.81 m/s^2\n",
    "w = rho*b*d*g; % weight of the beam per unit length (will be our f)"
   ]
  },
  {
   "cell_type": "markdown",
   "metadata": {},
   "source": [
    "## Class Project Version\n"
   ]
  },
  {
   "cell_type": "code",
   "execution_count": 35,
   "metadata": {},
   "outputs": [
    {
     "name": "stdout",
     "output_type": "stream",
     "text": [
      "ErrMax =   3.8504e-005\n"
     ]
    }
   ],
   "source": [
    "n = 100; % number of subintervals on [0, L]\n",
    "h = L/n; % discretization spacing\n",
    "N = n + 1; % number of unknowns to be solved for\n",
    "A = sparse(N,N); % generating a sparse matrix\n",
    "format short e\n",
    "% Define the RHS of the system\n",
    "f = -h^4/(E*I) * w * ones(N, 1);\n",
    "f(1) = f(N) = 0;\n",
    "% Creating diagonals of the matrix\n",
    "for i=3:N - 2\n",
    "    A(i,i) = 6;\n",
    "    A(i,i-1) = A(i,i+1) = -4;\n",
    "    A(i,i-2) = A(i,i+2) = 1; \n",
    "endfor\n",
    "\n",
    "% Left end\n",
    "A(1,1) = 1;\n",
    "A(2,2) = 7;\n",
    "A(1,2) = 0;\n",
    "A(1,3) = 0;\n",
    "A(2,1) = 0;\n",
    "A(3,1) = 0;\n",
    "A(2,3) = -4;\n",
    "A(2,4) = 1;\n",
    "% Right end\n",
    "A(N,N) = 1;\n",
    "A(N-1,N-1) =  7;\n",
    "A(N-1,N) = 0;\n",
    "A(N-2,N) = 0;\n",
    "A(N, N-1) = 0;\n",
    "A(N, N-2) = 0;\n",
    "A(N-1,N-2) = -4;\n",
    "A(N-1,N-3) = 1;\n",
    "\n",
    "% Solve for y\n",
    "y = A\\f;\n",
    "\n",
    "x = (0:h:L)';\n",
    "y_exact = -b*d*rho*g/(24*E*I)*x.^2.*(L - x).^2;\n",
    "ErrMax = max(abs(y-y_exact))"
   ]
  },
  {
   "cell_type": "code",
   "execution_count": 36,
   "metadata": {},
   "outputs": [
    {
     "data": {
      "image/png": "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\n",
      "text/plain": [
       "<IPython.core.display.Image object>"
      ]
     },
     "metadata": {},
     "output_type": "display_data"
    }
   ],
   "source": [
    "subplot(2,1,1);\n",
    "plot(x, y, \"b*\", x, y_exact, \"r\")\n",
    "title('Deflection of the beam');\n",
    "xlabel('x'); ylabel('y (deflection)');\n",
    "grid on;\n",
    "subplot(2,1,2);\n",
    "plot(x, abs(y - y_exact), \"r\")\n",
    "title('Error: |computed - exact|');\n",
    "xlabel('x'); ylabel('Error');\n",
    "grid on;"
   ]
  },
  {
   "cell_type": "markdown",
   "metadata": {},
   "source": [
    "## Class Project Version (Penta)"
   ]
  },
  {
   "cell_type": "code",
   "execution_count": null,
   "metadata": {},
   "outputs": [],
   "source": [
    "n = 1000; % number of subintervals on [0, L]\n",
    "h = L/n; % discretization spacing\n",
    "N = n + 1; % number of unknowns to be solved for\n",
    "format short e\n",
    "% Define the RHS of the system\n",
    "f = -h^4/(E*I) * w * ones(N, 1);\n",
    "f(1) = f(N) = 0;\n",
    "\n",
    "% Define the matrix of the system. Notation: d0 is the main diagonal;\n",
    "% dpn is \"main diagonal + n\" (superdiagonal n); dmn is \"main diagonal - n\" (subdiagonal n)\n",
    "d0 = 6*ones(1, N);\n",
    "dp1 = dm1 = -4*ones(1, N-1);\n",
    "dp2 = dm2 = ones(1, N-2);\n",
    "% Fixed left end\n",
    "d0(1) = 1.0; d0(2) = 7.0;\n",
    "dp1(1) = 0.0;\n",
    "dp2(1) = 0.0;\n",
    "dm1(1) = 0.0;\n",
    "dm2(1) = 0.0;\n",
    "% Fixed right end\n",
    "d0(N) = 1.0; d0(N-1) = 7.0;\n",
    "dp1(N-1) = 0.0;\n",
    "dp2(N-2) = 0.0;\n",
    "dm1(N-1) = 0.0;\n",
    "dm2(N-2) = 0.0;\n",
    "% Solve for y\n",
    "y = GaussElimPenta(dm2, dm1, d0, dp1, dp2, f);\n",
    "% Plots\n",
    "x = (0:h:L)';\n",
    "y_exact = -b*d*rho*g/(24*E*I)*x.^2.*(L - x).^2;\n",
    "ErrMax = max(abs(y-y_exact))"
   ]
  },
  {
   "cell_type": "code",
   "execution_count": null,
   "metadata": {},
   "outputs": [],
   "source": [
    "subplot(2,1,1);\n",
    "plot(x, y, \"b*\", x, y_exact, \"r\")\n",
    "title('Deflection of the beam');\n",
    "xlabel('x'); ylabel('y (deflection)');\n",
    "grid on;\n",
    "subplot(2,1,2);\n",
    "plot(x, abs(y - y_exact), \"r\")\n",
    "title('Error: |computed - exact|');\n",
    "xlabel('x'); ylabel('Error');\n",
    "grid on;"
   ]
  },
  {
   "cell_type": "markdown",
   "metadata": {},
   "source": [
    "## Class Project Version (Non-Fictitious nodes)"
   ]
  },
  {
   "cell_type": "code",
   "execution_count": 2,
   "metadata": {},
   "outputs": [
    {
     "name": "stdout",
     "output_type": "stream",
     "text": [
      "A =\n",
      "\n",
      "   1   0   0   0   0   0   0   0   0   0   0\n",
      "  -3   4  -1   0   0   0   0   0   0   0   0\n",
      "   1  -4   6  -4   1   0   0   0   0   0   0\n",
      "   0   1  -4   6  -4   1   0   0   0   0   0\n",
      "   0   0   1  -4   6  -4   1   0   0   0   0\n",
      "   0   0   0   1  -4   6  -4   1   0   0   0\n",
      "   0   0   0   0   1  -4   6  -4   1   0   0\n",
      "   0   0   0   0   0   1  -4   6  -4   1   0\n",
      "   0   0   0   0   0   0   1  -4   6  -4   1\n",
      "   0   0   0   0   0   0   0   0  -1   4  -3\n",
      "   0   0   0   0   0   0   0   0   0   0   1\n",
      "\n",
      "ErrMax =   6.545722500000010e-003\n"
     ]
    }
   ],
   "source": [
    "n = 10; % number of subintervals on [0, L]\n",
    "h = L/n; % discretization spacing\n",
    "N = n + 1; % number of unknowns to be solved for\n",
    "\n",
    "% Define the RHS of the system\n",
    "f = -h^4/(E*I) * w * ones(N, 1);\n",
    "f(1) = f(2) = f(N-1) = f(N) = 0;\n",
    "\n",
    "format long\n",
    "A = sparse(N,N);\n",
    "\n",
    "A(1,1) = 1;\n",
    "A(2,1) = -3;\n",
    "A(2,2) = 4;\n",
    "A(2,3) = -1;\n",
    "\n",
    "A(N,N) = 1;\n",
    "A(N-1,N) = -3;\n",
    "A(N-1,N-1) = 4;\n",
    "A(N-1,N-2) = -1;\n",
    "% Creating diagonals of the matrix\n",
    "for i=3:N - 2\n",
    "    A(i,i) = 6;\n",
    "    A(i,i-1) = A(i,i+1) = -4;\n",
    "    A(i,i-2) = A(i,i+2) = 1; \n",
    "endfor\n",
    "A\n",
    "\n",
    "% Solve for y\n",
    "y = A\\f;\n",
    "% Plots\n",
    "\n",
    "x = (0:h:L)';\n",
    "y_exact = -b*d*rho*g/(24*E*I)*x.^2.*(L - x).^2;\n",
    "ErrMax = max(abs(y-y_exact))\n"
   ]
  },
  {
   "cell_type": "code",
   "execution_count": null,
   "metadata": {},
   "outputs": [],
   "source": [
    "subplot(2,1,1);\n",
    "plot(x, y, \"b*\", x, y_exact, \"r\")\n",
    "title('Deflection of the beam');\n",
    "xlabel('x'); ylabel('y (deflection)');\n",
    "grid on;\n",
    "subplot(2,1,2);\n",
    "plot(x, abs(y - y_exact), \"r\")\n",
    "title('Error: |computed - exact|');\n",
    "xlabel('x'); ylabel('Error');\n",
    "grid on;"
   ]
  },
  {
   "cell_type": "markdown",
   "metadata": {},
   "source": [
    "## Sauer first edition (with -12 on bottom right end)"
   ]
  },
  {
   "cell_type": "code",
   "execution_count": 5,
   "metadata": {},
   "outputs": [
    {
     "name": "stdout",
     "output_type": "stream",
     "text": [
      "A =\n",
      "\n",
      "         12         -6        4/3          0          0          0\n",
      "         -4          6         -4          1          0          0\n",
      "          1         -4          6         -4          1          0\n",
      "          0          1         -4          6         -4          1\n",
      "          0          0          1         -4          6         -4\n",
      "          0          0          0        4/3         -6        -12\n",
      "\n",
      "ErrMax = 109/5255\n"
     ]
    }
   ],
   "source": [
    "% Since in Sauer's second edition does not use a pentadiagonal matrix, we must use a more standard approach\n",
    "% Filling and solving our matrix.\n",
    "format short e\n",
    "\n",
    "n = 6; % number of subintervals on [h, L]\n",
    "h = L/(n+1); % discretization spacing\n",
    "N = n; % number of unknowns to be solved for\n",
    "A = sparse(N,N);\n",
    "% Define the RHS of the system\n",
    "f = -h^4/(E*I) * w * ones(N, 1);\n",
    "\n",
    "% Creating diagonals of the matrix\n",
    "for i=3:N - 2\n",
    "    A(i,i) = 6;\n",
    "    A(i,i-1) = A(i,i+1) = -4;\n",
    "    A(i,i-2) = A(i,i+2) = 1; \n",
    "endfor\n",
    "\n",
    "% Leftside\n",
    "A(1,1) = 12;\n",
    "A(1,2) = -6;\n",
    "A(1,3) = (4/3);\n",
    "A(2,1) = A(2,3) = -4;\n",
    "A(2,2) = 6;\n",
    "A(2,4) = 1;\n",
    "\n",
    "% Rightside\n",
    "A(N,N-2) = (4/3);\n",
    "A(N,N-1) = -6;\n",
    "A(N,N) = -12;\n",
    "A(N-1,N) = A(N-1,N-2) = -4;\n",
    "A(N-1,N-1) = 6;\n",
    "A(N-1,N-3) = 1;\n",
    "\n",
    "% Finding y\n",
    "y = A\\f;\n",
    "\n",
    "% Plots\n",
    "x = (h:h:L - h)';\n",
    "y_exact = -b*d*rho*g/(24*E*I)*x.^2.*(L - x).^2;\n",
    "ErrMax = max(abs(y-y_exact))"
   ]
  },
  {
   "cell_type": "code",
   "execution_count": null,
   "metadata": {},
   "outputs": [],
   "source": [
    "subplot(2,1,1);\n",
    "plot(x, y, \"b*\", x, y_exact, \"r\")\n",
    "title('Deflection of the beam');\n",
    "xlabel('x'); ylabel('y (deflection)');\n",
    "grid on;\n",
    "subplot(2,1,2);\n",
    "plot(x, abs(y - y_exact), \"r\")\n",
    "title('Error: |computed - exact|');\n",
    "xlabel('x'); ylabel('Error');\n",
    "grid on;"
   ]
  },
  {
   "cell_type": "markdown",
   "metadata": {},
   "source": [
    "## Sauer first edition (with +12 on bottom right end)"
   ]
  },
  {
   "cell_type": "code",
   "execution_count": 27,
   "metadata": {},
   "outputs": [
    {
     "name": "stdout",
     "output_type": "stream",
     "text": [
      "A =\n",
      "\n",
      "         12         -6        4/3          0          0          0\n",
      "         -4          6         -4          1          0          0\n",
      "          1         -4          6         -4          1          0\n",
      "          0          1         -4          6         -4          1\n",
      "          0          0          1         -4          6         -4\n",
      "          0          0          0        4/3         -6         12\n",
      "\n",
      "ans =\n",
      "\n",
      "          0\n",
      "   -61/5283\n",
      "  -185/5768\n",
      "  -333/7210\n",
      "  -333/7210\n",
      "  -185/5768\n",
      "   -61/5283\n",
      "          0\n",
      "\n",
      "ErrMax = 0\n"
     ]
    }
   ],
   "source": [
    "% Since in Sauer's second edition does not use a pentadiagonal matrix, we must use a more standard approach\n",
    "% Filling and solving our matrix.\n",
    "format short e\n",
    "\n",
    "n = 6; % number of subintervals on [h, L]\n",
    "h = L/(n+1); % discretization spacing\n",
    "N = n; % number of unknowns to be solved for\n",
    "A = sparse(N,N);\n",
    "A = [];\n",
    "% Define the RHS of the system\n",
    "f = -h^4/(E*I) * w * ones(N, 1);\n",
    "\n",
    "\n",
    "% Creating diagonals of the matrix\n",
    "for i=3:N - 2\n",
    "    A(i,i) = 6;\n",
    "    A(i,i-1) = A(i,i+1) = -4;\n",
    "    A(i,i-2) = A(i,i+2) = 1; \n",
    "endfor\n",
    "\n",
    "% Leftside\n",
    "A(1,1) = 12;\n",
    "A(1,2) = -6;\n",
    "A(1,3) = (4/3);\n",
    "A(2,1) = A(2,3) = -4;\n",
    "A(2,2) = 6;\n",
    "A(2,4) = 1;\n",
    "\n",
    "% Rightside\n",
    "A(N,N-2) = (4/3);\n",
    "A(N,N-1) = -6;\n",
    "A(N,N) = 12;\n",
    "A(N-1,N) = A(N-1,N-2) = -4;\n",
    "A(N-1,N-1) = 6;\n",
    "A(N-1,N-3) = 1;\n",
    "\n",
    "% Finding y\n",
    "y = A\\f;\n",
    "% Plots\n",
    "x = (h:h:L - h)';\n",
    "y_exact = -b*d*rho*g/(24*E*I)*x.^2.*(L - x).^2;\n",
    "ErrMax = max(abs(y-y_exact))"
   ]
  },
  {
   "cell_type": "code",
   "execution_count": 34,
   "metadata": {},
   "outputs": [
    {
     "data": {
      "image/png": "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\n",
      "text/plain": [
       "<IPython.core.display.Image object>"
      ]
     },
     "metadata": {},
     "output_type": "display_data"
    }
   ],
   "source": [
    "subplot(2,1,1);\n",
    "plot([0;x;0], [0;y;0], \"b*\", [0;x;L],[0;y_exact;0], \"r\")\n",
    "title('Deflection of the beam');\n",
    "xlabel('x'); ylabel('y (deflection)');\n",
    "grid on;\n",
    "subplot(2,1,2);\n",
    "plot([0;x;L], [0; abs(y - y_exact);0], \"r\")\n",
    "title('Error: |computed - exact|');\n",
    "xlabel('x'); ylabel('Error');\n",
    "grid on;"
   ]
  },
  {
   "cell_type": "markdown",
   "metadata": {},
   "source": [
    "## Sauer Second Edition"
   ]
  },
  {
   "cell_type": "code",
<<<<<<< HEAD
   "execution_count": 4,
=======
   "execution_count": 2,
>>>>>>> 3c5a933c220bc8851ca75522119809767ab3aa28
   "metadata": {},
   "outputs": [
    {
     "name": "stdout",
     "output_type": "stream",
     "text": [
      "error: operator -: nonconformant arguments (op1 is 6x1, op2 is 5x1)\n"
     ]
    }
   ],
   "source": [
    "% Since in Sauer's second edition does not use a pentadiagonal matrix, we must use a more standard approach\n",
    "% Filling and solving our matrix.\n",
    "format short e\n",
    "n = 6; % number of subintervals on [h, L]\n",
    "h = L/n; % discretization spacing\n",
    "N = n-1; % number of unknowns to be solved for\n",
    "A = sparse(N,N);\n",
    "\n",
    "% Define the RHS of the system\n",
    "f = -h^4/(E*I) * w * ones(N, 1);\n",
    "\n",
    "% Creating diagonals of the matrix\n",
    "for i=3:N - 2\n",
    "    A(i,i) = 6;\n",
    "    A(i,i-1) = A(i,i+1) = -4;\n",
    "    A(i,i-2) = A(i,i+2) = 1; \n",
    "endfor\n",
    "\n",
    "% Leftside\n",
    "A(1,1) = 16;\n",
    "A(1,2) = -9;\n",
    "A(1,3) = (8/3);\n",
    "A(1,4) = -(1/4);\n",
    "A(2,1) = A(2,3) = -4;\n",
    "A(2,2) = 6;\n",
    "A(2,4) = 1;\n",
    "\n",
    "% Rightside\n",
    "A(N,N-3) = -(1/4);\n",
    "A(N,N-2) = (8/3);\n",
    "A(N,N-1) = -9;\n",
    "A(N,N) = 16;\n",
    "A(N-1,N) = A(N-1,N-2) = -4;\n",
    "A(N-1,N-1) = 6;\n",
    "A(N-1,N-3) = 1;\n",
    "\n",
    "% Compressing the matrix into a sparse matrix\n",
    "\n",
    "% Finding y\n",
    "y = A\\f;\n",
    "% Plots\n",
    "x = (h:h:L-h)';\n",
    "y_exact = -b*d*rho*g/(24*E*I)*x.^2.*(L - x).^2;\n",
    "ErrMax = max(abs(y-y_exact))"
   ]
  },
  {
   "cell_type": "code",
<<<<<<< HEAD
   "execution_count": 5,
=======
   "execution_count": 3,
>>>>>>> 3c5a933c220bc8851ca75522119809767ab3aa28
   "metadata": {},
   "outputs": [
    {
     "name": "stdout",
     "output_type": "stream",
     "text": [
      "error: __plt2vv__: vector lengths must match\n",
      "error: called from\n",
      "    __plt__>__plt2vv__ at line 489 column 5\n",
      "    __plt__>__plt2__ at line 248 column 14\n",
      "    __plt__ at line 113 column 17\n",
      "    plot at line 223 column 10\n",
      "error: operator -: nonconformant arguments (op1 is 6x1, op2 is 5x1)\n"
     ]
    },
    {
     "data": {
<<<<<<< HEAD
      "image/png": "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\n",
=======
      "image/png": "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\n",
>>>>>>> 3c5a933c220bc8851ca75522119809767ab3aa28
      "text/plain": [
       "<IPython.core.display.Image object>"
      ]
     },
     "metadata": {},
     "output_type": "display_data"
    }
   ],
   "source": [
    "subplot(2,1,1);\n",
    "plot([0; x;L], [0 ; y; 0], \"b*\", [0;x;L], [0;y_exact;0], \"r\")\n",
    "title('Deflection of the beam');\n",
    "xlabel('x'); ylabel('y (deflection)');\n",
    "grid on;\n",
    "subplot(2,1,2);\n",
    "plot([0;x;L], [0;abs(y - y_exact);0], \"r\")\n",
    "title('Error: |computed - exact|');\n",
    "xlabel('x'); ylabel('Error');\n",
    "grid on;"
   ]
  },
  {
   "cell_type": "code",
   "execution_count": null,
   "metadata": {},
   "outputs": [],
   "source": []
  }
 ],
 "metadata": {
  "kernelspec": {
   "display_name": "Octave",
   "language": "octave",
   "name": "octave"
  },
  "language_info": {
   "file_extension": ".m",
   "help_links": [
    {
     "text": "GNU Octave",
     "url": "https://www.gnu.org/software/octave/support.html"
    },
    {
     "text": "Octave Kernel",
     "url": "https://github.com/Calysto/octave_kernel"
    },
    {
     "text": "MetaKernel Magics",
     "url": "https://github.com/calysto/metakernel/blob/master/metakernel/magics/README.md"
    }
   ],
   "mimetype": "text/x-octave",
   "name": "octave",
   "version": "4.2.2"
  }
 },
 "nbformat": 4,
 "nbformat_minor": 2
}
