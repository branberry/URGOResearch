{
 "cells": [
  {
   "cell_type": "markdown",
   "metadata": {},
   "source": [
    "## Constants definitions"
   ]
  },
  {
   "cell_type": "code",
   "execution_count": null,
   "metadata": {},
   "outputs": [],
   "source": [
    "L = 10; % length = 10 m\n",
    "b = 0.1; % width = 10 cm\n",
    "d = 0.05; % height = 5 cm\n",
    "E = 2*10^11; % Young's modulus for steel = 200 GPa = 2x10^11 Pa\n",
    "I = b*d^3/12; % second moment of inertia\n",
    "rho = 7850; % mass density of steel = 7850 kg/m^3\n",
    "g = 9.81; % acceleration due to gravity = 9.81 m/s^2\n",
    "w = rho*b*d*g; % weight of the beam per unit length (will be our f)"
   ]
  },
  {
   "cell_type": "markdown",
   "metadata": {},
   "source": [
    "## Class Project Version"
   ]
  },
  {
   "cell_type": "code",
   "execution_count": null,
   "metadata": {},
   "outputs": [],
   "source": [
    "n = 10;\n",
    "\n",
    "for j=1:11\n",
    "    n\n",
    "    h = L/n; % discretization spacing\n",
    "    N = n + 1; % number of unknowns to be solved for\n",
    "    A = sparse(N,N); % generating a sparse matrix\n",
    "\n",
    "    % Define the RHS of the system\n",
    "    f = -h^4/(E*I) * w * ones(N, 1);\n",
    "    f(1) = f(N) = 0;\n",
    "\n",
    "    % Creating diagonals of the matrix\n",
    "    for i=3:N - 2\n",
    "        A(i,i) = 6;\n",
    "        A(i,i-1) = A(i,i+1) = -4;\n",
    "        A(i,i-2) = A(i,i+2) = 1; \n",
    "    endfor\n",
    "\n",
    "    % Left end\n",
    "    A(1,1) = 1;\n",
    "    A(2,2) = 7;\n",
    "    A(1,2) = 0;\n",
    "    A(1,3) = 0;\n",
    "    A(2,1) = 0;\n",
    "    A(3,1) = 0;\n",
    "    A(2,3) = -4;\n",
    "    A(2,4) = 1;\n",
    "    % Right end\n",
    "    A(N,N) = 1;\n",
    "    A(N-1,N-1) =  7;\n",
    "    A(N-1,N) = 0;\n",
    "    A(N-2,N) = 0;\n",
    "    A(N, N-1) = 0;\n",
    "    A(N, N-2) = 0;\n",
    "    A(N-1,N-2) = -4;\n",
    "    A(N-1,N-3) = 1;\n",
    "\n",
    "    % Solve for y\n",
    "    y = A\\f;\n",
    "    x = (0:h:L)';\n",
    "    y_exact = -b*d*rho*g/(24*E*I)*x.^2.*(L - x).^2;\n",
    "    ErrMax = max(abs(y-y_exact))\n",
    "    n = n * 2;\n",
    "endfor\n"
   ]
  },
  {
   "cell_type": "markdown",
   "metadata": {},
   "source": [
    "## Sauer 1st Ed. -12 (Penta) "
   ]
  },
  {
   "cell_type": "code",
   "execution_count": null,
   "metadata": {},
   "outputs": [],
   "source": [
    "n = 10; % number of subintervals on [0, L]\n",
    "\n",
    "for i = 1:11\n",
    "    n\n",
    "    h = L/(n + 1); % discretization spacing\n",
    "\n",
    "    % Define the RHS of the system\n",
    "    f = -h^4/(E*I) * w * ones(n, 1);\n",
    "\n",
    "    % Define the matrix of the system. Notation: d0 is the main diagonal;\n",
    "    % dpn is \"main diagonal + n\" (superdiagonal n); dmn is \"main diagonal - n\" (subdiagonal n)\n",
    "    d0 = 6*ones(1, n);\n",
    "    dp1 = dm1 = -4*ones(1, n-1);\n",
    "    dp2 = dm2 = ones(1, n-2);\n",
    "    % Fixed left end\n",
    "    d0(1) = 12.0; %d0(2) = 6.0;\n",
    "    dp1(1) = -6.0;\n",
    "    dp2(1) = (4/3);\n",
    "    %dm1(1) = -4.0;\n",
    "    %dm2(1) = 1.0;\n",
    "\n",
    "    d0(n) = -12.0; %d0(n-1) = 6.0;\n",
    "    %dp1(n-1) = -4.0;\n",
    "    %dp2(n-2) = 1.0;\n",
    "    dm1(n-1) = -6.0;\n",
    "    dm2(n-2) = (4/3);\n",
    "    % Solve for y\n",
    "    y = GaussElimPenta(dm2, dm1, d0, dp1, dp2, f);\n",
    "    % Plots\n",
    "    x = (h:h:L-h)';\n",
    "    y_exact = -b*d*rho*g/(24*E*I)*x.^2.*(L - x).^2;\n",
    "    ErrMax = max(abs(y-y_exact))\n",
    "    n = 2*n;\n",
    "\n",
    "endfor"
   ]
  }
 ],
 "metadata": {
  "kernelspec": {
   "display_name": "Octave",
   "language": "octave",
   "name": "octave"
  },
  "language_info": {
   "file_extension": ".m",
   "help_links": [
    {
     "text": "GNU Octave",
     "url": "https://www.gnu.org/software/octave/support.html"
    },
    {
     "text": "Octave Kernel",
     "url": "https://github.com/Calysto/octave_kernel"
    },
    {
     "text": "MetaKernel Magics",
     "url": "https://github.com/calysto/metakernel/blob/master/metakernel/magics/README.md"
    }
   ],
   "mimetype": "text/x-octave",
   "name": "octave",
   "version": "4.4.0"
  }
 },
 "nbformat": 4,
 "nbformat_minor": 2
}
