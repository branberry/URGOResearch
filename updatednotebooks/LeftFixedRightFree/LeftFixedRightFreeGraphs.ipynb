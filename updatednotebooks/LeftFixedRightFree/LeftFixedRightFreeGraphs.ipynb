{
 "cells": [
  {
   "cell_type": "markdown",
   "metadata": {},
   "source": [
    "# Constants"
   ]
  },
  {
   "cell_type": "code",
   "execution_count": 1,
   "metadata": {},
   "outputs": [],
   "source": [
    "L = 10; % length = 10 m\n",
    "b = 0.1; % width = 10 cm\n",
    "d = 0.05; % height = 5 cm\n",
    "E = 2*10^11; % Young's modulus for steel = 200 GPa = 2x10^11 Pa\n",
    "I = b*d^3/12; % second moment of inertia\n",
    "rho = 7850; % mass density of steel = 7850 kg/m^3\n",
    "g = 9.81; % acceleration due to gravity = 9.81 m/s^2\n",
    "w = rho*b*d*g; % weight of the beam per unit length (will be our f)"
   ]
  },
  {
   "cell_type": "markdown",
   "metadata": {},
   "source": [
    "# Class Project Version - Backslash "
   ]
  },
  {
   "cell_type": "code",
   "execution_count": 16,
   "metadata": {},
   "outputs": [
    {
     "name": "stdout",
     "output_type": "stream",
     "text": [
      "ErrMax =   1.0105e-005\n"
     ]
    }
   ],
   "source": [
    "n = 1000; % number of subintervals on [0, L]\n",
    "h = L/n; % discretization spacing\n",
    "N = n + 1; % number of unknowns to be solved for\n",
    "A = sparse(N,N); % generating a sparse matrix\n",
    "\n",
    "format short e\n",
    "% Define the RHS of the system\n",
    "f = -h^4/(E*I) * w * ones(N, 1);\n",
    "f(1) = 0;\n",
    "f(N) = f(N)/2;\n",
    "\n",
    "% Creating diagonals of the matrix\n",
    "for i=3:N - 2\n",
    "    A(i,i) = 6;\n",
    "    A(i,i-1) = A(i,i+1) = -4;\n",
    "    A(i,i-2) = A(i,i+2) = 1; \n",
    "endfor\n",
    "\n",
    "% Left end\n",
    "A(1,1) = 1;\n",
    "A(2,2) = 7;\n",
    "A(1,2) = 0;\n",
    "A(1,3) = 0;\n",
    "A(2,1) = 0;\n",
    "A(3,1) = 0;\n",
    "A(2,3) = -4;\n",
    "A(2,4) = 1;\n",
    "\n",
    "% Right end\n",
    "A(N,N) = 1;\n",
    "A(N-1,N-1) =  5;\n",
    "A(N-1,N) = -2;\n",
    "A(N-2,N) = 1;\n",
    "A(N, N-1) = -2;\n",
    "A(N, N-2) = 1;\n",
    "A(N-1,N-2) = -4;\n",
    "A(N-1,N-3) = 1;\n",
    "\n",
    "% Solve for y\n",
    "y = A\\f;\n",
    "\n",
    "x = (0:h:L)';\n",
    "y_exact = -b*d*rho*g/(24*E*I)*x.^2.*(6.*L^2 - 4.*L*x + x.^2);\n",
    "ErrMax = max(abs(y-y_exact))"
   ]
  },
  {
   "cell_type": "code",
   "execution_count": 17,
   "metadata": {},
   "outputs": [
    {
     "data": {
      "image/png": "[encoded data removed]",
      "text/plain": [
       "<IPython.core.display.Image object>"
      ]
     },
     "metadata": {},
     "output_type": "display_data"
    }
   ],
   "source": [
    "subplot(2,1,1);\n",
    "plot(x, y, \"b*\", x, y_exact, \"r\")\n",
    "title('Deflection of the beam');\n",
    "xlabel('x'); ylabel('y (deflection)');\n",
    "grid on;\n",
    "subplot(2,1,2);\n",
    "plot(x, abs(y - y_exact), \"r\")\n",
    "title('Error: |computed - exact|');\n",
    "xlabel('x'); ylabel('Error');\n",
    "grid on;"
   ]
  },
  {
   "cell_type": "markdown",
   "metadata": {},
   "source": [
    "## Class Project Version - Penta"
   ]
  },
  {
   "cell_type": "code",
   "execution_count": 4,
   "metadata": {},
   "outputs": [
    {
     "name": "stdout",
     "output_type": "stream",
     "text": [
      "ErrMax =   2.3103e-002\n"
     ]
    }
   ],
   "source": [
    "n = 10; % number of subintervals on [0, L]\n",
    "h = L/n; % discretization spacing\n",
    "N = n + 1; % number of unknowns to be solved for\n",
    "\n",
    "format short e\n",
    "\n",
    "% Define the RHS of the system\n",
    "f = -h^4/(E*I) * w * ones(N, 1);\n",
    "f(1) = 0;\n",
    "f(N) = f(N)/2;\n",
    "\n",
    "% Define the matrix of the system. Notation: d0 is the main diagonal;\n",
    "% dpn is \"main diagonal + n\" (superdiagonal n); dmn is \"main diagonal - n\" (subdiagonal n)\n",
    "d0 = 6*ones(1, N);\n",
    "dp1 = dm1 = -4*ones(1, N-1);\n",
    "dp2 = dm2 = ones(1, N-2);\n",
    "% Fixed left end\n",
    "d0(1) = 1.0; d0(2) = 7.0;\n",
    "dp1(1) = 0.0;\n",
    "dp2(1) = 0.0;\n",
    "dm1(1) = 0.0;\n",
    "dm2(1) = 0.0;\n",
    "% Free right end\n",
    "d0(N) = 1.0; d0(N-1) = 5.0;\n",
    "dp1(N-1) = -2.0;\n",
    "dp2(N-2) = 1.0;\n",
    "dm1(N-1) = -2.0;\n",
    "dm2(N-2) = 1.0;\n",
    "% Solve for y\n",
    "y = GaussElimPenta(dm2, dm1, d0, dp1, dp2, f);\n",
    "% Plots\n",
    "\n",
    "x = (0:h:L)';\n",
    "y_exact = -b*d*rho*g/(24*E*I)*x.^2.*(6.*L^2 - 4.*L*x + x.^2);\n",
    "ErrMax = max(abs(y-y_exact))"
   ]
  },
  {
   "cell_type": "code",
   "execution_count": 5,
   "metadata": {},
   "outputs": [
    {
     "data": {
      "image/png": "[encoded data removed]",
      "text/plain": [
       "<IPython.core.display.Image object>"
      ]
     },
     "metadata": {},
     "output_type": "display_data"
    }
   ],
   "source": [
    "subplot(2,1,1);\n",
    "plot(x, y, \"b*\", x, y_exact, \"r\")\n",
    "title('Deflection of the beam');\n",
    "xlabel('x'); ylabel('y (deflection)');\n",
    "grid on;\n",
    "subplot(2,1,2);\n",
    "plot(x, abs(y - y_exact), \"r\")\n",
    "title('Error: |computed - exact|');\n",
    "xlabel('x'); ylabel('Error');\n",
    "grid on;"
   ]
  },
  {
   "cell_type": "markdown",
   "metadata": {},
   "source": [
    "## Class Project Version (Non-Ficitious nodes)"
   ]
  },
  {
   "cell_type": "code",
   "execution_count": 6,
   "metadata": {},
   "outputs": [
    {
     "name": "stdout",
     "output_type": "stream",
     "text": [
      "ErrMax =   2.772306000030245e-002\n"
     ]
    }
   ],
   "source": [
    "n = 10; % number of subintervals on [0, L]\n",
    "h = L/n; % discretization spacing\n",
    "N = n + 1; % number of unknowns to be solved for\n",
    "\n",
    "% Define the RHS of the system\n",
    "f = -h^4/(E*I) * w * ones(N, 1);\n",
    "f(1) = f(2) = f(N-1) = f(N) = 0;\n",
    "\n",
    "format long\n",
    "A = [];\n",
    "\n",
    "A(1,1) = 1;\n",
    "A(2,1) = -3;\n",
    "A(2,2) = 4;\n",
    "A(2,3) = -1;\n",
    "\n",
    "\n",
    "% Creating diagonals of the matrix\n",
    "for i=3:N - 2\n",
    "    A(i,i) = 6;\n",
    "    A(i,i-1) = A(i,i+1) = -4;\n",
    "    A(i,i-2) = A(i,i+2) = 1; \n",
    "endfor\n",
    "\n",
    "A(N-1,N) = 2;\n",
    "A(N-1,N-1) = -5;\n",
    "A(N-1,N-2) = 4;\n",
    "A(N-1,N-3) = -1;\n",
    "\n",
    "A(N,N) = 5;\n",
    "A(N,N-1) = -18;\n",
    "A(N,N-2) = 24;\n",
    "A(N,N-3) = -14;\n",
    "A(N,N-4) = 3;\n",
    "\n",
    "% Solve for y\n",
    "y = A\\f;\n",
    "\n",
    "x = (0:h:L)';\n",
    "y_exact = -b*d*rho*g/(24*E*I)*x.^2.*(6.*L^2 - 4.*L*x + x.^2);\n",
    "ErrMax = max(abs(y-y_exact))\n"
   ]
  },
  {
   "cell_type": "code",
   "execution_count": 7,
   "metadata": {},
   "outputs": [
    {
     "data": {
      "image/png": "[encoded data removed]",
      "text/plain": [
       "<IPython.core.display.Image object>"
      ]
     },
     "metadata": {},
     "output_type": "display_data"
    }
   ],
   "source": [
    "subplot(2,1,1);\n",
    "plot(x, y, \"b*\", x, y_exact, \"r\")\n",
    "title('Deflection of the beam');\n",
    "xlabel('x'); ylabel('y (deflection)');\n",
    "grid on;\n",
    "subplot(2,1,2);\n",
    "plot(x, abs(y - y_exact), \"r\")\n",
    "title('Error: |computed - exact|');\n",
    "xlabel('x'); ylabel('Error');\n",
    "grid on;"
   ]
  },
  {
   "cell_type": "markdown",
   "metadata": {},
   "source": [
    "# Sauer First Edition - Backslash"
   ]
  },
  {
   "cell_type": "code",
   "execution_count": 8,
   "metadata": {},
   "outputs": [
    {
     "name": "stdout",
     "output_type": "stream",
     "text": [
      "A =\n",
      "\n",
      "         12         -6        4/3          0          0          0          0\n",
      "         -4          6         -4          1          0          0          0\n",
      "          1         -4          6         -4          1          0          0\n",
      "          0          1         -4          6         -4          1          0\n",
      "          0          0          1         -4          6         -4          1\n",
      "          0          0          0          1     -93/25     111/25     -43/25\n",
      "          0          0          0          0      12/25     -24/25      12/25\n",
      "\n",
      "ErrMax = 5099/5233\n"
     ]
    }
   ],
   "source": [
    "% Since in Sauer's second edition does not use a pentadiagonal matrix, we must use a more standard approach\n",
    "% Filling and solving our matrix.\n",
    "format rat\n",
    "\n",
    "\n",
    "n = 6; % number of subintervals on [h, L]\n",
    "A = sparse(n,n);\n",
    "A = [];\n",
    "h = L/(n+1); % discretization spacing\n",
    "N = n+1; % number of unknowns to be solved for \n",
    "\n",
    "% Define the RHS of the system\n",
    "f = -h^4/(E*I) * w * ones(N, 1);\n",
    "%f(1) = f(N) = 0;\n",
    "\n",
    "% left end point\n",
    "A(1,1) = 12;\n",
    "A(1,2) = -6;\n",
    "A(1,3) = (4/3);\n",
    "A(2,1) = A(2,3) = -4;\n",
    "A(2,2) = 6;\n",
    "A(2,4) = 1;\n",
    "% Creating diagonals of the matrix\n",
    "for i=3:N - 2\n",
    "    A(i,i) = 6;\n",
    "    A(i,i-1) = A(i,i+1) = -4;\n",
    "    A(i,i-2) = A(i,i+2) = 1; \n",
    "endfor\n",
    "\n",
    "\n",
    "% right endpoint\n",
    "A(N,N) = (12/25);\n",
    "A(N-1,N) = (-43/25);\n",
    "A(N,N-1) = (-24/25);\n",
    "A(N-1,N-1) = (111/25);\n",
    "A(N,N-2) = (12/25);\n",
    "A(N-1,N-2) = (-93/25);\n",
    "A(N-1,N-3) = 1;\n",
    "% Finding y\n",
    "y = A\\f;\n",
    "A\n",
    "% Plots\n",
    "x = (h:h:L)';\n",
    "y_exact = -b*d*rho*g/(24*E*I)*x.^2.*(6.*L^2 - 4.*L*x + x.^2);\n",
    "ErrMax = max(abs(y-y_exact))"
   ]
  },
  {
   "cell_type": "code",
   "execution_count": 9,
   "metadata": {},
   "outputs": [
    {
     "data": {
      "image/png": "[encoded data removed]",
      "text/plain": [
       "<IPython.core.display.Image object>"
      ]
     },
     "metadata": {},
     "output_type": "display_data"
    }
   ],
   "source": [
    "subplot(2,1,1);\n",
    "plot(x, y, \"b*\", x, y_exact, \"r\")\n",
    "title('Deflection of the beam');\n",
    "xlabel('x'); ylabel('y (deflection)');\n",
    "grid on;\n",
    "subplot(2,1,2);\n",
    "plot(x, abs(y - y_exact), \"r\")\n",
    "title('Error: |computed - exact|');\n",
    "xlabel('x'); ylabel('Error');\n",
    "grid on;"
   ]
  },
  {
   "cell_type": "markdown",
   "metadata": {},
   "source": [
    "# Sauer First Edition - Penta"
   ]
  },
  {
   "cell_type": "code",
   "execution_count": 10,
   "metadata": {},
   "outputs": [
    {
     "name": "stdout",
     "output_type": "stream",
     "text": [
      "ErrMax =   2.3272e-003\n"
     ]
    }
   ],
   "source": [
    "n = 6000; % number of subintervals on [h, L]\n",
    "h = L/(n+1); % discretization spacing\n",
    "N = n+1; % number of unknowns to be solved for \n",
    "\n",
    "format short e\n",
    "% Define the RHS of the system\n",
    "f = -h^4/(E*I) * w * ones(N, 1);\n",
    "\n",
    "% Define the matrix of the system. Notation: d0 is the main diagonal;\n",
    "% dpn is \"main diagonal + n\" (superdiagonal n); dmn is \"main diagonal - n\" (subdiagonal n)\n",
    "d0 = 6*ones(1, N);\n",
    "dp1 = dm1 = -4*ones(1, N-1);\n",
    "dp2 = dm2 = ones(1, N-2);\n",
    "% Fixed left end\n",
    "d0(1) = 12;\n",
    "dp1(1) = -6;\n",
    "dp2(1) = (4/3);\n",
    "dm1(1) = -4;\n",
    "dm2(1) = 1;\n",
    "% Free right end\n",
    "d0(N) = (12/25); d0(N-1) = (111/25);\n",
    "dp1(N-1) = (-43/25);\n",
    "dp2(N-2) = 1.0;\n",
    "dm1(N-1) = (-24/25);\n",
    "dm1(N-2) = (-93/25);\n",
    "dm2(N-2) = (12/25);\n",
    "% Solve for y\n",
    "y = GaussElimPenta(dm2, dm1, d0, dp1, dp2, f);\n",
    "\n",
    "% Plots\n",
    "x = (h:h:L)';\n",
    "y_exact = -b*d*rho*g/(24*E*I)*x.^2.*(6.*L^2 - 4.*L*x + x.^2);\n",
    "ErrMax = max(abs(y-y_exact))"
   ]
  },
  {
   "cell_type": "code",
   "execution_count": 11,
   "metadata": {},
   "outputs": [
    {
     "data": {
      "image/png": "[encoded data removed]",
      "text/plain": [
       "<IPython.core.display.Image object>"
      ]
     },
     "metadata": {},
     "output_type": "display_data"
    }
   ],
   "source": [
    "subplot(2,1,1);\n",
    "plot(x, y, \"b*\", x, y_exact, \"r\")\n",
    "title('Deflection of the beam');\n",
    "xlabel('x'); ylabel('y (deflection)');\n",
    "grid on;\n",
    "subplot(2,1,2);\n",
    "plot(x, abs(y - y_exact), \"r\")\n",
    "title('Error: |computed - exact|');\n",
    "xlabel('x'); ylabel('Error');\n",
    "grid on;"
   ]
  },
  {
   "cell_type": "markdown",
   "metadata": {},
   "source": [
    "# Sauer Second Edition  - Backslash"
   ]
  },
  {
   "cell_type": "code",
   "execution_count": 12,
   "metadata": {},
   "outputs": [
    {
     "name": "stdout",
     "output_type": "stream",
     "text": [
      "ErrMax = 0\n",
      "Elapsed time is 0.220109 seconds.\n"
     ]
    }
   ],
   "source": [
    "tic;\n",
    "format rat\n",
    "n = 6; % number of subintervals on [h, L]\n",
    "h = L/n; % discretization spacing\n",
    "N = n; % number of unknowns to be solved for\n",
    "A = sparse(N,N);\n",
    "% Define the RHS of the system\n",
    "f = -h^4/(E*I) * w * ones(N, 1);\n",
    "% Creating diagonals of the matrix\n",
    "for i=3:N - 2\n",
    "    A(i,i) = 6;\n",
    "    A(i,i-1) = A(i,i+1) = -4;\n",
    "    A(i,i-2) = A(i,i+2) = 1; \n",
    "endfor\n",
    "\n",
    "% Leftside\n",
    "A(1,1) = 16;\n",
    "A(1,2) = -9;\n",
    "A(1,3) = (8/3);\n",
    "A(1,4) = (-1/4);\n",
    "A(2,1) = A(2,3) = -4;\n",
    "A(2,2) = 6;\n",
    "A(2,4) = 1;\n",
    "\n",
    "% Rightside\n",
    "A(N,N-3) = -(12/17);\n",
    "A(N,N-2) = (96/17);\n",
    "A(N,N-1) = -(156/17);\n",
    "A(N,N) = (72/17);\n",
    "A(N-1,N) = -(28/17);\n",
    "A(N-1,N-1) = (72/17);\n",
    "A(N-1,N-2) = -(60/17);\n",
    "A(N-1,N-3) = (16/17);\n",
    "% Finding y\n",
    "y = A\\f;\n",
    "\n",
    "% Plots\n",
    "x = (h:h:L)';\n",
    "y_exact = -b*d*rho*g/(24*E*I)*x.^2.*(6.*L^2 - 4.*L*x + x.^2);\n",
    "ErrMax = max(abs(y-y_exact))\n",
    "toc"
   ]
  },
  {
   "cell_type": "code",
   "execution_count": 13,
   "metadata": {},
   "outputs": [
    {
     "data": {
      "image/png": "[encoded data removed]",
      "text/plain": [
       "<IPython.core.display.Image object>"
      ]
     },
     "metadata": {},
     "output_type": "display_data"
    }
   ],
   "source": [
    "subplot(2,1,1);\n",
    "plot([0;x], [0;y], \"b*\", [0;x], [0;y_exact], \"r\")\n",
    "title('Deflection of the beam');\n",
    "xlabel('x'); ylabel('y (deflection)');\n",
    "grid on;\n",
    "subplot(2,1,2);\n",
    "plot(x, abs(y - y_exact), \"r\")\n",
    "title('Error: |computed - exact|');\n",
    "xlabel('x'); ylabel('Error');\n",
    "grid on;"
   ]
  },
  {
   "cell_type": "markdown",
   "metadata": {},
   "source": [
    "# Sauer Second Edition  - Penta"
   ]
  },
  {
   "cell_type": "code",
   "execution_count": 14,
   "metadata": {},
   "outputs": [
    {
     "name": "stdout",
     "output_type": "stream",
     "text": [
      "ErrMax =   8.0922e+013\n"
     ]
    }
   ],
   "source": [
    "n = 6000; % number of subintervals on [h, L]\n",
    "h = L/(n+1); % discretization spacing\n",
    "N = n+1; % number of unknowns to be solved for \n",
    "\n",
    "format short e\n",
    "% Define the RHS of the system\n",
    "f = -h^4/(E*I) * w * ones(N, 1);\n",
    "f(1) = f(1) + (1/4) * f(2);\n",
    "f(N) = f(N) + (12/16)*(N-1);\n",
    "% Define the matrix of the system. Notation: d0 is the main diagonal;\n",
    "% dpn is \"main diagonal + n\" (superdiagonal n); dmn is \"main diagonal - n\" (subdiagonal n)\n",
    "d0 = 6*ones(1, N);\n",
    "dp1 = dm1 = -4*ones(1, N-1);\n",
    "dp2 = dm2 = ones(1, N-2);\n",
    "% Fixed left end\n",
    "d0(1) = 15;\n",
    "dp(1) = (15/2);\n",
    "dp2(1) = (5/3);\n",
    "dm1(1) = -4;\n",
    "dm2(1) = 1;\n",
    "% Free right end\n",
    "d0(N) = 3; d0(N-1) = (72/17);\n",
    "dp1(N-1) = (-28/17);\n",
    "dp2(N-2) = 1.0;\n",
    "dm1(N-1) = -6;\n",
    "dm1(N-2) = (-60/17);\n",
    "dm2(N-2) = 3;\n",
    "dm2(N-3) = (16/17);\n",
    "% Solve for y\n",
    "y = GaussElimPenta(dm2, dm1, d0, dp1, dp2, f);\n",
    "\n",
    "% Plots\n",
    "x = (h:h:L)';\n",
    "y_exact = -b*d*rho*g/(24*E*I)*x.^2.*(6.*L^2 - 4.*L*x + x.^2);\n",
    "ErrMax = max(abs(y-y_exact))"
   ]
  },
  {
   "cell_type": "code",
   "execution_count": 15,
   "metadata": {},
   "outputs": [
    {
     "data": {
      "image/png": "[encoded data removed]",
      "text/plain": [
       "<IPython.core.display.Image object>"
      ]
     },
     "metadata": {},
     "output_type": "display_data"
    }
   ],
   "source": [
    "subplot(2,1,1);\n",
    "plot([0;x], [0;y], \"b*\", [0;x], [0;y_exact], \"r\")\n",
    "title('Deflection of the beam');\n",
    "xlabel('x'); ylabel('y (deflection)');\n",
    "grid on;\n",
    "subplot(2,1,2);\n",
    "plot(x, abs(y - y_exact), \"r\")\n",
    "title('Error: |computed - exact|');\n",
    "xlabel('x'); ylabel('Error');\n",
    "grid on;"
   ]
  },
  {
   "cell_type": "code",
   "execution_count": null,
   "metadata": {},
   "outputs": [],
   "source": []
  }
 ],
 "metadata": {
  "kernelspec": {
   "display_name": "Octave",
   "language": "octave",
   "name": "octave"
  },
  "language_info": {
   "file_extension": ".m",
   "help_links": [
    {
     "text": "GNU Octave",
     "url": "https://www.gnu.org/software/octave/support.html"
    },
    {
     "text": "Octave Kernel",
     "url": "https://github.com/Calysto/octave_kernel"
    },
    {
     "text": "MetaKernel Magics",
     "url": "https://github.com/calysto/metakernel/blob/master/metakernel/magics/README.md"
    }
   ],
   "mimetype": "text/x-octave",
   "name": "octave",
   "version": "4.4.0"
  }
 },
 "nbformat": 4,
 "nbformat_minor": 2
}
