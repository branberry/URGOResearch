{
 "cells": [
  {
   "cell_type": "markdown",
   "metadata": {},
   "source": [
    "# Constants definitions"
   ]
  },
  {
   "cell_type": "code",
   "execution_count": 2,
   "metadata": {},
   "outputs": [],
   "source": [
    "L = 10; % length = 10 m\n",
    "b = 0.1; % width = 10 cm\n",
    "d = 0.05; % height = 5 cm\n",
    "E = 2*10^11; % Young's modulus for steel = 200 GPa = 2x10^11 Pa\n",
    "I = b*d^3/12; % second moment of inertia\n",
    "rho = 7850; % mass density of steel = 7850 kg/m^3\n",
    "g = 9.81; % acceleration due to gravity = 9.81 m/s^2\n",
    "w = rho*b*d*g; % weight of the beam per unit length (will be our f)"
   ]
  },
  {
   "cell_type": "markdown",
   "metadata": {},
   "source": [
    "# Class Project Trials"
   ]
  },
  {
   "cell_type": "code",
   "execution_count": 11,
   "metadata": {},
   "outputs": [
    {
     "name": "stdout",
     "output_type": "stream",
     "text": [
      "n: 10\t\t\t\tErrMax =   2.3103e-002\n",
      "n: 20\t\t\t\tErrMax =   5.7756e-003\n",
      "n: 40\t\t\t\tErrMax =   1.4439e-003\n",
      "n: 80\t\t\t\tErrMax =   3.6098e-004\n",
      "n: 160\t\t\t\tErrMax =   9.0245e-005\n",
      "n: 320\t\t\t\tErrMax =   2.2605e-005\n",
      "n: 640\t\t\t\tErrMax =   5.7606e-006\n",
      "n: 1280\t\t\t\tErrMax =   1.8213e-006\n",
      "n: 2560\t\t\t\tErrMax =   2.0304e-004\n",
      "n: 5120\t\t\t\tErrMax =   6.4788e-004\n",
      "n: 10240\t\t\t\tErrMax =   2.1904e-002\n"
     ]
    }
   ],
   "source": [
    "n = 10;\n",
    "\n",
    "for j=1:11\n",
    "    printf(\"n: %d\\t\\t\\t\\t\", n);\n",
    "    h = L/n; % discretization spacing\n",
    "    N = n + 1; % number of unknowns to be solved for\n",
    "    A = sparse(N,N); % generating a sparse matrix\n",
    "\n",
    "    % Define the RHS of the system\n",
    "    f = -h^4/(E*I) * w * ones(N, 1);\n",
    "    f(1) = 0;\n",
    "    f(N) = f(N)/2;\n",
    "\n",
    "    % Creating diagonals of the matrix\n",
    "    for i=3:N - 2\n",
    "        A(i,i) = 6;\n",
    "        A(i,i-1) = A(i,i+1) = -4;\n",
    "        A(i,i-2) = A(i,i+2) = 1; \n",
    "    endfor\n",
    "\n",
    "    % Left end\n",
    "    A(1,1) = 1;\n",
    "    A(2,2) = 7;\n",
    "    A(1,2) = 0;\n",
    "    A(1,3) = 0;\n",
    "    A(2,1) = 0;\n",
    "    A(3,1) = 0;\n",
    "    A(2,3) = -4;\n",
    "    A(2,4) = 1;\n",
    "    % Right end\n",
    "    A(N,N) = 1;\n",
    "    A(N-1,N-1) =  5;\n",
    "    A(N-1,N) = -2;\n",
    "    A(N-2,N) = 1;\n",
    "    A(N, N-1) = -2;\n",
    "    A(N, N-2) = 1;\n",
    "    A(N-1,N-2) = -4;\n",
    "    A(N-1,N-3) = 1;\n",
    "\n",
    "    % Solve for y\n",
    "    y = A\\f;\n",
    "    x = (0:h:L)';\n",
    "    y_exact = -b*d*rho*g/(24*E*I)*x.^2.*(6.*L^2 - 4.*L*x + x.^2);\n",
    "    ErrMax = max(abs(y-y_exact))\n",
    "    n = n * 2;\n",
    "endfor"
   ]
  },
  {
   "cell_type": "markdown",
   "metadata": {},
   "source": [
    "# Class Project Trials (Penta)"
   ]
  },
  {
   "cell_type": "code",
   "execution_count": 4,
   "metadata": {},
   "outputs": [
    {
     "name": "stdout",
     "output_type": "stream",
     "text": [
      "n: 10\t\t\t\tErrMax =   2.310255000038230e-002\n",
      "n: 20\t\t\t\tErrMax =   5.775637502192676e-003\n",
      "n: 40\t\t\t\tErrMax =   1.443909349510442e-003\n",
      "n: 80\t\t\t\tErrMax =   3.609771821433405e-004\n",
      "n: 160\t\t\t\tErrMax =   9.025203271706417e-005\n",
      "n: 320\t\t\t\tErrMax =   2.258974779412171e-005\n",
      "n: 640\t\t\t\tErrMax =   5.456730395092535e-006\n",
      "n: 1280\t\t\t\tErrMax =   2.688451615906473e-005\n",
      "n: 2560\t\t\t\tErrMax =   5.210340448424944e-006\n",
      "n: 5120\t\t\t\tErrMax =   1.661748340157310e-003\n",
      "n: 10240\t\t\t\tErrMax =   4.423001108697200e-003\n"
     ]
    }
   ],
   "source": [
    "n = 10;\n",
    "\n",
    "for j=1:11\n",
    "    printf(\"n: %d\\t\\t\\t\\t\", n);\n",
    "    h = L/n; % discretization spacing\n",
    "    N = n + 1; % number of unknowns to be solved for\n",
    "\n",
    "    % Define the RHS of the system\n",
    "    f = -h^4/(E*I) * w * ones(N, 1);\n",
    "    f(1) = 0;\n",
    "    f(N) = f(N)/2;\n",
    "\n",
    "    % Define the matrix of the system. Notation: d0 is the main diagonal;\n",
    "    % dpn is \"main diagonal + n\" (superdiagonal n); dmn is \"main diagonal - n\" (subdiagonal n)\n",
    "    d0 = 6*ones(1, N);\n",
    "    dp1 = dm1 = -4*ones(1, N-1);\n",
    "    dp2 = dm2 = ones(1, N-2);\n",
    "    % Fixed left end\n",
    "    d0(1) = 1.0; d0(2) = 7.0;\n",
    "    dp1(1) = 0.0;\n",
    "    dp2(1) = 0.0;\n",
    "    dm1(1) = 0.0;\n",
    "    dm2(1) = 0.0;\n",
    "    % Free right end\n",
    "    d0(N) = 1.0; d0(N-1) = 5.0;\n",
    "    dp1(N-1) = -2.0;\n",
    "    dp2(N-2) = 1.0;\n",
    "    dm1(N-1) = -2.0;\n",
    "    dm2(N-2) = 1.0;\n",
    "    % Solve for y\n",
    "    y = GaussElimPenta(dm2, dm1, d0, dp1, dp2, f);\n",
    "    % Plots\n",
    "\n",
    "    x = (0:h:L)';\n",
    "    y_exact = -b*d*rho*g/(24*E*I)*x.^2.*(6.*L^2 - 4.*L*x + x.^2);\n",
    "    ErrMax = max(abs(y-y_exact))\n",
    "    n = n * 2;\n",
    "endfor"
   ]
  },
  {
   "cell_type": "markdown",
   "metadata": {},
   "source": [
    "# Class Project Trials (Non-Ficitious nodes)"
   ]
  },
  {
   "cell_type": "code",
   "execution_count": 3,
   "metadata": {},
   "outputs": [
    {
     "name": "stdout",
     "output_type": "stream",
     "text": [
      "n: 10\t\t\t\tErrMax =   2.772305999983748e-002\n",
      "n: 20\t\t\t\tErrMax =   6.353201249225116e-003\n",
      "n: 40\t\t\t\tErrMax =   1.516104928419804e-003\n",
      "n: 80\t\t\t\tErrMax =   3.700023166035571e-004\n",
      "n: 160\t\t\t\tErrMax =   9.137374992018721e-005\n",
      "n: 320\t\t\t\tErrMax =   2.264982619282208e-005\n",
      "n: 640\t\t\t\tErrMax =   5.368584908627128e-006\n",
      "n: 1280\t\t\t\tErrMax =   3.240280728178391e-006\n",
      "n: 2560\t\t\t\tErrMax =   1.393908128073384e-004\n",
      "n: 5120\t\t\t\tErrMax =   1.594388222612153e-004\n",
      "n: 10240\t\t\t\tErrMax =   7.004777839347831e-004\n"
     ]
    }
   ],
   "source": [
    "n = 10;\n",
    "\n",
    "for j=1:11\n",
    "    printf(\"n: %d\\t\\t\\t\\t\", n);\n",
    "    h = L/n; % discretization spacing\n",
    "    N = n + 1; % number of unknowns to be solved for\n",
    "\n",
    "    % Define the RHS of the system\n",
    "    f = -h^4/(E*I) * w * ones(N, 1);\n",
    "    f(1) = f(2) = f(N-1) = f(N) = 0;\n",
    "\n",
    "    format long\n",
    "    A = sparse(N,N);\n",
    "\n",
    "    A(1,1) = 1;\n",
    "    A(2,1) = -3;\n",
    "    A(2,2) = 4;\n",
    "    A(2,3) = -1;\n",
    "\n",
    "\n",
    "    % Creating diagonals of the matrix\n",
    "    for i=3:N - 2\n",
    "        A(i,i) = 6;\n",
    "        A(i,i-1) = A(i,i+1) = -4;\n",
    "        A(i,i-2) = A(i,i+2) = 1; \n",
    "    endfor\n",
    "\n",
    "    A(N-1,N) = 2;\n",
    "    A(N-1,N-1) = -5;\n",
    "    A(N-1,N-2) = 4;\n",
    "    A(N-1,N-3) = -1;\n",
    "\n",
    "    A(N,N) = 5;\n",
    "    A(N,N-1) = -18;\n",
    "    A(N,N-2) = 24;\n",
    "    A(N,N-3) = -14;\n",
    "    A(N,N-4) = 3;\n",
    "\n",
    "    % Solve for y\n",
    "    y = A\\f;\n",
    "\n",
    "    x = (0:h:L)';\n",
    "    y_exact = -b*d*rho*g/(24*E*I)*x.^2.*(6.*L^2 - 4.*L*x + x.^2);\n",
    "    ErrMax = max(abs(y-y_exact))\n",
    "    n = n * 2;\n",
    "endfor"
   ]
  },
  {
   "cell_type": "markdown",
   "metadata": {},
   "source": [
    "# Sauer First Edition Trials"
   ]
  },
  {
   "cell_type": "code",
   "execution_count": 12,
   "metadata": {},
   "outputs": [
    {
     "name": "stdout",
     "output_type": "stream",
     "text": [
      "n: 10\t\t\t\tErrMax =   6.6227e-001\n",
      "n: 20\t\t\t\tErrMax =   3.1959e-001\n",
      "n: 40\t\t\t\tErrMax =   1.5690e-001\n",
      "n: 80\t\t\t\tErrMax =   7.7730e-002\n",
      "n: 160\t\t\t\tErrMax =   3.8685e-002\n",
      "n: 320\t\t\t\tErrMax =   1.9297e-002\n",
      "n: 640\t\t\t\tErrMax =   9.6371e-003\n",
      "n: 1280\t\t\t\tErrMax =   4.8098e-003\n",
      "n: 2560\t\t\t\tErrMax =   2.4800e-003\n",
      "n: 5120\t\t\t\tErrMax =   4.1564e-004\n",
      "n: 10240\t\t\t\tErrMax =   1.3762e-002\n"
     ]
    }
   ],
   "source": [
    "n = 10;\n",
    "for j=1:11\n",
    "    printf(\"n: %d\\t\\t\\t\\t\", n);\n",
    "    h = L/n; % discretization spacing\n",
    "    N = n; % number of unknowns to be solved for\n",
    "    A = sparse(N,N); % generating a sparse matrix\n",
    "\n",
    "    % Define the RHS of the system\n",
    "    f = -h^4/(E*I) * w * ones(N, 1);\n",
    "\n",
    "    % Creating diagonals of the matrix\n",
    "    for i=3:N - 2\n",
    "        A(i,i) = 6;\n",
    "        A(i,i-1) = A(i,i+1) = -4;\n",
    "        A(i,i-2) = A(i,i+2) = 1; \n",
    "    endfor\n",
    "\n",
    "    % Leftside\n",
    "    A(1,1) = 12;\n",
    "    A(1,2) = -6;\n",
    "    A(1,3) = (4/3);\n",
    "    A(2,1) = A(2,3) = -4;\n",
    "    A(2,2) = 6;    \n",
    "    A(2,4) = 1;\n",
    "\n",
    "    % right endpoint\n",
    "    A(N,N) = (12/25);\n",
    "    A(N-1,N) = (-43/25);\n",
    "    A(N,N-1) = (-24/25);\n",
    "    A(N-1,N-1) = (111/25);\n",
    "    A(N,N-2) = (12/25);\n",
    "    A(N-1,N-2) = (-93/25);\n",
    "    A(N-1,N-3) = 1;\n",
    "    % Solve for y\n",
    "    y = A\\f;\n",
    "    x = (h:h:L)';\n",
    "    y_exact = -b*d*rho*g/(24*E*I)*x.^2.*(6.*L^2 - 4.*L*x + x.^2);\n",
    "    ErrMax = max(abs(y-y_exact))\n",
    "    n = n * 2;\n",
    "endfor"
   ]
  },
  {
   "cell_type": "markdown",
   "metadata": {},
   "source": [
    "# Sauer First Edition Trials - Penta"
   ]
  },
  {
   "cell_type": "code",
   "execution_count": 13,
   "metadata": {},
   "outputs": [
    {
     "name": "stdout",
     "output_type": "stream",
     "text": [
      "n: 10\t\t\t\tErrMax =   5.9825e-001\n",
      "n: 20\t\t\t\tErrMax =   3.0384e-001\n",
      "n: 40\t\t\t\tErrMax =   1.5301e-001\n",
      "n: 80\t\t\t\tErrMax =   7.6762e-002\n",
      "n: 160\t\t\t\tErrMax =   3.8443e-002\n",
      "n: 320\t\t\t\tErrMax =   1.9237e-002\n",
      "n: 640\t\t\t\tErrMax =   9.6216e-003\n",
      "n: 1280\t\t\t\tErrMax =   4.8111e-003\n",
      "n: 2560\t\t\t\tErrMax =   2.4270e-003\n",
      "n: 5120\t\t\t\tErrMax =   1.3870e-003\n",
      "n: 10240\t\t\t\tErrMax =   1.0745e-002\n"
     ]
    }
   ],
   "source": [
    "n = 10;\n",
    "format short e\n",
    "for j=1:11\n",
    "    printf(\"n: %d\\t\\t\\t\\t\", n);\n",
    "    h = L/(n+1); % discretization spacing\n",
    "    N = n+1; % number of unknowns to be solved for \n",
    "\n",
    "    format short e\n",
    "    % Define the RHS of the system\n",
    "    f = -h^4/(E*I) * w * ones(N, 1);\n",
    "\n",
    "    % Define the matrix of the system. Notation: d0 is the main diagonal;\n",
    "    % dpn is \"main diagonal + n\" (superdiagonal n); dmn is \"main diagonal - n\" (subdiagonal n)\n",
    "    d0 = 6*ones(1, N);\n",
    "    dp1 = dm1 = -4*ones(1, N-1);\n",
    "    dp2 = dm2 = ones(1, N-2);\n",
    "    % Fixed left end\n",
    "    d0(1) = 12;\n",
    "    dp1(1) = -6;\n",
    "    dp2(1) = (4/3);\n",
    "    dm1(1) = -4;\n",
    "    dm2(1) = 1;\n",
    "    % Free right end\n",
    "    d0(N) = (12/25); d0(N-1) = (111/25);\n",
    "    dp1(N-1) = (-43/25);\n",
    "    dp2(N-2) = 1.0;\n",
    "    dm1(N-1) = (-24/25);\n",
    "    dm1(N-2) = (-93/25);\n",
    "    dm2(N-2) = (12/25);\n",
    "    % Solve for y\n",
    "    y = GaussElimPenta(dm2, dm1, d0, dp1, dp2, f);\n",
    "\n",
    "    % Plots\n",
    "    x = (h:h:L)';\n",
    "    y_exact = -b*d*rho*g/(24*E*I)*x.^2.*(6.*L^2 - 4.*L*x + x.^2);\n",
    "    ErrMax = max(abs(y-y_exact))\n",
    "    n = n * 2;\n",
    "endfor"
   ]
  },
  {
   "cell_type": "markdown",
   "metadata": {},
   "source": [
    "# Sauer Second Edition Trials"
   ]
  },
  {
   "cell_type": "code",
   "execution_count": 14,
   "metadata": {
    "scrolled": true
   },
   "outputs": [
    {
     "name": "stdout",
     "output_type": "stream",
     "text": [
      "n: 10\t\t\t\tErrMax =   1.5854e-013\n",
      "n: 20\t\t\t\tErrMax =   9.6945e-013\n",
      "n: 40\t\t\t\tErrMax =   4.7085e-011\n",
      "n: 80\t\t\t\tErrMax =   3.2013e-010\n",
      "n: 160\t\t\t\tErrMax =   3.7130e-009\n",
      "n: 320\t\t\t\tErrMax =   8.9597e-008\n",
      "n: 640\t\t\t\tErrMax =   1.9621e-007\n",
      "n: 1280\t\t\t\tErrMax =   1.0212e-006\n",
      "n: 2560\t\t\t\tErrMax =   4.0676e-005\n",
      "n: 5120\t\t\t\tErrMax =   9.0815e-004\n",
      "n: 10240\t\t\t\tErrMax =   9.4137e-003\n"
     ]
    }
   ],
   "source": [
    "n = 10;\n",
    "format short e\n",
    "for j=1:11\n",
    "    printf(\"n: %d\\t\\t\\t\\t\", n);\n",
    "    h = L/n; % discretization spacing\n",
    "    N = n; % number of unknowns to be solved for\n",
    "    A = sparse(N,N);\n",
    "    % Define the RHS of the system\n",
    "    f = -h^4/(E*I) * w * ones(N, 1);\n",
    "    % Creating diagonals of the matrix\n",
    "    for i=3:N - 2\n",
    "        A(i,i) = 6;\n",
    "        A(i,i-1) = A(i,i+1) = -4;\n",
    "        A(i,i-2) = A(i,i+2) = 1; \n",
    "    endfor\n",
    "\n",
    "    % Leftside\n",
    "    A(1,1) = 16;\n",
    "    A(1,2) = -9;\n",
    "    A(1,3) = (8/3);\n",
    "    A(1,4) = (-1/4);\n",
    "    A(2,1) = A(2,3) = -4;\n",
    "    A(2,2) = 6;\n",
    "    A(2,4) = 1;\n",
    "\n",
    "    % Rightside\n",
    "    A(N,N-3) = -(12/17);\n",
    "    A(N,N-2) = (96/17);\n",
    "    A(N,N-1) = -(156/17);\n",
    "    A(N,N) = (72/17);\n",
    "    A(N-1,N) = -(28/17);\n",
    "    A(N-1,N-1) = (72/17);\n",
    "    A(N-1,N-2) = -(60/17);\n",
    "    A(N-1,N-3) = (16/17);\n",
    "    % Finding y\n",
    "    y = A\\f;\n",
    "\n",
    "    % Plots\n",
    "    x = (h:h:L)';\n",
    "    y_exact = -b*d*rho*g/(24*E*I)*x.^2.*(6.*L^2 - 4.*L*x + x.^2);\n",
    "    ErrMax = max(abs(y-y_exact))\n",
    "    n = n * 2;\n",
    "endfor"
   ]
  },
  {
   "cell_type": "code",
   "execution_count": null,
   "metadata": {},
   "outputs": [],
   "source": []
  }
 ],
 "metadata": {
  "kernelspec": {
   "display_name": "Octave",
   "language": "octave",
   "name": "octave"
  },
  "language_info": {
   "file_extension": ".m",
   "help_links": [
    {
     "text": "GNU Octave",
     "url": "https://www.gnu.org/software/octave/support.html"
    },
    {
     "text": "Octave Kernel",
     "url": "https://github.com/Calysto/octave_kernel"
    },
    {
     "text": "MetaKernel Magics",
     "url": "https://github.com/calysto/metakernel/blob/master/metakernel/magics/README.md"
    }
   ],
   "mimetype": "text/x-octave",
   "name": "octave",
   "version": "4.2.2"
  }
 },
 "nbformat": 4,
 "nbformat_minor": 2
}
