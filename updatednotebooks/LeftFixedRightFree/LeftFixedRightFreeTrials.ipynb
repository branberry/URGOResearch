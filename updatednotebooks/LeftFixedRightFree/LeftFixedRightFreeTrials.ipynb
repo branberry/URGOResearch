{
 "cells": [
  {
   "cell_type": "markdown",
   "metadata": {},
   "source": [
    "# Constants definitions"
   ]
  },
  {
   "cell_type": "code",
   "execution_count": 1,
   "metadata": {},
   "outputs": [],
   "source": [
    "L = 10; % length = 10 m\n",
    "b = 0.1; % width = 10 cm\n",
    "d = 0.05; % height = 5 cm\n",
    "E = 2*10^11; % Young's modulus for steel = 200 GPa = 2x10^11 Pa\n",
    "I = b*d^3/12; % second moment of inertia\n",
    "rho = 7850; % mass density of steel = 7850 kg/m^3\n",
    "g = 9.81; % acceleration due to gravity = 9.81 m/s^2\n",
    "w = rho*b*d*g; % weight of the beam per unit length (will be our f)"
   ]
  },
  {
   "cell_type": "markdown",
   "metadata": {},
   "source": [
    "# Class Project Trials"
   ]
  },
  {
   "cell_type": "code",
   "execution_count": 2,
   "metadata": {},
   "outputs": [
    {
     "name": "stdout",
     "output_type": "stream",
     "text": [
      "n =  10\n",
      "ErrMax =  0.023103\n",
      "n =  20\n",
      "ErrMax =  0.0057756\n",
      "n =  40\n",
      "ErrMax =  0.0014439\n",
      "n =  80\n",
      "ErrMax =    3.6098e-04\n",
      "n =  160\n",
      "ErrMax =    9.0238e-05\n",
      "n =  320\n",
      "ErrMax =    2.2793e-05\n",
      "n =  640\n",
      "ErrMax =    5.5954e-06\n",
      "n =  1280\n",
      "ErrMax =    6.2954e-06\n",
      "n =  2560\n",
      "ErrMax =    1.8738e-05\n",
      "n =  5120\n",
      "ErrMax =  0.0011522\n",
      "n =  10240\n",
      "ErrMax =  0.013862\n"
     ]
    }
   ],
   "source": [
    "n = 10;\n",
    "\n",
    "for j=1:11\n",
    "    n\n",
    "    h = L/n; % discretization spacing\n",
    "    N = n + 1; % number of unknowns to be solved for\n",
    "    A = sparse(N,N); % generating a sparse matrix\n",
    "\n",
    "    % Define the RHS of the system\n",
    "    f = -h^4/(E*I) * w * ones(N, 1);\n",
    "    f(1) = 0;\n",
    "    f(N) = f(N)/2;\n",
    "\n",
    "    % Creating diagonals of the matrix\n",
    "    for i=3:N - 2\n",
    "        A(i,i) = 6;\n",
    "        A(i,i-1) = A(i,i+1) = -4;\n",
    "        A(i,i-2) = A(i,i+2) = 1; \n",
    "    endfor\n",
    "\n",
    "    % Left end\n",
    "    A(1,1) = 1;\n",
    "    A(2,2) = 7;\n",
    "    A(1,2) = 0;\n",
    "    A(1,3) = 0;\n",
    "    A(2,1) = 0;\n",
    "    A(3,1) = 0;\n",
    "    A(2,3) = -4;\n",
    "    A(2,4) = 1;\n",
    "    % Right end\n",
    "    A(N,N) = 1;\n",
    "    A(N-1,N-1) =  5;\n",
    "    A(N-1,N) = -2;\n",
    "    A(N-2,N) = 1;\n",
    "    A(N, N-1) = -2;\n",
    "    A(N, N-2) = 1;\n",
    "    A(N-1,N-2) = -4;\n",
    "    A(N-1,N-3) = 1;\n",
    "\n",
    "    % Solve for y\n",
    "    y = A\\f;\n",
    "    x = (0:h:L)';\n",
    "    y_exact = -b*d*rho*g/(24*E*I)*x.^2.*(6.*L^2 - 4.*L*x + x.^2);\n",
    "    ErrMax = max(abs(y-y_exact))\n",
    "    n = n * 2;\n",
    "endfor"
   ]
  },
  {
   "cell_type": "markdown",
   "metadata": {},
   "source": [
    "# Sauer First Edition Trials"
   ]
  },
  {
   "cell_type": "code",
   "execution_count": 2,
   "metadata": {},
   "outputs": [
    {
     "name": "stdout",
     "output_type": "stream",
     "text": [
      "n =  10\n",
      "ErrMax =  0.66227\n",
      "n =  20\n",
      "ErrMax =  0.31959\n",
      "n =  40\n",
      "ErrMax =  0.15690\n",
      "n =  80\n",
      "ErrMax =  0.077730\n",
      "n =  160\n",
      "ErrMax =  0.038685\n",
      "n =  320\n",
      "ErrMax =  0.019297\n",
      "n =  640\n",
      "ErrMax =  0.0096371\n",
      "n =  1280\n",
      "ErrMax =  0.0048197\n",
      "n =  2560\n",
      "ErrMax =  0.0023999\n",
      "n =  5120\n",
      "ErrMax =    6.3562e-04\n",
      "n =  10240\n",
      "ErrMax =  0.0083901\n"
     ]
    }
   ],
   "source": [
    "n = 10;\n",
    "for j=1:11\n",
    "    n\n",
    "    h = L/n; % discretization spacing\n",
    "    N = n; % number of unknowns to be solved for\n",
    "    A = sparse(N,N); % generating a sparse matrix\n",
    "\n",
    "    % Define the RHS of the system\n",
    "    f = -h^4/(E*I) * w * ones(N, 1);\n",
    "\n",
    "    % Creating diagonals of the matrix\n",
    "    for i=3:N - 2\n",
    "        A(i,i) = 6;\n",
    "        A(i,i-1) = A(i,i+1) = -4;\n",
    "        A(i,i-2) = A(i,i+2) = 1; \n",
    "    endfor\n",
    "\n",
    "    % Leftside\n",
    "    A(1,1) = 12;\n",
    "    A(1,2) = -6;\n",
    "    A(1,3) = (4/3);\n",
    "    A(2,1) = A(2,3) = -4;\n",
    "    A(2,2) = 6;    \n",
    "    A(2,4) = 1;\n",
    "\n",
    "    % right endpoint\n",
    "    A(N,N) = (12/25);\n",
    "    A(N-1,N) = (-43/25);\n",
    "    A(N,N-1) = (-24/25);\n",
    "    A(N-1,N-1) = (111/25);\n",
    "    A(N,N-2) = (12/25);\n",
    "    A(N-1,N-2) = (-93/25);\n",
    "    A(N-1,N-3) = 1;\n",
    "    % Solve for y\n",
    "    y = A\\f;\n",
    "    x = (h:h:L)';\n",
    "    y_exact = -b*d*rho*g/(24*E*I)*x.^2.*(6.*L^2 - 4.*L*x + x.^2);\n",
    "    ErrMax = max(abs(y-y_exact))\n",
    "    n = n * 2;\n",
    "endfor"
   ]
  },
  {
   "cell_type": "markdown",
   "metadata": {},
   "source": [
    "# Sauer Second Edition Trials"
   ]
  },
  {
   "cell_type": "code",
   "execution_count": 4,
   "metadata": {
    "scrolled": true
   },
   "outputs": [
    {
     "name": "stdout",
     "output_type": "stream",
     "text": [
      "n =  10\n",
      "ErrMax =    4.3965e-14\n",
      "n =  20\n",
      "ErrMax =    3.2920e-12\n",
      "n =  40\n",
      "ErrMax =    3.5238e-11\n",
      "n =  80\n",
      "ErrMax =    1.5938e-10\n",
      "n =  160\n",
      "ErrMax =    2.0593e-09\n",
      "n =  320\n",
      "ErrMax =    4.1348e-08\n",
      "n =  640\n",
      "ErrMax =    1.9899e-07\n",
      "n =  1280\n",
      "ErrMax =    5.3301e-06\n",
      "n =  2560\n",
      "ErrMax =    2.4846e-05\n",
      "n =  5120\n",
      "ErrMax =    3.9837e-04\n",
      "n =  10240\n",
      "ErrMax =  0.010451\n"
     ]
    }
   ],
   "source": [
    "n = 10;\n",
    "\n",
    "for j=1:11\n",
    "    n\n",
    "    h = L/n; % discretization spacing\n",
    "    N = n; % number of unknowns to be solved for\n",
    "    A = sparse(N,N); % generating a sparse matrix\n",
    "\n",
    "    % Define the RHS of the system\n",
    "    f = -h^4/(E*I) * w * ones(N, 1);\n",
    "\n",
    "    % Creating diagonals of the matrix\n",
    "    for i=3:N - 2\n",
    "        A(i,i) = 6;\n",
    "        A(i,i-1) = A(i,i+1) = -4;\n",
    "        A(i,i-2) = A(i,i+2) = 1; \n",
    "    endfor\n",
    "\n",
    "    % Leftside\n",
    "    A(1,1) = 16;\n",
    "    A(1,2) = -9;\n",
    "    A(1,3) = (8/3);\n",
    "    A(1,4) = (-1/4);\n",
    "\n",
    "    A(2,1) = A(2,3) = -4;\n",
    "    A(2,2) = 6;    \n",
    "    A(2,4) = 1;\n",
    "\n",
    "    % right endpoint\n",
    "    A(N,N) = (72/17);\n",
    "    A(N-1,N) = (-28/17);\n",
    "    A(N,N-1) = (-156/17);\n",
    "    A(N-1,N-1) = (72/17);\n",
    "    A(N,N-2) = (96/17);\n",
    "    A(N-1,N-2) = (-60/17);\n",
    "    A(N,N-3) = (-12/17);\n",
    "    A(N-1,N-3) = (16/17);\n",
    "    \n",
    "    % Solve for y\n",
    "    y = A\\f;\n",
    "    x = (h:h:L)';\n",
    "    y_exact = -b*d*rho*g/(24*E*I)*x.^2.*(6.*L^2 - 4.*L*x + x.^2);\n",
    "    ErrMax = max(abs(y-y_exact))\n",
    "    n = n * 2;\n",
    "endfor"
   ]
  },
  {
   "cell_type": "code",
   "execution_count": null,
   "metadata": {},
   "outputs": [],
   "source": []
  }
 ],
 "metadata": {
  "kernelspec": {
   "display_name": "Octave",
   "language": "octave",
   "name": "octave"
  },
  "language_info": {
   "file_extension": ".m",
   "help_links": [
    {
     "text": "GNU Octave",
     "url": "https://www.gnu.org/software/octave/support.html"
    },
    {
     "text": "Octave Kernel",
     "url": "https://github.com/Calysto/octave_kernel"
    },
    {
     "text": "MetaKernel Magics",
     "url": "https://github.com/calysto/metakernel/blob/master/metakernel/magics/README.md"
    }
   ],
   "mimetype": "text/x-octave",
   "name": "octave",
   "version": "4.2.1"
  }
 },
 "nbformat": 4,
 "nbformat_minor": 2
}
