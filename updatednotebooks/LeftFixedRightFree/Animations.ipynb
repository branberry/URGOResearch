{
 "cells": [
  {
   "cell_type": "code",
   "execution_count": 1,
   "metadata": {},
   "outputs": [
    {
     "data": {
      "text/plain": [
       "addBlock (generic function with 1 method)"
      ]
     },
     "execution_count": 1,
     "metadata": {},
     "output_type": "execute_result"
    }
   ],
   "source": [
    "using Plots\n",
    "function addBlock(f,section)\n",
    "    # Define the number of subintervals where the block is applying force\n",
    "    dist = ceil(block_length/h)\n",
    "\n",
    "    # Define the starting distance of the block:\n",
    "    start = trunc(Int,section);\n",
    "\n",
    "    # Define the segment the block is being applied to:\n",
    "    finish = trunc(Int, start + dist);\n",
    "\n",
    "    for i = trunc(Int,start):trunc(Int, finish)\n",
    "        # I divide the block_mass by dist because dist represents the number of segments\n",
    "        # The block is being applied to.\n",
    "        f[i] = -h^4/(E*I) * (w +  block_mass_per_unit);\n",
    "    end\n",
    "\n",
    "    return [start finish]';\n",
    "end"
   ]
  },
  {
   "cell_type": "code",
   "execution_count": 6,
   "metadata": {},
   "outputs": [],
   "source": [
    "L = 10; # length = 10 m\n",
    "b = 0.1; # width = 10 cm\n",
    "d = 0.05; # height = 5 cm\n",
    "E = 2*10^11; # Young�s modulus for steel = 200 GPa = 2x10^11 Pa\n",
    "I = b*d^3/12; # second moment of inertia\n",
    "rho = 7850; # mass density of steel = 7850 kg/m^3\n",
    "g = 9.81; # acceleration due to gravity = 9.81 m/s^2\n",
    "w = rho*b*d*g; # weight of the beam per unit length (will be our f)\n",
    "\n",
    "block_rho = 750; # the mass density of wood\n",
    "block_length = 1; # in meters, the length of the block is 1m\n",
    "block_height = 1; # in meters, the height of the block is .2m, or 20cm\n",
    "\n",
    "# to conform to the width of the width of the board so the whole block is in contact with the board,\n",
    "# (using the mass density of steel now)\n",
    "# the block's width will simply be the boards width, b.  Computing the mass, we get:\n",
    "block_mass = block_rho*block_height*block_length*b;\n",
    "\n",
    "# Alternatively, we can compute the mass per unit length\n",
    "block_mass_per_unit = block_rho*block_height*g*b;\n",
    "\n",
    "n = 100; # number of subintervals on [0, L]\n",
    "h = L/n; # discretization spacing\n",
    "N = n + 1; # number of unknowns to be solved for"
   ]
  },
  {
   "cell_type": "code",
   "execution_count": 8,
   "metadata": {},
   "outputs": [
    {
     "data": {
      "text/plain": [
       "0.03057391466995485"
      ]
     },
     "metadata": {},
     "output_type": "display_data"
    },
    {
     "name": "stdout",
     "output_type": "stream",
     "text": [
      "\n",
      "\n"
     ]
    }
   ],
   "source": [
    "A = spzeros(N,N);\n",
    "# Define the RHS of the system\n",
    "f = -h^4/(E*I) * w * ones(N, 1);\n",
    "f[1] = 0;\n",
    "f[N] = 0;\n",
    "# Creating diagonals of the matrix\n",
    "for i=3:(N - 2)\n",
    "    A[i,i] = 6;\n",
    "    A[i,i-1] = A[i,i+1] = -4;\n",
    "    A[i,i-2] = A[i,i+2] = 1; \n",
    "end\n",
    "\n",
    "\n",
    "\n",
    "# Left end\n",
    "A[1,1] = 1;\n",
    "A[2,2] = 7;\n",
    "A[1,2] = 0;\n",
    "A[1,3] = 0;\n",
    "A[2,1] = 0;\n",
    "A[3,1] = 0;\n",
    "A[2,3] = -4;\n",
    "A[2,4] = 1;\n",
    "\n",
    "# Right end\n",
    "A[N,N] = 1;\n",
    "A[N-1,N-1] =  5;\n",
    "A[N-1,N] = -2;\n",
    "A[N-2,N] = 1;\n",
    "A[N, N-1] = -2;\n",
    "A[N, N-2] = 1;\n",
    "A[N-1,N-2] = -4;\n",
    "A[N-1,N-3] = 1;\n",
    "# Solve for y\n",
    "y = A\\f;\n",
    "x = ones(N,1);\n",
    "\n",
    "x = collect(0:h:L)\n",
    "\n",
    "y_exact = -b*d*rho*g/(24*E*I)*x.^2.*(6.*L^2 - 4.*L*x + x.^2);\n",
    "ErrMax = maximum(abs.(y-y_exact))\n",
    "print(\"\\n\")\n",
    "display(ErrMax)\n",
    "print(\"\\n\")"
   ]
  },
  {
   "cell_type": "code",
   "execution_count": 10,
   "metadata": {},
   "outputs": [
    {
     "name": "stdout",
     "output_type": "stream",
     "text": [
      "90\n",
      "\n"
     ]
    },
    {
     "name": "stderr",
     "output_type": "stream",
     "text": [
      "\u001b[1m\u001b[36mINFO: \u001b[39m\u001b[22m\u001b[36mSaved animation to D:\\gitrepos\\Octaveprojects\\URGOResearch\\updatednotebooks\\LeftFixedRightFree\\tmp.gif\n",
      "\u001b[39m"
     ]
    }
   ],
   "source": [
    "# this method uses the GR plotting backend\n",
    "gr()\n",
    "\n",
    "# final starting point for block to be placed on board\n",
    "plot(x,y,ylim=(-3.5,0),title=\"Block on Beam\")\n",
    "last = trunc(Int,n-(n/10))\n",
    "print(last)\n",
    "print(\"\\n\\n\")\n",
    "blockPoints = ones(N,1);\n",
    "@gif for j=1:last\n",
    "    f = -h^4/(E*I) * w * ones(N, 1);\n",
    "    f[1] = 0;\n",
    "    f[N] = 0;\n",
    "    # Creating diagonals of the matrix\n",
    "    for i=3:(N - 2)\n",
    "        A[i,i] = 6;\n",
    "        A[i,i-1] = A[i,i+1] = -4;\n",
    "        A[i,i-2] = A[i,i+2] = 1; \n",
    "    end\n",
    "    block = addBlock(f,j)\n",
    "    y = A\\f;\n",
    "    blockPoints = ones(N,1) * 10;\n",
    "    blockPoints[block[1]] = y[block[1]];\n",
    "    blockPoints[block[2]] = y[block[2]];\n",
    "    plot(x,y,ylim=(-3.5,3))\n",
    "    scatter!(x,blockPoints,ylim=(-3.5,3))\n",
    "    end every 1\n",
    "\n",
    "\n",
    "#p1 = scatter(x,y);\n",
    "#p2 = plot(x,abs.(y-y_exact), title=\"Error\");\n",
    "#plot(p1,p2,layout=(2,1))\n",
    "#plot!(x,y_exact, title=\"Both ends fixed displacement\")\n"
   ]
  },
  {
   "cell_type": "code",
   "execution_count": null,
   "metadata": {},
   "outputs": [],
   "source": []
  }
 ],
 "metadata": {
  "kernelspec": {
   "display_name": "Julia 0.6.2",
   "language": "julia",
   "name": "julia-0.6"
  },
  "language_info": {
   "file_extension": ".jl",
   "mimetype": "application/julia",
   "name": "julia",
   "version": "0.6.2"
  }
 },
 "nbformat": 4,
 "nbformat_minor": 2
}
