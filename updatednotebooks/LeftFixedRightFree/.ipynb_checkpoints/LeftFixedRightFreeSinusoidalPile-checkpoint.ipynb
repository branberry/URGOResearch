{
 "cells": [
  {
   "cell_type": "code",
   "execution_count": 1,
   "metadata": {},
   "outputs": [],
   "source": [
    "L = 10; % length = 10 m\n",
    "b = 0.1; % width = 10 cm\n",
    "d = 0.05; % height = 5 cm\n",
    "E = 2*10^11; % Young's modulus for steel = 200 GPa = 2x10^11 Pa\n",
    "I = b*d^3/12; % second moment of inertia\n",
    "rho = 7850; % mass density of steel = 7850 kg/m^3\n",
    "g = 9.81; % acceleration due to gravity = 9.81 m/s^2\n",
    "w = rho*b*d*g; % weight of the beam per unit length (will be our f)"
   ]
  },
  {
   "cell_type": "code",
   "execution_count": 3,
   "metadata": {},
   "outputs": [
    {
     "name": "stdout",
     "output_type": "stream",
     "text": [
      "ErrMax =   5.9514e+000\n"
     ]
    }
   ],
   "source": [
    "n = 6; % number of subintervals on [0, L]\n",
    "h = L/n; % discretization spacing\n",
    "N = n + 1; % number of unknowns to be solved for\n",
    "A = sparse(N,N); % generating a sparse matrix\n",
    "\n",
    "format short e\n",
    "% Define the RHS of the system\n",
    "f = h^4*((-w/E*I)-((rho*g)/(E*I))*sin((pi/L)*[0:h:L]'));\n",
    "f(1) = 0;\n",
    "f(N) = f(N)/2;\n",
    "\n",
    "% Creating diagonals of the matrix\n",
    "for i=3:N - 2\n",
    "    A(i,i) = 6;\n",
    "    A(i,i-1) = A(i,i+1) = -4;\n",
    "    A(i,i-2) = A(i,i+2) = 1; \n",
    "endfor\n",
    "\n",
    "% Left end\n",
    "A(1,1) = 1;\n",
    "A(2,2) = 7;\n",
    "A(1,2) = 0;\n",
    "A(1,3) = 0;\n",
    "A(2,1) = 0;\n",
    "A(3,1) = 0;\n",
    "A(2,3) = -4;\n",
    "A(2,4) = 1;\n",
    "\n",
    "% Right end\n",
    "A(N,N) = 1;\n",
    "A(N-1,N-1) =  5;\n",
    "A(N-1,N) = -2;\n",
    "A(N-2,N) = 1;\n",
    "A(N, N-1) = -2;\n",
    "A(N, N-2) = 1;\n",
    "A(N-1,N-2) = -4;\n",
    "A(N-1,N-3) = 1;\n",
    "\n",
    "% Solve for y\n",
    "y = A\\f;\n",
    "\n",
    "x = (0:h:L)';\n",
    "y_exact = -b*d*rho*g/(24*E*I)*x.^2.*(6.*L^2 - 4.*L*x + x.^2)-((rho*g*L)/(E*I*pi))*((L^3/pi^3)*sin((pi*x)/L)-x.^3/6 + (L*x.^2)/2-(L^2*x)/pi^2);;\n",
    "ErrMax = max(abs(y-y_exact))"
   ]
  },
  {
   "cell_type": "code",
   "execution_count": null,
   "metadata": {},
   "outputs": [],
   "source": []
  }
 ],
 "metadata": {
  "kernelspec": {
   "display_name": "Octave",
   "language": "octave",
   "name": "octave"
  },
  "language_info": {
   "file_extension": ".m",
   "help_links": [
    {
     "text": "GNU Octave",
     "url": "https://www.gnu.org/software/octave/support.html"
    },
    {
     "text": "Octave Kernel",
     "url": "https://github.com/Calysto/octave_kernel"
    },
    {
     "text": "MetaKernel Magics",
     "url": "https://github.com/calysto/metakernel/blob/master/metakernel/magics/README.md"
    }
   ],
   "mimetype": "text/x-octave",
   "name": "octave",
   "version": "4.4.0"
  }
 },
 "nbformat": 4,
 "nbformat_minor": 2
}
