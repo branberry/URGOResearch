{
 "cells": [
  {
   "cell_type": "markdown",
   "metadata": {},
   "source": [
    "#  This Jupyter Notebook contains the codes of various Euler Bernoulli Beam simulations\n"
   ]
  },
  {
   "cell_type": "markdown",
   "metadata": {},
   "source": [
    "## Constants definitions"
   ]
  },
  {
   "cell_type": "code",
   "execution_count": 3,
   "metadata": {},
   "outputs": [],
   "source": [
    "L = 10; % length = 10 m\n",
    "b = 0.1; % width = 10 cm\n",
    "d = 0.05; % height = 5 cm\n",
    "E = 2*10^11; % Young�s modulus for steel = 200 GPa = 2x10^11 Pa\n",
    "I = b*d^3/12; % second moment of inertia\n",
    "rho = 7850; % mass density of steel = 7850 kg/m^3\n",
    "g = 9.81; % acceleration due to gravity = 9.81 m/s^2\n",
    "w = rho*b*d*g; % weight of the beam per unit length (will be our f)\n",
    "n = 1280; % number of subintervals on [0, L]\n",
    "h = L/n; % discretization spacing\n",
    "N = n + 1; % number of unknowns to be solved for\n",
    "\n",
    "% Define the RHS of the system\n",
    "f = -h^4/(E*I) * w * ones(N, 1);\n",
    "f(1) = f(N) = 0;"
   ]
  },
  {
   "cell_type": "markdown",
   "metadata": {},
   "source": [
    "## Both ends fixed"
   ]
  },
  {
   "cell_type": "code",
   "execution_count": 2,
   "metadata": {},
   "outputs": [
    {
     "name": "stdout",
     "output_type": "stream",
     "text": [
      "ErrMax =    2.3818e-07\n"
     ]
    }
   ],
   "source": [
    "% Define the matrix of the system. Notation: d0 is the main diagonal;\n",
    "% dpn is \"main diagonal + n\" (superdiagonal n); dmn is \"main diagonal - n\" (subdiagonal n)\n",
    "d0 = 6*ones(1, N);\n",
    "dp1 = dm1 = -4*ones(1, N-1);\n",
    "dp2 = dm2 = ones(1, N-2);\n",
    "% Fixed left end\n",
    "d0(1) = 1.0; d0(2) = 7.0;\n",
    "dp1(1) = 0.0;\n",
    "dp2(1) = 0.0;\n",
    "dm1(1) = 0.0;\n",
    "dm2(1) = 0.0;\n",
    "% Fixed right end\n",
    "d0(N) = 1.0; d0(N-1) = 7.0;\n",
    "dp1(N-1) = 0.0;\n",
    "dp2(N-2) = 0.0;\n",
    "dm1(N-1) = 0.0;\n",
    "dm2(N-2) = 0.0;\n",
    "% Solve for y\n",
    "y = GaussElimPenta(dm2, dm1, d0, dp1, dp2, f);\n",
    "% Plots\n",
    "\n",
    "x = (0:h:L)';\n",
    "y_exact = -b*d*rho*g/(24*E*I)*x.^2.*(L - x).^2;\n",
    "ErrMax = max(abs(y-y_exact))"
   ]
  },
  {
   "cell_type": "markdown",
   "metadata": {},
   "source": [
    "## Both ends Pinned"
   ]
  },
  {
   "cell_type": "code",
   "execution_count": 3,
   "metadata": {},
   "outputs": [
    {
     "name": "stdout",
     "output_type": "stream",
     "text": [
      "ErrMax =    9.3123e-08\n"
     ]
    }
   ],
   "source": [
    "% Define the matrix of the system. Notation: d0 is the main diagonal;\n",
    "% dpn is \"main diagonal + n\" (superdiagonal n); dmn is \"main diagonal - n\" (subdiagonal n)\n",
    "d0 = 6*ones(1, N);\n",
    "dp1 = dm1 = -4*ones(1, N-1);\n",
    "dp2 = dm2 = ones(1, N-2);\n",
    "% Pinned left end\n",
    "d0(1) = 1.0; d0(2) = 5.0;\n",
    "dp1(1) = 0.0;\n",
    "dp2(1) = 0.0;\n",
    "dm1(1) = 0.0;\n",
    "dm2(1) = 0.0;\n",
    "% Pinned right end\n",
    "d0(N) = 1.0; d0(N-1) = 5.0;\n",
    "dp1(N-1) = 0.0;\n",
    "dp2(N-2) = 0.0;\n",
    "dm1(N-1) = 0.0;\n",
    "dm2(N-2) = 0.0;\n",
    "% Solve for y\n",
    "y = GaussElimPenta(dm2, dm1, d0, dp1, dp2, f);\n",
    "% Plots\n",
    "\n",
    "x = (0:h:L)';\n",
    "y_exact = -b*d*rho*g/(24*E*I)*x.*(L^3 - 2.*L*x.^2 + x.^3);\n",
    "\n",
    "ErrMax = max(abs(y-y_exact))"
   ]
  },
  {
   "cell_type": "markdown",
   "metadata": {},
   "source": [
    "## Left Fixed, Right Free"
   ]
  },
  {
   "cell_type": "code",
   "execution_count": 6,
   "metadata": {},
   "outputs": [],
   "source": [
    "\n",
    "% Define the matrix of the system. Notation: d0 is the main diagonal;\n",
    "% dpn is \"main diagonal + n\" (superdiagonal n); dmn is \"main diagonal - n\" (subdiagonal n)\n",
    "d0 = 6*ones(1, N);\n",
    "dp1 = dm1 = -4*ones(1, N-1);\n",
    "dp2 = dm2 = ones(1, N-2);\n",
    "% Fixed left end\n",
    "d0(1) = 1.0; d0(2) = 7.0;\n",
    "dp1(1) = 0.0;\n",
    "dp2(1) = 0.0;\n",
    "dm1(1) = 0.0;\n",
    "dm2(1) = 0.0;\n",
    "% Free right end\n",
    "d0(N) = 1.0; d0(N-1) = 5.0;\n",
    "dp1(N-1) = -2.0;\n",
    "dp2(N-2) = 1.0;\n",
    "dm1(N-1) = -2.0;\n",
    "dm2(N-2) = 1.0;\n",
    "% Solve for y\n",
    "y = GaussElimPenta(dm2, dm1, d0, dp1, dp2, f);\n",
    "% Plots\n",
    "\n",
    "x = (0:h:L)';\n",
    "y_exact = -b*d*rho*g/(24*E*I)*x.^2.*(6.*L^2 - 4.*L*x + x.^2);\n"
   ]
  },
  {
   "cell_type": "markdown",
   "metadata": {},
   "source": [
    "## Left Free, Right Pinned "
   ]
  },
  {
   "cell_type": "code",
   "execution_count": 5,
   "metadata": {},
   "outputs": [],
   "source": [
    "% Define the matrix of the system. Notation: d0 is the main diagonal;\n",
    "% dpn is \"main diagonal + n\" (superdiagonal n); dmn is \"main diagonal - n\" (subdiagonal n)\n",
    "d0 = 6*ones(1, N);\n",
    "dp1 = dm1 = -4*ones(1, N-1);\n",
    "dp2 = dm2 = ones(1, N-2);\n",
    "% Fixed left end\n",
    "d0(1) = 1.0; d0(2) = 7.0;\n",
    "dp1(1) = 0.0;\n",
    "dp2(1) = 0.0;\n",
    "dm1(1) = 0.0;\n",
    "dm2(1) = 0.0;\n",
    "% Pinned right end\n",
    "d0(N) = 1.0; d0(N-1) = 5.0;\n",
    "dp1(N-1) = 0.0;\n",
    "dp2(N-2) = 0.0;\n",
    "dm1(N-1) = 0.0;\n",
    "dm2(N-2) = 0.0;\n",
    "% Solve for y\n",
    "y = GaussElimPenta(dm2, dm1, d0, dp1, dp2, f);\n",
    "% Plots\n",
    "\n",
    "x = (0:h:L)';\n",
    "y_exact = -b*d*rho*g/(48*E*I)*x.^2.*(3.*L^2 - 5.*L*x + 2.*x.^2);"
   ]
  },
  {
   "cell_type": "code",
   "execution_count": 7,
   "metadata": {},
   "outputs": [
    {
     "data": {
      "image/png": "[encoded data removed]",
      "text/plain": [
       "<IPython.core.display.Image object>"
      ]
     },
     "metadata": {},
     "output_type": "display_data"
    }
   ],
   "source": [
    "subplot(2,1,1);\n",
    "plot(x, y, \"b*\", x, y_exact, \"r\")\n",
    "title('Deflection of the beam');\n",
    "xlabel('x'); ylabel('y (deflection)');\n",
    "grid on;\n",
    "subplot(2,1,2);\n",
    "plot(x, abs(y - y_exact), \"r\")\n",
    "title('Error: |computed - exact|');\n",
    "xlabel('x'); ylabel('Error');\n",
    "grid on;"
   ]
  },
  {
   "cell_type": "code",
   "execution_count": 2,
   "metadata": {},
   "outputs": [
    {
     "name": "stdout",
     "output_type": "stream",
     "text": [
      "ErrorsBothFixed =\n",
      "\n",
      "   3.8504e-03\n",
      "   9.6261e-04\n",
      "   4.2783e-04\n",
      "   2.4065e-04\n",
      "   1.5402e-04\n",
      "   1.0696e-04\n",
      "   7.8580e-05\n",
      "   6.0163e-05\n",
      "   4.7536e-05\n",
      "   3.8504e-05\n",
      "   3.1822e-05\n",
      "   2.6739e-05\n",
      "   2.2784e-05\n",
      "   1.9645e-05\n",
      "   1.7113e-05\n",
      "   1.5041e-05\n",
      "   1.3323e-05\n",
      "   1.1884e-05\n",
      "   1.0666e-05\n",
      "   9.6261e-06\n",
      "   8.7311e-06\n",
      "   7.9554e-06\n",
      "   7.2787e-06\n",
      "   6.6848e-06\n",
      "   6.1607e-06\n",
      "   5.6959e-06\n",
      "   5.2818e-06\n",
      "   4.9113e-06\n",
      "   4.5784e-06\n",
      "   4.2783e-06\n",
      "   4.0067e-06\n",
      "   3.7602e-06\n",
      "   3.5358e-06\n",
      "   3.3308e-06\n",
      "   3.1432e-06\n",
      "   2.9710e-06\n",
      "   2.8126e-06\n",
      "   2.6665e-06\n",
      "   2.5315e-06\n",
      "   2.4066e-06\n",
      "   2.2906e-06\n",
      "   2.1828e-06\n",
      "   2.0825e-06\n",
      "   1.9889e-06\n",
      "   1.9015e-06\n",
      "   1.8197e-06\n",
      "   1.7431e-06\n",
      "   1.6712e-06\n",
      "   1.6037e-06\n",
      "   1.5402e-06\n",
      "   1.4804e-06\n",
      "   1.4240e-06\n",
      "   1.3708e-06\n",
      "   1.3205e-06\n",
      "   1.2730e-06\n",
      "   1.2279e-06\n",
      "   1.1852e-06\n",
      "   1.1448e-06\n",
      "   1.1063e-06\n",
      "   1.0698e-06\n",
      "   1.0350e-06\n",
      "   1.0019e-06\n",
      "   9.7041e-07\n",
      "   9.4036e-07\n",
      "   9.1169e-07\n",
      "   8.8431e-07\n",
      "   8.5815e-07\n",
      "   8.3314e-07\n",
      "   8.0921e-07\n",
      "   7.8630e-07\n",
      "   7.6435e-07\n",
      "   7.4331e-07\n",
      "   7.2314e-07\n",
      "   7.0377e-07\n",
      "   6.8517e-07\n",
      "   6.6731e-07\n",
      "   6.5013e-07\n",
      "   6.3362e-07\n",
      "   6.1772e-07\n",
      "   6.0242e-07\n",
      "   5.8768e-07\n",
      "   5.7348e-07\n",
      "   5.5978e-07\n",
      "   5.4658e-07\n",
      "   5.3383e-07\n",
      "   5.2153e-07\n",
      "   5.0965e-07\n",
      "   4.9817e-07\n",
      "   4.8708e-07\n",
      "   4.7635e-07\n",
      "   4.6598e-07\n",
      "   4.5594e-07\n",
      "   4.4623e-07\n",
      "   4.3682e-07\n",
      "   4.2771e-07\n",
      "   4.1888e-07\n",
      "   4.1033e-07\n",
      "   4.0203e-07\n",
      "   3.9399e-07\n",
      "   3.8619e-07\n",
      "\n"
     ]
    }
   ],
   "source": [
    "\n",
    "% vector that contains error values\n",
    "ErrorsBothFixed = [];\n",
    "n = 10; % number of subintervals on [0, L]\n",
    "for i=1:100 \n",
    "    h = L/n; % discretization spacing\n",
    "    N = n + 1; % number of unknowns to be solved for\n",
    "\n",
    "    % Define the RHS of the system\n",
    "    f = -h^4/(E*I) * w * ones(N, 1);\n",
    "    f(1) = f(N) = 0;\n",
    "\n",
    "    % Define the matrix of the system. Notation: d0 is the main diagonal;\n",
    "    % dpn is \"main diagonal + n\" (superdiagonal n); dmn is \"main diagonal - n\" (subdiagonal n)\n",
    "    d0 = 6*ones(1, N);\n",
    "    dp1 = dm1 = -4*ones(1, N-1);\n",
    "    dp2 = dm2 = ones(1, N-2);\n",
    "    % Fixed left end\n",
    "    d0(1) = 1.0; d0(2) = 7.0;\n",
    "    dp1(1) = 0.0;\n",
    "    dp2(1) = 0.0;\n",
    "    dm1(1) = 0.0;\n",
    "    dm2(1) = 0.0;\n",
    "    % Fixed right end\n",
    "    d0(N) = 1.0; d0(N-1) = 7.0;\n",
    "    dp1(N-1) = 0.0;\n",
    "    dp2(N-2) = 0.0;\n",
    "    dm1(N-1) = 0.0;\n",
    "    dm2(N-2) = 0.0;\n",
    "    % Solve for y\n",
    "    y = GaussElimPenta(dm2, dm1, d0, dp1, dp2, f);\n",
    "    % Plots\n",
    "\n",
    "    x = (0:h:L)';\n",
    "    y_exact = -b*d*rho*g/(24*E*I)*x.^2.*(L - x).^2;\n",
    "    ErrorsBothFixed(i) = max(abs(y-y_exact));\n",
    "    n = n + 10;\n",
    "    N = n + 1;\n",
    "    \n",
    "    \n",
    "endfor\n",
    "\n",
    "ErrorsBothFixed = ErrorsBothFixed'"
   ]
  },
  {
   "cell_type": "code",
   "execution_count": null,
   "metadata": {},
   "outputs": [],
   "source": []
  }
 ],
 "metadata": {
  "kernelspec": {
   "display_name": "Octave",
   "language": "octave",
   "name": "octave"
  },
  "language_info": {
   "file_extension": ".m",
   "help_links": [
    {
     "text": "GNU Octave",
     "url": "https://www.gnu.org/software/octave/support.html"
    },
    {
     "text": "Octave Kernel",
     "url": "https://github.com/Calysto/octave_kernel"
    },
    {
     "text": "MetaKernel Magics",
     "url": "https://github.com/calysto/metakernel/blob/master/metakernel/magics/README.md"
    }
   ],
   "mimetype": "text/x-octave",
   "name": "octave",
   "version": "4.0.0"
  }
 },
 "nbformat": 4,
 "nbformat_minor": 2
}
