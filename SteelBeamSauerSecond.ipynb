{
 "cells": [
  {
   "cell_type": "markdown",
   "metadata": {},
   "source": [
    "#  This Jupyter Notebook contains the codes of various Euler Bernoulli Beam simulations\n"
   ]
  },
  {
   "cell_type": "markdown",
   "metadata": {},
   "source": [
    "## Constants definitions"
   ]
  },
  {
   "cell_type": "code",
   "execution_count": 6,
   "metadata": {},
   "outputs": [],
   "source": [
    "L = 10; % length = 10 m\n",
    "b = 0.1; % width = 10 cm\n",
    "d = 0.05; % height = 5 cm\n",
    "E = 2*10^11; % Young�s modulus for steel = 200 GPa = 2x10^11 Pa\n",
    "I = b*d^3/12; % second moment of inertia\n",
    "rho = 7850; % mass density of steel = 7850 kg/m^3\n",
    "g = 9.81; % acceleration due to gravity = 9.81 m/s^2\n",
    "w = rho*b*d*g; % weight of the beam per unit length (will be our f)\n",
    "n = 1280; % number of subintervals on [0, L]\n",
    "h = L/n; % discretization spacing\n",
    "N = n + 1; % number of unknowns to be solved for\n",
    "\n",
    "% Define the RHS of the system\n",
    "f = -h^4/(E*I) * w * ones(N, 1);\n",
    "f(1) = f(N) = 0;"
   ]
  },
  {
   "cell_type": "markdown",
   "metadata": {},
   "source": [
    "## Both ends fixed"
   ]
  },
  {
   "cell_type": "code",
   "execution_count": 7,
   "metadata": {},
   "outputs": [
    {
     "name": "stdout",
     "output_type": "stream",
     "text": [
      "ErrMax =   2.3818e-007\n"
     ]
    }
   ],
   "source": [
    "% Define the matrix of the system. Notation: d0 is the main diagonal;\n",
    "% dpn is \"main diagonal + n\" (superdiagonal n); dmn is \"main diagonal - n\" (subdiagonal n)\n",
    "d0 = 6*ones(1, N);\n",
    "dp1 = dm1 = -4*ones(1, N-1);\n",
    "dp2 = dm2 = ones(1, N-2);\n",
    "% Fixed left end\n",
    "d0(1) = 16.0; d0(2) = -9.0;\n",
    "dp1(1) = -9.0;\n",
    "dp2(1) = (4/3);\n",
    "dm1(1) = -4.0;\n",
    "dm2(1) = 1.0;\n",
    "\n",
    "% Fixed right end\n",
    "d0(N) = -12.0; d0(N-1) = 6.0;\n",
    "dp1(N-1) = -4.0;\n",
    "dp2(N-2) = 1.0;\n",
    "dm1(N-1) = -6.0;\n",
    "dm2(N-2) = (4/3);\n",
    "% Solve for y\n",
    "y = GaussElimPenta(dm2, dm1, d0, dp1, dp2, f);\n",
    "% Plots\n",
    "y\n",
    "x = (0:h:L)';\n",
    "y_exact = -b*d*rho*g/(24*E*I)*x.^2.*(L - x).^2;\n",
    "ErrMax = max(abs(y-y_exact))"
   ]
  },
  {
   "cell_type": "markdown",
   "metadata": {},
   "source": [
    "## Left Fixed, Right Free"
   ]
  },
  {
   "cell_type": "code",
   "execution_count": 9,
   "metadata": {},
   "outputs": [],
   "source": [
    "% TODO %"
   ]
  },
  {
   "cell_type": "markdown",
   "metadata": {},
   "source": [
    "## Left Free, Right Pinned "
   ]
  },
  {
   "cell_type": "code",
   "execution_count": 11,
   "metadata": {},
   "outputs": [
    {
     "data": {
      "image/png": "[encoded data removed]",
      "text/plain": [
       "<IPython.core.display.Image object>"
      ]
     },
     "metadata": {},
     "output_type": "display_data"
    }
   ],
   "source": [
    "subplot(2,1,1);\n",
    "plot(x, y, \"b*\", x, y_exact, \"r\")\n",
    "title('Deflection of the beam');\n",
    "xlabel('x'); ylabel('y (deflection)');\n",
    "grid on;\n",
    "subplot(2,1,2);\n",
    "plot(x, abs(y - y_exact), \"r\")\n",
    "title('Error: |computed - exact|');\n",
    "xlabel('x'); ylabel('Error');\n",
    "grid on;"
   ]
  },
  {
   "cell_type": "code",
   "execution_count": null,
   "metadata": {},
   "outputs": [],
   "source": []
  }
 ],
 "metadata": {
  "kernelspec": {
   "display_name": "Octave",
   "language": "octave",
   "name": "octave"
  },
  "language_info": {
   "file_extension": ".m",
   "help_links": [
    {
     "text": "GNU Octave",
     "url": "https://www.gnu.org/software/octave/support.html"
    },
    {
     "text": "Octave Kernel",
     "url": "https://github.com/Calysto/octave_kernel"
    },
    {
     "text": "MetaKernel Magics",
     "url": "https://github.com/calysto/metakernel/blob/master/metakernel/magics/README.md"
    }
   ],
   "mimetype": "text/x-octave",
   "name": "octave",
   "version": "4.2.0"
  }
 },
 "nbformat": 4,
 "nbformat_minor": 2
}
